{
 "cells": [
  {
   "cell_type": "markdown",
   "id": "a75cee63",
   "metadata": {},
   "source": [
    "# Flight_Price_Prediction_Project_Part_1 :-  Flip Robo Technologies   |   \n",
    "\n",
    "# Internship Batch No-31\n",
    "\n",
    "\n",
    "#### Submitted by: Tamali Saha (tamali428@gmail.com)\n",
    "\n",
    "## Problem Statement:"
   ]
  },
  {
   "cell_type": "markdown",
   "id": "801879b3",
   "metadata": {},
   "source": [
    "Anyone who has booked a flight ticket knows how unexpectedly the prices vary. The cheapest available ticket on a given flight gets more and less expensive over time. This usually happens as an attempt to maximize revenue based on -\n",
    "\n",
    "1. Time of purchase patterns (making sure last-minute purchases are expensive)\n",
    "2. Keeping the flight as full as they want it (raising prices on a flight which is filling up in order to reduce sales and hold back inventory for those expensive last-minute expensive purchases)\n",
    "\n",
    "So, you have to work on a project where you collect data of flight fares with other features and work to make a model to predict fares of flights.\n",
    "\n",
    "#### STEPS:\n",
    "1. Data Collection\n",
    "You have to scrape at least 1500 rows of data. You can scrape more data as well, it’s up to you, More the data better the model\n",
    "In this section you have to scrape the data of flights from different websites (yatra.com, skyscanner.com, official websites of airlines, etc). The number of columns for data doesn’t have limit, it’s up to you and your creativity. Generally, these columns areairline name, date of journey, source, destination, route, departure time, arrival time, duration, total stops and the target variable price. You can make changes to it, you can add or you can remove some columns, it completely depends on the website from which you are fetching the data.\n",
    "\n",
    "2. Data Analysis\n",
    "After cleaning the data, you have to do some analysis on the data. Do airfares change frequently? Do they move in small increments or in large jumps? Do they tend to go up or down over time? What is the best time to buy so that the consumer can save the most by taking the least risk? Does price increase as we get near to departure date? Is Indigo cheaper than Jet Airways? Are morning flights expensive?\n",
    "\n",
    "3. Model Building\n",
    "After collecting the data, you need to build a machine learning model. Before model building do all data pre-processing steps. Try different models with different hyper parameters and select the best model.\n",
    "Follow the complete life cycle of data science. Include all the steps like:\n",
    "1. Data Cleaning\n",
    "2. Exploratory Data Analysis\n",
    "3. Data Pre-processing\n",
    "4. Model Building\n",
    "5. Model Evaluation\n",
    "6. Selecting the best mode\n",
    "\n",
    "## Let's start Webscraping:"
   ]
  },
  {
   "cell_type": "markdown",
   "id": "c0241735",
   "metadata": {},
   "source": [
    "### Import Necessary libraries:"
   ]
  },
  {
   "cell_type": "code",
   "execution_count": 11,
   "id": "2324d70d",
   "metadata": {},
   "outputs": [],
   "source": [
    "import pandas as pd\n",
    "import numpy as np\n",
    "import warnings\n",
    "warnings.filterwarnings(\"ignore\")\n",
    "import time\n",
    "import selenium\n",
    "from selenium import webdriver\n",
    "from selenium.common.exceptions import StaleElementReferenceException, NoSuchElementException\n",
    "from selenium.webdriver.common.by import By\n",
    "from selenium.webdriver.support import expected_conditions as EC\n",
    "from selenium.webdriver.support.ui import WebDriverWait"
   ]
  },
  {
   "cell_type": "code",
   "execution_count": 12,
   "id": "595a806a",
   "metadata": {},
   "outputs": [],
   "source": [
    "driver=webdriver.Chrome(r'chromedriver.exe')"
   ]
  },
  {
   "cell_type": "code",
   "execution_count": 13,
   "id": "f8acac16",
   "metadata": {},
   "outputs": [],
   "source": [
    "url = \"https://www.yatra.com/\"\n",
    "driver.get(url)\n",
    "time.sleep(2)"
   ]
  },
  {
   "cell_type": "markdown",
   "id": "865dd518",
   "metadata": {},
   "source": [
    "## Let's check the flight price for KOLKATA to BANGALORE \n",
    "\n",
    "### For Economy Class:"
   ]
  },
  {
   "cell_type": "markdown",
   "id": "6865f65a",
   "metadata": {},
   "source": [
    "#### Opening Economy flights from Kolkata to Bangalore on 09 Jan 2023"
   ]
  },
  {
   "cell_type": "code",
   "execution_count": 14,
   "id": "94ffa948",
   "metadata": {},
   "outputs": [],
   "source": [
    "url='https://flight.yatra.com/air-search-ui/dom2/trigger?type=O&viewName=normal&flexi=0&noOfSegments=1&origin=CCU&originCountry=IN&destination=BLR&destinationCountry=IN&flight_depart_date=14%2F01%2F2023&ADT=1&CHD=0&INF=0&class=Business&source=fresco-home&unqvaldesktop=925089279228'\n",
    "driver.get(url)\n",
    "time.sleep(2)"
   ]
  },
  {
   "cell_type": "code",
   "execution_count": 14,
   "id": "3a1b45c5",
   "metadata": {},
   "outputs": [],
   "source": [
    "url = \"https://flight.yatra.com/air-search-ui/dom2/trigger?type=O&viewName=normal&flexi=0&noOfSegments=1&origin=CCU&originCountry=IN&destination=BLR&destinationCountry=IN&flight_depart_date=09%2F01%2F2023&ADT=1&CHD=0&INF=0&class=Economy&source=fresco-home&unqvaldesktop=1370008031346\"\n",
    "driver.get(url)\n",
    "time.sleep(2)"
   ]
  },
  {
   "cell_type": "code",
   "execution_count": 25,
   "id": "215bf0a8",
   "metadata": {},
   "outputs": [],
   "source": [
    "airlines_name = []\n",
    "class_of_journey=[]\n",
    "date = []\n",
    "source = []\n",
    "destination=[]\n",
    "departure_time =[]\n",
    "arrival_time=[]\n",
    "duration=[]\n",
    "total_stops =[]\n",
    "price=[]\n",
    "aeroplane_model= []"
   ]
  },
  {
   "cell_type": "code",
   "execution_count": 26,
   "id": "1615ab28",
   "metadata": {},
   "outputs": [
    {
     "name": "stderr",
     "output_type": "stream",
     "text": [
      "100%|██████████| 80/80 [00:32<00:00,  2.46it/s]\n"
     ]
    }
   ],
   "source": [
    "from tqdm import tqdm\n",
    "for _ in tqdm (range(0,80)):\n",
    "    time.sleep(0.1)\n",
    "    driver.execute_script(\"window.scrollBy(0,2000)\",\"\")\n",
    "    time.sleep(0.2)\n",
    "    driver.execute_script(\"window.scrollBy(0,-500)\",\"\")"
   ]
  },
  {
   "cell_type": "code",
   "execution_count": 27,
   "id": "0ae6b779",
   "metadata": {},
   "outputs": [
    {
     "data": {
      "text/plain": [
       "113"
      ]
     },
     "execution_count": 27,
     "metadata": {},
     "output_type": "execute_result"
    }
   ],
   "source": [
    "flights=driver.find_elements(By.XPATH, '//div[@class=\"flight-det table full-width clearfix\"]')\n",
    "flightlength = len(flights)\n",
    "flightlength"
   ]
  },
  {
   "cell_type": "code",
   "execution_count": 28,
   "id": "04b7ff12",
   "metadata": {},
   "outputs": [
    {
     "name": "stderr",
     "output_type": "stream",
     "text": [
      "100%|██████████| 113/113 [00:02<00:00, 40.60it/s]\n",
      "100%|██████████| 113/113 [00:03<00:00, 32.50it/s]\n",
      "100%|██████████| 113/113 [00:03<00:00, 30.13it/s]\n",
      "100%|██████████| 113/113 [00:03<00:00, 31.50it/s]\n",
      "100%|██████████| 113/113 [00:03<00:00, 28.97it/s]\n",
      "100%|██████████| 113/113 [00:04<00:00, 25.70it/s]\n",
      "100%|██████████| 113/113 [00:04<00:00, 23.67it/s]\n",
      "100%|██████████| 113/113 [00:04<00:00, 24.65it/s]\n"
     ]
    }
   ],
   "source": [
    "# Extracting Airlines Name Via Xpath\n",
    "airlines = driver.find_elements(By.XPATH,\"//div[@class='fs-13 airline-name no-pad col-8']/span\")\n",
    "for i in airlines:\n",
    "    airlines_name.append(i.text.replace(\"\\n\",\" \"))\n",
    "else :\n",
    "    pass\n",
    "\n",
    "# Extracting class of journey via xpath\n",
    "d=[]\n",
    "model = driver.find_elements(By.XPATH,'//div[@class=\"bdr-btm drop-down bold fs-16 cursor-pointer full-width\"]/span/span[3]')\n",
    "for i in model:\n",
    "    d.append(i.text) \n",
    "else:\n",
    "    pass\n",
    "class_of_journey= d* flightlength\n",
    "\n",
    "# Extracting Source of flight via Xpath\n",
    "sou = driver.find_elements(By.XPATH,\"//div[@class='i-b col-4 no-wrap text-right dtime col-3']/p\")\n",
    "for i in tqdm(sou):\n",
    "    source.append(i.text)\n",
    "else :\n",
    "    pass\n",
    "\n",
    "# Extracting Destination of Flights via Xpath\n",
    "dest = driver.find_elements(By.XPATH,'//div[@class=\"i-b pdd-0 text-left atime col-5\"]/p[2]')\n",
    "for i in tqdm(dest):\n",
    "    destination.append(i.text)\n",
    "else:\n",
    "    pass\n",
    "\n",
    "# Extracting Departure Time of Filght via Xpath\n",
    "dept_time = driver.find_elements(By.XPATH,'//div[@class=\"i-b pr\"]')\n",
    "for i in tqdm(dept_time):\n",
    "    departure_time.append(i.text)\n",
    "else :\n",
    "    pass\n",
    "\n",
    "# Extracting Arrival Time via xpath\n",
    "arr_time = driver.find_elements(By.XPATH,'//p[@class=\"bold fs-15 mb-2 pr time\"]')\n",
    "for i in tqdm(arr_time):\n",
    "    arrival_time.append(i.text)\n",
    "else :\n",
    "    pass\n",
    "\n",
    "# Extracting Duration of Flights via Xpath\n",
    "dur = driver.find_elements(By.XPATH,'//div[@class=\"stop-cont pl-13\"]/p')\n",
    "for i in tqdm(dur):\n",
    "    duration.append(i.text)\n",
    "else:\n",
    "    pass\n",
    "\n",
    "# Extracting stop details via Xpath\n",
    "stop = driver.find_elements(By.XPATH,\"//div[@class='stop-cont pl-13']/div/span\")\n",
    "for i in tqdm(stop):\n",
    "    total_stops.append(i.text)\n",
    "else:\n",
    "    pass\n",
    "\n",
    "# Extracting Price of Flights via Xpath\n",
    "p = driver.find_elements(By.XPATH,'//div[@class=\"i-b tipsy fare-summary-tooltip fs-18\"]')\n",
    "for i in tqdm(p):\n",
    "    price.append(i.text.replace(',',''))\n",
    "else:\n",
    "    pass\n",
    "\n",
    "# Extracting Aeroplane model  via xpath\n",
    "model = driver.find_elements(By.XPATH,'//p[@class=\"normal fs-11 font-lightestgrey no-wrap fl-no\"]/span')\n",
    "for i in tqdm(model):\n",
    "    aeroplane_model.append(i.text) \n",
    "else:\n",
    "    pass\n",
    "\n",
    "# Extracting date of journey via xpath\n",
    "d=[]\n",
    "model = driver.find_elements(By.XPATH,'/html/body/section[2]/section/section[2]/section[1]/div[1]/div/div[1]/div/ul/li[2]/div/p[1]')\n",
    "for i in model:\n",
    "    d.append(i.text) \n",
    "else:\n",
    "    pass\n",
    "date= d* flightlength"
   ]
  },
  {
   "cell_type": "code",
   "execution_count": 29,
   "id": "3b8c784b",
   "metadata": {},
   "outputs": [
    {
     "data": {
      "text/plain": [
       "(113, 113, 113, 113, 113, 113, 113, 113, 113, 113)"
      ]
     },
     "execution_count": 29,
     "metadata": {},
     "output_type": "execute_result"
    }
   ],
   "source": [
    "len(date), len (class_of_journey), len(airlines_name), len(source), len(destination), len(departure_time), len(arrival_time), len(duration), len(total_stops),len(price), len(aeroplane_model)"
   ]
  },
  {
   "cell_type": "markdown",
   "id": "947c7d38",
   "metadata": {},
   "source": [
    "### In this way , let's scrape all flight details from Yatra.com website for economy, premium Ecomony and Business class.\n",
    "### From Next sets of data same cod Re-run again and again."
   ]
  },
  {
   "cell_type": "markdown",
   "id": "e349bd08",
   "metadata": {},
   "source": [
    "#### Opening Economy flights from Kolkata to Bangalore on 18 Jan 2023"
   ]
  },
  {
   "cell_type": "code",
   "execution_count": 30,
   "id": "c9e0ddff",
   "metadata": {},
   "outputs": [],
   "source": [
    "url = \"https://flight.yatra.com/air-search-ui/dom2/trigger?ADT=1&CHD=0&INF=0&class=Economy&destination=BLR&destinationCountry=IN&flexi=0&flight_depart_date=18%2F01%2F2023&hb=0&noOfSegments=1&origin=CCU&originCountry=IN&type=O&unique=457562374801&version=1.1&viewName=normal\"\n",
    "driver.get(url)\n",
    "time.sleep(2)"
   ]
  },
  {
   "cell_type": "code",
   "execution_count": 32,
   "id": "559c4504",
   "metadata": {},
   "outputs": [
    {
     "name": "stderr",
     "output_type": "stream",
     "text": [
      "100%|██████████| 100/100 [00:42<00:00,  2.34it/s]\n"
     ]
    }
   ],
   "source": [
    "from tqdm import tqdm\n",
    "for _ in tqdm (range(0,100)):\n",
    "    time.sleep(0.1)\n",
    "    driver.execute_script(\"window.scrollBy(0,2000)\",\"\")\n",
    "    time.sleep(0.2)\n",
    "    driver.execute_script(\"window.scrollBy(0,-500)\",\"\")"
   ]
  },
  {
   "cell_type": "code",
   "execution_count": 33,
   "id": "469f7dd5",
   "metadata": {},
   "outputs": [
    {
     "data": {
      "text/plain": [
       "125"
      ]
     },
     "execution_count": 33,
     "metadata": {},
     "output_type": "execute_result"
    }
   ],
   "source": [
    "flights=driver.find_elements(By.XPATH, '//div[@class=\"flight-det table full-width clearfix\"]')\n",
    "flightlength = len(flights)\n",
    "flightlength"
   ]
  },
  {
   "cell_type": "code",
   "execution_count": 34,
   "id": "71bd294b",
   "metadata": {},
   "outputs": [
    {
     "name": "stderr",
     "output_type": "stream",
     "text": [
      "100%|██████████| 125/125 [00:02<00:00, 42.98it/s]\n",
      "100%|██████████| 125/125 [00:03<00:00, 36.68it/s]\n",
      "100%|██████████| 125/125 [00:04<00:00, 29.45it/s]\n",
      "100%|██████████| 125/125 [00:03<00:00, 31.69it/s]\n",
      "100%|██████████| 125/125 [00:04<00:00, 29.28it/s]\n",
      "100%|██████████| 125/125 [00:04<00:00, 27.06it/s]\n",
      "100%|██████████| 125/125 [00:05<00:00, 24.14it/s]\n",
      "100%|██████████| 125/125 [00:05<00:00, 24.96it/s]\n"
     ]
    }
   ],
   "source": [
    "# Extracting Airlines Name Via Xpath\n",
    "airlines = driver.find_elements(By.XPATH,\"//div[@class='fs-13 airline-name no-pad col-8']/span\")\n",
    "for i in airlines:\n",
    "    airlines_name.append(i.text.replace(\"\\n\",\" \"))\n",
    "else :\n",
    "    pass\n",
    "\n",
    "# Extracting class of journey via xpath\n",
    "d=[]\n",
    "model = driver.find_elements(By.XPATH,'//div[@class=\"bdr-btm drop-down bold fs-16 cursor-pointer full-width\"]/span/span[3]')\n",
    "for i in model:\n",
    "    d.append(i.text) \n",
    "else:\n",
    "    pass\n",
    "class_of_journey= d* flightlength\n",
    "\n",
    "# Extracting Source of flight via Xpath\n",
    "sou = driver.find_elements(By.XPATH,\"//div[@class='i-b col-4 no-wrap text-right dtime col-3']/p\")\n",
    "for i in tqdm(sou):\n",
    "    source.append(i.text)\n",
    "else :\n",
    "    pass\n",
    "\n",
    "# Extracting Destination of Flights via Xpath\n",
    "dest = driver.find_elements(By.XPATH,'//div[@class=\"i-b pdd-0 text-left atime col-5\"]/p[2]')\n",
    "for i in tqdm(dest):\n",
    "    destination.append(i.text)\n",
    "else:\n",
    "    pass\n",
    "\n",
    "# Extracting Departure Time of Filght via Xpath\n",
    "dept_time = driver.find_elements(By.XPATH,'//div[@class=\"i-b pr\"]')\n",
    "for i in tqdm(dept_time):\n",
    "    departure_time.append(i.text)\n",
    "else :\n",
    "    pass\n",
    "\n",
    "# Extracting Arrival Time via xpath\n",
    "arr_time = driver.find_elements(By.XPATH,'//p[@class=\"bold fs-15 mb-2 pr time\"]')\n",
    "for i in tqdm(arr_time):\n",
    "    arrival_time.append(i.text)\n",
    "else :\n",
    "    pass\n",
    "\n",
    "# Extracting Duration of Flights via Xpath\n",
    "dur = driver.find_elements(By.XPATH,'//div[@class=\"stop-cont pl-13\"]/p')\n",
    "for i in tqdm(dur):\n",
    "    duration.append(i.text)\n",
    "else:\n",
    "    pass\n",
    "\n",
    "# Extracting stop details via Xpath\n",
    "stop = driver.find_elements(By.XPATH,\"//div[@class='stop-cont pl-13']/div/span\")\n",
    "for i in tqdm(stop):\n",
    "    total_stops.append(i.text)\n",
    "else:\n",
    "    pass\n",
    "\n",
    "# Extracting Price of Flights via Xpath\n",
    "p = driver.find_elements(By.XPATH,'//div[@class=\"i-b tipsy fare-summary-tooltip fs-18\"]')\n",
    "for i in tqdm(p):\n",
    "    price.append(i.text.replace(',',''))\n",
    "else:\n",
    "    pass\n",
    "\n",
    "# Extracting Aeroplane model  via xpath\n",
    "model = driver.find_elements(By.XPATH,'//p[@class=\"normal fs-11 font-lightestgrey no-wrap fl-no\"]/span')\n",
    "for i in tqdm(model):\n",
    "    aeroplane_model.append(i.text) \n",
    "else:\n",
    "    pass\n",
    "\n",
    "# Extracting date of journey via xpath\n",
    "d=[]\n",
    "model = driver.find_elements(By.XPATH,'/html/body/section[2]/section/section[2]/section[1]/div[1]/div/div[1]/div/ul/li[11]/div/p[1]')\n",
    "for i in model:\n",
    "    d.append(i.text) \n",
    "else:\n",
    "    pass\n",
    "date1 = d* flightlength\n",
    "date= date+date1"
   ]
  },
  {
   "cell_type": "code",
   "execution_count": 46,
   "id": "1023380e",
   "metadata": {},
   "outputs": [
    {
     "data": {
      "text/plain": [
       "(238, 238, 238, 238, 238, 238, 238, 238, 238, 238)"
      ]
     },
     "execution_count": 46,
     "metadata": {},
     "output_type": "execute_result"
    }
   ],
   "source": [
    "len(date),len(class_of_journey), len(airlines_name), len(source), len(destination), len(departure_time), len(arrival_time), len(duration), len(total_stops),len(price), len(aeroplane_model)"
   ]
  },
  {
   "cell_type": "markdown",
   "id": "681ee6ba",
   "metadata": {},
   "source": [
    "#### Opening Economy flights from Kolkata to Bangalore on 23 Jan 2023"
   ]
  },
  {
   "cell_type": "code",
   "execution_count": 47,
   "id": "7ff602c0",
   "metadata": {},
   "outputs": [],
   "source": [
    "url = \"https://flight.yatra.com/air-search-ui/dom2/trigger?ADT=1&CHD=0&INF=0&class=Economy&destination=BLR&destinationCountry=IN&flexi=0&flight_depart_date=23%2F01%2F2023&hb=0&noOfSegments=1&origin=CCU&originCountry=IN&type=O&unique=582949407610&version=1.1&viewName=normal\"\n",
    "driver.get(url)\n",
    "time.sleep(2)"
   ]
  },
  {
   "cell_type": "code",
   "execution_count": 48,
   "id": "559a3105",
   "metadata": {},
   "outputs": [
    {
     "name": "stderr",
     "output_type": "stream",
     "text": [
      "100%|██████████| 100/100 [00:43<00:00,  2.28it/s]\n"
     ]
    }
   ],
   "source": [
    "from tqdm import tqdm\n",
    "for _ in tqdm (range(0,100)):\n",
    "    time.sleep(0.1)\n",
    "    driver.execute_script(\"window.scrollBy(0,2000)\",\"\")\n",
    "    time.sleep(0.2)\n",
    "    driver.execute_script(\"window.scrollBy(0,-500)\",\"\")"
   ]
  },
  {
   "cell_type": "code",
   "execution_count": 49,
   "id": "786e1e05",
   "metadata": {},
   "outputs": [
    {
     "data": {
      "text/plain": [
       "123"
      ]
     },
     "execution_count": 49,
     "metadata": {},
     "output_type": "execute_result"
    }
   ],
   "source": [
    "flights=driver.find_elements(By.XPATH, '//div[@class=\"flight-det table full-width clearfix\"]')\n",
    "flightlength = len(flights)\n",
    "flightlength"
   ]
  },
  {
   "cell_type": "code",
   "execution_count": 53,
   "id": "9bdf976b",
   "metadata": {},
   "outputs": [
    {
     "name": "stderr",
     "output_type": "stream",
     "text": [
      "100%|██████████| 123/123 [00:03<00:00, 39.64it/s]\n",
      "100%|██████████| 123/123 [00:03<00:00, 31.17it/s]\n",
      "100%|██████████| 123/123 [00:03<00:00, 31.22it/s]\n",
      "100%|██████████| 123/123 [00:03<00:00, 30.83it/s]\n",
      "100%|██████████| 123/123 [00:04<00:00, 29.51it/s]\n",
      "100%|██████████| 123/123 [00:04<00:00, 24.98it/s]\n",
      "100%|██████████| 123/123 [00:04<00:00, 27.09it/s]\n",
      "100%|██████████| 123/123 [00:04<00:00, 26.33it/s]\n"
     ]
    }
   ],
   "source": [
    "# Extracting Airlines Name Via Xpath\n",
    "airlines = driver.find_elements(By.XPATH,\"//div[@class='fs-13 airline-name no-pad col-8']/span\")\n",
    "for i in airlines:\n",
    "    airlines_name.append(i.text.replace(\"\\n\",\" \"))\n",
    "else :\n",
    "    pass\n",
    "\n",
    "# Extracting class of journey via xpath\n",
    "d=[]\n",
    "model = driver.find_elements(By.XPATH,'//div[@class=\"bdr-btm drop-down bold fs-16 cursor-pointer full-width\"]/span/span[3]')\n",
    "for i in model:\n",
    "    d.append(i.text) \n",
    "else:\n",
    "    pass\n",
    "class_of_journey= d* flightlength\n",
    "\n",
    "# Extracting Source of flight via Xpath\n",
    "sou = driver.find_elements(By.XPATH,\"//div[@class='i-b col-4 no-wrap text-right dtime col-3']/p\")\n",
    "for i in tqdm(sou):\n",
    "    source.append(i.text)\n",
    "else :\n",
    "    pass\n",
    "\n",
    "# Extracting Destination of Flights via Xpath\n",
    "dest = driver.find_elements(By.XPATH,'//div[@class=\"i-b pdd-0 text-left atime col-5\"]/p[2]')\n",
    "for i in tqdm(dest):\n",
    "    destination.append(i.text)\n",
    "else:\n",
    "    pass\n",
    "\n",
    "# Extracting Departure Time of Filght via Xpath\n",
    "dept_time = driver.find_elements(By.XPATH,'//div[@class=\"i-b pr\"]')\n",
    "for i in tqdm(dept_time):\n",
    "    departure_time.append(i.text)\n",
    "else :\n",
    "    pass\n",
    "\n",
    "# Extracting Arrival Time via xpath\n",
    "arr_time = driver.find_elements(By.XPATH,'//p[@class=\"bold fs-15 mb-2 pr time\"]')\n",
    "for i in tqdm(arr_time):\n",
    "    arrival_time.append(i.text)\n",
    "else :\n",
    "    pass\n",
    "\n",
    "# Extracting Duration of Flights via Xpath\n",
    "dur = driver.find_elements(By.XPATH,'//div[@class=\"stop-cont pl-13\"]/p')\n",
    "for i in tqdm(dur):\n",
    "    duration.append(i.text)\n",
    "else:\n",
    "    pass\n",
    "\n",
    "# Extracting stop details via Xpath\n",
    "stop = driver.find_elements(By.XPATH,\"//div[@class='stop-cont pl-13']/div/span\")\n",
    "for i in tqdm(stop):\n",
    "    total_stops.append(i.text)\n",
    "else:\n",
    "    pass\n",
    "\n",
    "# Extracting Price of Flights via Xpath\n",
    "p = driver.find_elements(By.XPATH,'//div[@class=\"i-b tipsy fare-summary-tooltip fs-18\"]')\n",
    "for i in tqdm(p):\n",
    "    price.append(i.text.replace(',',''))\n",
    "else:\n",
    "    pass\n",
    "\n",
    "# Extracting Aeroplane model  via xpath\n",
    "model = driver.find_elements(By.XPATH,'//p[@class=\"normal fs-11 font-lightestgrey no-wrap fl-no\"]/span')\n",
    "for i in tqdm(model):\n",
    "    aeroplane_model.append(i.text) \n",
    "else:\n",
    "    pass\n",
    "\n",
    "# Extracting date of journey via xpath\n",
    "d=[]\n",
    "model = driver.find_elements(By.XPATH,'/html/body/section[2]/section/section[2]/section[1]/div[1]/div/div[1]/div/ul/li[11]/div/p[1]')\n",
    "for i in model:\n",
    "    d.append(i.text) \n",
    "else:\n",
    "    pass\n",
    "date1 = d* flightlength\n",
    "date= date+date1"
   ]
  },
  {
   "cell_type": "code",
   "execution_count": 54,
   "id": "998d5b4f",
   "metadata": {},
   "outputs": [
    {
     "data": {
      "text/plain": [
       "(361, 361, 361, 361, 361, 361, 361, 361, 361, 361)"
      ]
     },
     "execution_count": 54,
     "metadata": {},
     "output_type": "execute_result"
    }
   ],
   "source": [
    "len(date),len(class_of_journey), len(airlines_name), len(source), len(destination), len(departure_time), len(arrival_time), len(duration), len(total_stops),len(price), len(aeroplane_model)"
   ]
  },
  {
   "cell_type": "markdown",
   "id": "56b72fd1",
   "metadata": {},
   "source": [
    "#### Opening Economy flights from Kolkata to Bangalore on 28 Jan 2023"
   ]
  },
  {
   "cell_type": "code",
   "execution_count": 56,
   "id": "50348153",
   "metadata": {},
   "outputs": [],
   "source": [
    "url = \"https://flight.yatra.com/air-search-ui/dom2/trigger?ADT=1&CHD=0&INF=0&class=Economy&destination=BLR&destinationCountry=IN&flexi=0&flight_depart_date=28%2F01%2F2023&hb=0&noOfSegments=1&origin=CCU&originCountry=IN&type=O&unique=1662844715540&version=1.1&viewName=normal\"\n",
    "driver.get(url)\n",
    "time.sleep(2)"
   ]
  },
  {
   "cell_type": "code",
   "execution_count": 57,
   "id": "cbe1bfcb",
   "metadata": {},
   "outputs": [
    {
     "name": "stderr",
     "output_type": "stream",
     "text": [
      "100%|██████████| 100/100 [00:56<00:00,  1.77it/s]\n"
     ]
    }
   ],
   "source": [
    "from tqdm import tqdm\n",
    "for _ in tqdm (range(0,100)):\n",
    "    time.sleep(0.1)\n",
    "    driver.execute_script(\"window.scrollBy(0,2000)\",\"\")\n",
    "    time.sleep(0.2)\n",
    "    driver.execute_script(\"window.scrollBy(0,-500)\",\"\")"
   ]
  },
  {
   "cell_type": "code",
   "execution_count": 58,
   "id": "017da518",
   "metadata": {},
   "outputs": [
    {
     "data": {
      "text/plain": [
       "120"
      ]
     },
     "execution_count": 58,
     "metadata": {},
     "output_type": "execute_result"
    }
   ],
   "source": [
    "flights=driver.find_elements(By.XPATH, '//div[@class=\"flight-det table full-width clearfix\"]')\n",
    "flightlength = len(flights)\n",
    "flightlength"
   ]
  },
  {
   "cell_type": "code",
   "execution_count": 62,
   "id": "0ac4ea2c",
   "metadata": {},
   "outputs": [
    {
     "name": "stderr",
     "output_type": "stream",
     "text": [
      "100%|██████████| 120/120 [00:03<00:00, 30.95it/s]\n",
      "100%|██████████| 120/120 [00:03<00:00, 35.74it/s]\n",
      "100%|██████████| 120/120 [00:03<00:00, 35.15it/s]\n",
      "100%|██████████| 120/120 [00:03<00:00, 31.50it/s]\n",
      "100%|██████████| 120/120 [00:04<00:00, 26.69it/s]\n",
      "100%|██████████| 120/120 [00:04<00:00, 27.27it/s]\n",
      "100%|██████████| 120/120 [00:04<00:00, 26.43it/s]\n",
      "100%|██████████| 120/120 [00:04<00:00, 25.18it/s]\n"
     ]
    }
   ],
   "source": [
    "# Extracting Airlines Name Via Xpath\n",
    "airlines = driver.find_elements(By.XPATH,\"//div[@class='fs-13 airline-name no-pad col-8']/span\")\n",
    "for i in airlines:\n",
    "    airlines_name.append(i.text.replace(\"\\n\",\" \"))\n",
    "else :\n",
    "    pass\n",
    "\n",
    "# Extracting class of journey via xpath\n",
    "d=[]\n",
    "model = driver.find_elements(By.XPATH,'//div[@class=\"bdr-btm drop-down bold fs-16 cursor-pointer full-width\"]/span/span[3]')\n",
    "for i in model:\n",
    "    d.append(i.text) \n",
    "else:\n",
    "    pass\n",
    "class_of_journey= d* flightlength\n",
    "\n",
    "# Extracting Source of flight via Xpath\n",
    "sou = driver.find_elements(By.XPATH,\"//div[@class='i-b col-4 no-wrap text-right dtime col-3']/p\")\n",
    "for i in tqdm(sou):\n",
    "    source.append(i.text)\n",
    "else :\n",
    "    pass\n",
    "\n",
    "# Extracting Destination of Flights via Xpath\n",
    "dest = driver.find_elements(By.XPATH,'//div[@class=\"i-b pdd-0 text-left atime col-5\"]/p[2]')\n",
    "for i in tqdm(dest):\n",
    "    destination.append(i.text)\n",
    "else:\n",
    "    pass\n",
    "\n",
    "# Extracting Departure Time of Filght via Xpath\n",
    "dept_time = driver.find_elements(By.XPATH,'//div[@class=\"i-b pr\"]')\n",
    "for i in tqdm(dept_time):\n",
    "    departure_time.append(i.text)\n",
    "else :\n",
    "    pass\n",
    "\n",
    "# Extracting Arrival Time via xpath\n",
    "arr_time = driver.find_elements(By.XPATH,'//p[@class=\"bold fs-15 mb-2 pr time\"]')\n",
    "for i in tqdm(arr_time):\n",
    "    arrival_time.append(i.text)\n",
    "else :\n",
    "    pass\n",
    "\n",
    "# Extracting Duration of Flights via Xpath\n",
    "dur = driver.find_elements(By.XPATH,'//div[@class=\"stop-cont pl-13\"]/p')\n",
    "for i in tqdm(dur):\n",
    "    duration.append(i.text)\n",
    "else:\n",
    "    pass\n",
    "\n",
    "# Extracting stop details via Xpath\n",
    "stop = driver.find_elements(By.XPATH,\"//div[@class='stop-cont pl-13']/div/span\")\n",
    "for i in tqdm(stop):\n",
    "    total_stops.append(i.text)\n",
    "else:\n",
    "    pass\n",
    "\n",
    "# Extracting Price of Flights via Xpath\n",
    "p = driver.find_elements(By.XPATH,'//div[@class=\"i-b tipsy fare-summary-tooltip fs-18\"]')\n",
    "for i in tqdm(p):\n",
    "    price.append(i.text.replace(',',''))\n",
    "else:\n",
    "    pass\n",
    "\n",
    "# Extracting Aeroplane model  via xpath\n",
    "model = driver.find_elements(By.XPATH,'//p[@class=\"normal fs-11 font-lightestgrey no-wrap fl-no\"]/span')\n",
    "for i in tqdm(model):\n",
    "    aeroplane_model.append(i.text) \n",
    "else:\n",
    "    pass\n",
    "\n",
    "# Extracting date of journey via xpath\n",
    "d=[]\n",
    "model = driver.find_elements(By.XPATH,'/html/body/section[2]/section/section[2]/section[1]/div[1]/div/div[1]/div/ul/li[11]/div/p[1]')\n",
    "for i in model:\n",
    "    d.append(i.text) \n",
    "else:\n",
    "    pass\n",
    "date1 = d* flightlength\n",
    "date= date+date1"
   ]
  },
  {
   "cell_type": "code",
   "execution_count": 63,
   "id": "cfb5bb37",
   "metadata": {},
   "outputs": [
    {
     "data": {
      "text/plain": [
       "(481, 481, 481, 481, 481, 481, 481, 481, 481, 481)"
      ]
     },
     "execution_count": 63,
     "metadata": {},
     "output_type": "execute_result"
    }
   ],
   "source": [
    "len(date),len(class_of_journey), len(airlines_name), len(source), len(destination), len(departure_time), len(arrival_time), len(duration), len(total_stops),len(price), len(aeroplane_model)"
   ]
  },
  {
   "cell_type": "markdown",
   "id": "28f3a22d",
   "metadata": {},
   "source": [
    "#### Opening Economy flights from Kolkata to Bangalore on 01 February 2023"
   ]
  },
  {
   "cell_type": "code",
   "execution_count": 64,
   "id": "17cae356",
   "metadata": {},
   "outputs": [],
   "source": [
    "url = \"https://flight.yatra.com/air-search-ui/dom2/trigger?ADT=1&CHD=0&INF=0&class=Economy&destination=BLR&destinationCountry=IN&flexi=0&flight_depart_date=01%2F02%2F2023&hb=0&noOfSegments=1&origin=CCU&originCountry=IN&type=O&unique=229893088499&version=1.1&viewName=normal\"\n",
    "driver.get(url)\n",
    "time.sleep(2)"
   ]
  },
  {
   "cell_type": "code",
   "execution_count": 65,
   "id": "bbd90945",
   "metadata": {},
   "outputs": [
    {
     "name": "stderr",
     "output_type": "stream",
     "text": [
      "100%|██████████| 100/100 [00:42<00:00,  2.33it/s]\n"
     ]
    }
   ],
   "source": [
    "from tqdm import tqdm\n",
    "for _ in tqdm (range(0,100)):\n",
    "    time.sleep(0.1)\n",
    "    driver.execute_script(\"window.scrollBy(0,2000)\",\"\")\n",
    "    time.sleep(0.2)\n",
    "    driver.execute_script(\"window.scrollBy(0,-500)\",\"\")"
   ]
  },
  {
   "cell_type": "code",
   "execution_count": 66,
   "id": "44f54c21",
   "metadata": {},
   "outputs": [
    {
     "data": {
      "text/plain": [
       "125"
      ]
     },
     "execution_count": 66,
     "metadata": {},
     "output_type": "execute_result"
    }
   ],
   "source": [
    "flights=driver.find_elements(By.XPATH, '//div[@class=\"flight-det table full-width clearfix\"]')\n",
    "flightlength = len(flights)\n",
    "flightlength"
   ]
  },
  {
   "cell_type": "code",
   "execution_count": 67,
   "id": "881e89f4",
   "metadata": {},
   "outputs": [
    {
     "name": "stderr",
     "output_type": "stream",
     "text": [
      "100%|██████████| 125/125 [00:03<00:00, 41.04it/s]\n",
      "100%|██████████| 125/125 [00:04<00:00, 30.09it/s]\n",
      "100%|██████████| 125/125 [00:04<00:00, 30.31it/s]\n",
      "100%|██████████| 125/125 [00:04<00:00, 28.67it/s]\n",
      "100%|██████████| 125/125 [00:04<00:00, 29.15it/s]\n",
      "100%|██████████| 125/125 [00:05<00:00, 23.68it/s]\n",
      "100%|██████████| 125/125 [00:04<00:00, 25.52it/s]\n",
      "100%|██████████| 125/125 [00:05<00:00, 24.25it/s]\n"
     ]
    }
   ],
   "source": [
    "# Extracting Airlines Name Via Xpath\n",
    "airlines = driver.find_elements(By.XPATH,\"//div[@class='fs-13 airline-name no-pad col-8']/span\")\n",
    "for i in airlines:\n",
    "    airlines_name.append(i.text.replace(\"\\n\",\" \"))\n",
    "else :\n",
    "    pass\n",
    "\n",
    "# Extracting class of journey via xpath\n",
    "d=[]\n",
    "model = driver.find_elements(By.XPATH,'//div[@class=\"bdr-btm drop-down bold fs-16 cursor-pointer full-width\"]/span/span[3]')\n",
    "for i in model:\n",
    "    d.append(i.text) \n",
    "else:\n",
    "    pass\n",
    "class_of_journey= d* flightlength\n",
    "\n",
    "# Extracting Source of flight via Xpath\n",
    "sou = driver.find_elements(By.XPATH,\"//div[@class='i-b col-4 no-wrap text-right dtime col-3']/p\")\n",
    "for i in tqdm(sou):\n",
    "    source.append(i.text)\n",
    "else :\n",
    "    pass\n",
    "\n",
    "# Extracting Destination of Flights via Xpath\n",
    "dest = driver.find_elements(By.XPATH,'//div[@class=\"i-b pdd-0 text-left atime col-5\"]/p[2]')\n",
    "for i in tqdm(dest):\n",
    "    destination.append(i.text)\n",
    "else:\n",
    "    pass\n",
    "\n",
    "# Extracting Departure Time of Filght via Xpath\n",
    "dept_time = driver.find_elements(By.XPATH,'//div[@class=\"i-b pr\"]')\n",
    "for i in tqdm(dept_time):\n",
    "    departure_time.append(i.text)\n",
    "else :\n",
    "    pass\n",
    "\n",
    "# Extracting Arrival Time via xpath\n",
    "arr_time = driver.find_elements(By.XPATH,'//p[@class=\"bold fs-15 mb-2 pr time\"]')\n",
    "for i in tqdm(arr_time):\n",
    "    arrival_time.append(i.text)\n",
    "else :\n",
    "    pass\n",
    "\n",
    "# Extracting Duration of Flights via Xpath\n",
    "dur = driver.find_elements(By.XPATH,'//div[@class=\"stop-cont pl-13\"]/p')\n",
    "for i in tqdm(dur):\n",
    "    duration.append(i.text)\n",
    "else:\n",
    "    pass\n",
    "\n",
    "# Extracting stop details via Xpath\n",
    "stop = driver.find_elements(By.XPATH,\"//div[@class='stop-cont pl-13']/div/span\")\n",
    "for i in tqdm(stop):\n",
    "    total_stops.append(i.text)\n",
    "else:\n",
    "    pass\n",
    "\n",
    "# Extracting Price of Flights via Xpath\n",
    "p = driver.find_elements(By.XPATH,'//div[@class=\"i-b tipsy fare-summary-tooltip fs-18\"]')\n",
    "for i in tqdm(p):\n",
    "    price.append(i.text.replace(',',''))\n",
    "else:\n",
    "    pass\n",
    "\n",
    "# Extracting Aeroplane model  via xpath\n",
    "model = driver.find_elements(By.XPATH,'//p[@class=\"normal fs-11 font-lightestgrey no-wrap fl-no\"]/span')\n",
    "for i in tqdm(model):\n",
    "    aeroplane_model.append(i.text) \n",
    "else:\n",
    "    pass\n",
    "\n",
    "# Extracting date of journey via xpath\n",
    "d=[]\n",
    "model = driver.find_elements(By.XPATH,'/html/body/section[2]/section/section[2]/section[1]/div[1]/div/div[1]/div/ul/li[11]/div/p[1]')\n",
    "for i in model:\n",
    "    d.append(i.text) \n",
    "else:\n",
    "    pass\n",
    "date1 = d* flightlength\n",
    "date= date+date1"
   ]
  },
  {
   "cell_type": "code",
   "execution_count": 69,
   "id": "dd9404b6",
   "metadata": {},
   "outputs": [
    {
     "data": {
      "text/plain": [
       "(606, 606, 606, 606, 606, 606, 606, 606, 606, 606)"
      ]
     },
     "execution_count": 69,
     "metadata": {},
     "output_type": "execute_result"
    }
   ],
   "source": [
    "len(date),len(class_of_journey), len(airlines_name), len(source), len(destination), len(departure_time), len(arrival_time), len(duration), len(total_stops),len(price), len(aeroplane_model)"
   ]
  },
  {
   "cell_type": "markdown",
   "id": "23b31372",
   "metadata": {},
   "source": [
    "#### Opening Economy flights from Kolkata to Bangalore on 02 February 2023"
   ]
  },
  {
   "cell_type": "code",
   "execution_count": 70,
   "id": "27e35f45",
   "metadata": {},
   "outputs": [],
   "source": [
    "url = \"https://flight.yatra.com/air-search-ui/dom2/trigger?ADT=1&CHD=0&INF=0&class=Economy&destination=BLR&destinationCountry=IN&flexi=0&flight_depart_date=02%2F02%2F2023&hb=0&noOfSegments=1&origin=CCU&originCountry=IN&type=O&unique=620819319706&version=1.1&viewName=normal\"\n",
    "driver.get(url)\n",
    "time.sleep(2)"
   ]
  },
  {
   "cell_type": "code",
   "execution_count": 71,
   "id": "2a197011",
   "metadata": {},
   "outputs": [
    {
     "name": "stderr",
     "output_type": "stream",
     "text": [
      "100%|██████████| 100/100 [00:43<00:00,  2.31it/s]\n"
     ]
    }
   ],
   "source": [
    "from tqdm import tqdm\n",
    "for _ in tqdm (range(0,100)):\n",
    "    time.sleep(0.1)\n",
    "    driver.execute_script(\"window.scrollBy(0,2000)\",\"\")\n",
    "    time.sleep(0.2)\n",
    "    driver.execute_script(\"window.scrollBy(0,-500)\",\"\")"
   ]
  },
  {
   "cell_type": "code",
   "execution_count": 72,
   "id": "016a957a",
   "metadata": {},
   "outputs": [
    {
     "data": {
      "text/plain": [
       "126"
      ]
     },
     "execution_count": 72,
     "metadata": {},
     "output_type": "execute_result"
    }
   ],
   "source": [
    "flights=driver.find_elements(By.XPATH, '//div[@class=\"flight-det table full-width clearfix\"]')\n",
    "flightlength = len(flights)\n",
    "flightlength"
   ]
  },
  {
   "cell_type": "code",
   "execution_count": 73,
   "id": "001b339b",
   "metadata": {},
   "outputs": [
    {
     "name": "stderr",
     "output_type": "stream",
     "text": [
      "100%|██████████| 126/126 [00:03<00:00, 37.38it/s]\n",
      "100%|██████████| 126/126 [00:03<00:00, 32.50it/s]\n",
      "100%|██████████| 126/126 [00:04<00:00, 30.42it/s]\n",
      "100%|██████████| 126/126 [00:04<00:00, 26.60it/s]\n",
      "100%|██████████| 126/126 [00:04<00:00, 28.47it/s]\n",
      "100%|██████████| 126/126 [00:04<00:00, 25.68it/s]\n",
      "100%|██████████| 126/126 [00:05<00:00, 23.15it/s]\n",
      "100%|██████████| 126/126 [00:05<00:00, 24.24it/s]\n"
     ]
    }
   ],
   "source": [
    "# Extracting Airlines Name Via Xpath\n",
    "airlines = driver.find_elements(By.XPATH,\"//div[@class='fs-13 airline-name no-pad col-8']/span\")\n",
    "for i in airlines:\n",
    "    airlines_name.append(i.text.replace(\"\\n\",\" \"))\n",
    "else :\n",
    "    pass\n",
    "\n",
    "# Extracting class of journey via xpath\n",
    "d=[]\n",
    "model = driver.find_elements(By.XPATH,'//div[@class=\"bdr-btm drop-down bold fs-16 cursor-pointer full-width\"]/span/span[3]')\n",
    "for i in model:\n",
    "    d.append(i.text) \n",
    "else:\n",
    "    pass\n",
    "class_of_journey= d* flightlength\n",
    "\n",
    "# Extracting Source of flight via Xpath\n",
    "sou = driver.find_elements(By.XPATH,\"//div[@class='i-b col-4 no-wrap text-right dtime col-3']/p\")\n",
    "for i in tqdm(sou):\n",
    "    source.append(i.text)\n",
    "else :\n",
    "    pass\n",
    "\n",
    "# Extracting Destination of Flights via Xpath\n",
    "dest = driver.find_elements(By.XPATH,'//div[@class=\"i-b pdd-0 text-left atime col-5\"]/p[2]')\n",
    "for i in tqdm(dest):\n",
    "    destination.append(i.text)\n",
    "else:\n",
    "    pass\n",
    "\n",
    "# Extracting Departure Time of Filght via Xpath\n",
    "dept_time = driver.find_elements(By.XPATH,'//div[@class=\"i-b pr\"]')\n",
    "for i in tqdm(dept_time):\n",
    "    departure_time.append(i.text)\n",
    "else :\n",
    "    pass\n",
    "\n",
    "# Extracting Arrival Time via xpath\n",
    "arr_time = driver.find_elements(By.XPATH,'//p[@class=\"bold fs-15 mb-2 pr time\"]')\n",
    "for i in tqdm(arr_time):\n",
    "    arrival_time.append(i.text)\n",
    "else :\n",
    "    pass\n",
    "\n",
    "# Extracting Duration of Flights via Xpath\n",
    "dur = driver.find_elements(By.XPATH,'//div[@class=\"stop-cont pl-13\"]/p')\n",
    "for i in tqdm(dur):\n",
    "    duration.append(i.text)\n",
    "else:\n",
    "    pass\n",
    "\n",
    "# Extracting stop details via Xpath\n",
    "stop = driver.find_elements(By.XPATH,\"//div[@class='stop-cont pl-13']/div/span\")\n",
    "for i in tqdm(stop):\n",
    "    total_stops.append(i.text)\n",
    "else:\n",
    "    pass\n",
    "\n",
    "# Extracting Price of Flights via Xpath\n",
    "p = driver.find_elements(By.XPATH,'//div[@class=\"i-b tipsy fare-summary-tooltip fs-18\"]')\n",
    "for i in tqdm(p):\n",
    "    price.append(i.text.replace(',',''))\n",
    "else:\n",
    "    pass\n",
    "\n",
    "# Extracting Aeroplane model  via xpath\n",
    "model = driver.find_elements(By.XPATH,'//p[@class=\"normal fs-11 font-lightestgrey no-wrap fl-no\"]/span')\n",
    "for i in tqdm(model):\n",
    "    aeroplane_model.append(i.text) \n",
    "else:\n",
    "    pass\n",
    "\n",
    "# Extracting date of journey via xpath\n",
    "d=[]\n",
    "model = driver.find_elements(By.XPATH,'/html/body/section[2]/section/section[2]/section[1]/div[1]/div/div[1]/div/ul/li[11]/div/p[1]')\n",
    "for i in model:\n",
    "    d.append(i.text) \n",
    "else:\n",
    "    pass\n",
    "date1 = d* flightlength\n",
    "date= date+date1"
   ]
  },
  {
   "cell_type": "code",
   "execution_count": 75,
   "id": "88b8d0e3",
   "metadata": {},
   "outputs": [
    {
     "data": {
      "text/plain": [
       "(732, 732, 732, 732, 732, 732, 732, 732, 732, 732)"
      ]
     },
     "execution_count": 75,
     "metadata": {},
     "output_type": "execute_result"
    }
   ],
   "source": [
    "len(date), len(class_of_journey), len(airlines_name), len(source), len(destination), len(departure_time), len(arrival_time), len(duration), len(total_stops),len(price), len(aeroplane_model)"
   ]
  },
  {
   "cell_type": "markdown",
   "id": "62c7701b",
   "metadata": {},
   "source": [
    "#### Opening Economy flights from Kolkata to Bangalore on 03 February 2023"
   ]
  },
  {
   "cell_type": "code",
   "execution_count": 77,
   "id": "7f7151af",
   "metadata": {},
   "outputs": [],
   "source": [
    "url = \"https://flight.yatra.com/air-search-ui/dom2/trigger?ADT=1&CHD=0&INF=0&class=Economy&destination=BLR&destinationCountry=IN&flexi=0&flight_depart_date=03%2F02%2F2023&hb=0&noOfSegments=1&origin=CCU&originCountry=IN&type=O&unique=702780888999&version=1.1&viewName=normal\"\n",
    "driver.get(url)\n",
    "time.sleep(2)"
   ]
  },
  {
   "cell_type": "code",
   "execution_count": 78,
   "id": "6b8c43e1",
   "metadata": {},
   "outputs": [
    {
     "name": "stderr",
     "output_type": "stream",
     "text": [
      "100%|██████████| 100/100 [00:47<00:00,  2.09it/s]\n"
     ]
    }
   ],
   "source": [
    "from tqdm import tqdm\n",
    "for _ in tqdm (range(0,100)):\n",
    "    time.sleep(0.1)\n",
    "    driver.execute_script(\"window.scrollBy(0,2000)\",\"\")\n",
    "    time.sleep(0.2)\n",
    "    driver.execute_script(\"window.scrollBy(0,-500)\",\"\")"
   ]
  },
  {
   "cell_type": "code",
   "execution_count": 79,
   "id": "9515dc35",
   "metadata": {},
   "outputs": [
    {
     "data": {
      "text/plain": [
       "126"
      ]
     },
     "execution_count": 79,
     "metadata": {},
     "output_type": "execute_result"
    }
   ],
   "source": [
    "flights=driver.find_elements(By.XPATH, '//div[@class=\"flight-det table full-width clearfix\"]')\n",
    "flightlength = len(flights)\n",
    "flightlength"
   ]
  },
  {
   "cell_type": "code",
   "execution_count": 80,
   "id": "688dd523",
   "metadata": {},
   "outputs": [
    {
     "name": "stderr",
     "output_type": "stream",
     "text": [
      "100%|██████████| 126/126 [00:03<00:00, 37.58it/s]\n",
      "100%|██████████| 126/126 [00:05<00:00, 22.24it/s]\n",
      "100%|██████████| 126/126 [00:04<00:00, 31.37it/s]\n",
      "100%|██████████| 126/126 [00:05<00:00, 21.81it/s]\n",
      "100%|██████████| 126/126 [00:07<00:00, 17.90it/s]\n",
      "100%|██████████| 126/126 [00:06<00:00, 20.46it/s]\n",
      "100%|██████████| 126/126 [00:08<00:00, 15.29it/s]\n",
      "100%|██████████| 126/126 [00:07<00:00, 17.49it/s]\n"
     ]
    }
   ],
   "source": [
    "# Extracting Airlines Name Via Xpath\n",
    "airlines = driver.find_elements(By.XPATH,\"//div[@class='fs-13 airline-name no-pad col-8']/span\")\n",
    "for i in airlines:\n",
    "    airlines_name.append(i.text.replace(\"\\n\",\" \"))\n",
    "else :\n",
    "    pass\n",
    "\n",
    "# Extracting class of journey via xpath\n",
    "d=[]\n",
    "model = driver.find_elements(By.XPATH,'//div[@class=\"bdr-btm drop-down bold fs-16 cursor-pointer full-width\"]/span/span[3]')\n",
    "for i in model:\n",
    "    d.append(i.text) \n",
    "else:\n",
    "    pass\n",
    "class_of_journey= d* flightlength\n",
    "\n",
    "# Extracting Source of flight via Xpath\n",
    "sou = driver.find_elements(By.XPATH,\"//div[@class='i-b col-4 no-wrap text-right dtime col-3']/p\")\n",
    "for i in tqdm(sou):\n",
    "    source.append(i.text)\n",
    "else :\n",
    "    pass\n",
    "\n",
    "# Extracting Destination of Flights via Xpath\n",
    "dest = driver.find_elements(By.XPATH,'//div[@class=\"i-b pdd-0 text-left atime col-5\"]/p[2]')\n",
    "for i in tqdm(dest):\n",
    "    destination.append(i.text)\n",
    "else:\n",
    "    pass\n",
    "\n",
    "# Extracting Departure Time of Filght via Xpath\n",
    "dept_time = driver.find_elements(By.XPATH,'//div[@class=\"i-b pr\"]')\n",
    "for i in tqdm(dept_time):\n",
    "    departure_time.append(i.text)\n",
    "else :\n",
    "    pass\n",
    "\n",
    "# Extracting Arrival Time via xpath\n",
    "arr_time = driver.find_elements(By.XPATH,'//p[@class=\"bold fs-15 mb-2 pr time\"]')\n",
    "for i in tqdm(arr_time):\n",
    "    arrival_time.append(i.text)\n",
    "else :\n",
    "    pass\n",
    "\n",
    "# Extracting Duration of Flights via Xpath\n",
    "dur = driver.find_elements(By.XPATH,'//div[@class=\"stop-cont pl-13\"]/p')\n",
    "for i in tqdm(dur):\n",
    "    duration.append(i.text)\n",
    "else:\n",
    "    pass\n",
    "\n",
    "# Extracting stop details via Xpath\n",
    "stop = driver.find_elements(By.XPATH,\"//div[@class='stop-cont pl-13']/div/span\")\n",
    "for i in tqdm(stop):\n",
    "    total_stops.append(i.text)\n",
    "else:\n",
    "    pass\n",
    "\n",
    "# Extracting Price of Flights via Xpath\n",
    "p = driver.find_elements(By.XPATH,'//div[@class=\"i-b tipsy fare-summary-tooltip fs-18\"]')\n",
    "for i in tqdm(p):\n",
    "    price.append(i.text.replace(',',''))\n",
    "else:\n",
    "    pass\n",
    "\n",
    "# Extracting Aeroplane model  via xpath\n",
    "model = driver.find_elements(By.XPATH,'//p[@class=\"normal fs-11 font-lightestgrey no-wrap fl-no\"]/span')\n",
    "for i in tqdm(model):\n",
    "    aeroplane_model.append(i.text) \n",
    "else:\n",
    "    pass\n",
    "\n",
    "# Extracting date of journey via xpath\n",
    "d=[]\n",
    "model = driver.find_elements(By.XPATH,'/html/body/section[2]/section/section[2]/section[1]/div[1]/div/div[1]/div/ul/li[11]/div/p[1]')\n",
    "for i in model:\n",
    "    d.append(i.text) \n",
    "else:\n",
    "    pass\n",
    "date1 = d* flightlength\n",
    "date= date+date1"
   ]
  },
  {
   "cell_type": "code",
   "execution_count": 81,
   "id": "66b6e93c",
   "metadata": {},
   "outputs": [
    {
     "data": {
      "text/plain": [
       "(858, 858, 858, 858, 858, 858, 858, 858, 858, 858)"
      ]
     },
     "execution_count": 81,
     "metadata": {},
     "output_type": "execute_result"
    }
   ],
   "source": [
    "len(date),len(class_of_journey), len(airlines_name), len(source), len(destination), len(departure_time), len(arrival_time), len(duration), len(total_stops),len(price), len(aeroplane_model)"
   ]
  },
  {
   "cell_type": "code",
   "execution_count": 82,
   "id": "11a2430a",
   "metadata": {},
   "outputs": [],
   "source": [
    "import pandas as pd\n",
    "import numpy as np\n",
    "\n",
    "data1 =pd.DataFrame()\n",
    "data1[\"Airlines_name\"]=airlines_name\n",
    "data1[\"Journey_Class\"]= class_of_journey\n",
    "data1[\"Aeroplane_model\"]=aeroplane_model\n",
    "data1['Date'] = date\n",
    "data1[\"Source\"]=source\n",
    "data1[\"Destination\"]=destination\n",
    "data1[\"Departure_Time\"]=departure_time\n",
    "data1[\"Arrival_Time\"]=arrival_time\n",
    "data1[\"Duration\"]=duration\n",
    "data1[\"Total_Stops\"]=total_stops\n",
    "data1[\"Price\"]=price"
   ]
  },
  {
   "cell_type": "markdown",
   "id": "736a4930",
   "metadata": {},
   "source": [
    "#### Opening Economy flights from Kolkata to Bangalore on 04 Feb 2023"
   ]
  },
  {
   "cell_type": "code",
   "execution_count": 7,
   "id": "c3b84538",
   "metadata": {},
   "outputs": [],
   "source": [
    "url = \"https://flight.yatra.com/air-search-ui/dom2/trigger?ADT=1&CHD=0&INF=0&class=Economy&destination=BLR&destinationCountry=IN&flexi=0&flight_depart_date=04%2F02%2F2023&hb=0&noOfSegments=1&origin=CCU&originCountry=IN&type=O&unique=1256425260372&version=1.2&viewName=normal\"\n",
    "driver.get(url)\n",
    "time.sleep(2)"
   ]
  },
  {
   "cell_type": "code",
   "execution_count": 10,
   "id": "1a7d63bf",
   "metadata": {},
   "outputs": [
    {
     "name": "stderr",
     "output_type": "stream",
     "text": [
      "100%|██████████| 100/100 [00:44<00:00,  2.26it/s]\n"
     ]
    }
   ],
   "source": [
    "from tqdm import tqdm\n",
    "for _ in tqdm (range(0,100)):\n",
    "    time.sleep(0.1)\n",
    "    driver.execute_script(\"window.scrollBy(0,2000)\",\"\")\n",
    "    time.sleep(0.2)\n",
    "    driver.execute_script(\"window.scrollBy(0,-500)\",\"\")"
   ]
  },
  {
   "cell_type": "code",
   "execution_count": 11,
   "id": "e59ced1d",
   "metadata": {},
   "outputs": [
    {
     "data": {
      "text/plain": [
       "124"
      ]
     },
     "execution_count": 11,
     "metadata": {},
     "output_type": "execute_result"
    }
   ],
   "source": [
    "flights=driver.find_elements(By.XPATH, '//div[@class=\"flight-det table full-width clearfix\"]')\n",
    "flightlength = len(flights)\n",
    "flightlength"
   ]
  },
  {
   "cell_type": "code",
   "execution_count": 12,
   "id": "1006b1e7",
   "metadata": {},
   "outputs": [],
   "source": [
    "airlines_name = []\n",
    "date = []\n",
    "source = []\n",
    "destination=[]\n",
    "departure_time =[]\n",
    "arrival_time=[]\n",
    "duration=[]\n",
    "total_stops =[]\n",
    "price=[]\n",
    "aeroplane_model= []\n",
    "class_of_journey=[]"
   ]
  },
  {
   "cell_type": "code",
   "execution_count": 13,
   "id": "27e42753",
   "metadata": {},
   "outputs": [
    {
     "name": "stderr",
     "output_type": "stream",
     "text": [
      "100%|██████████| 124/124 [00:03<00:00, 37.16it/s]\n",
      "100%|██████████| 124/124 [00:03<00:00, 33.34it/s]\n",
      "100%|██████████| 124/124 [00:04<00:00, 28.82it/s]\n",
      "100%|██████████| 124/124 [00:04<00:00, 25.00it/s]\n",
      "100%|██████████| 124/124 [00:05<00:00, 24.27it/s]\n",
      "100%|██████████| 124/124 [00:04<00:00, 25.33it/s]\n",
      "100%|██████████| 124/124 [00:05<00:00, 23.19it/s]\n",
      "100%|██████████| 124/124 [00:06<00:00, 18.87it/s]\n"
     ]
    }
   ],
   "source": [
    "# Extracting Airlines Name Via Xpath\n",
    "airlines = driver.find_elements(By.XPATH,\"//div[@class='fs-13 airline-name no-pad col-8']/span\")\n",
    "for i in airlines:\n",
    "    airlines_name.append(i.text.replace(\"\\n\",\" \"))\n",
    "else :\n",
    "    pass\n",
    "\n",
    "# Extracting class of journey via xpath\n",
    "d=[]\n",
    "model = driver.find_elements(By.XPATH,'//div[@class=\"bdr-btm drop-down bold fs-16 cursor-pointer full-width\"]/span/span[3]')\n",
    "for i in model:\n",
    "    d.append(i.text) \n",
    "else:\n",
    "    pass\n",
    "class_of_journey= d* flightlength\n",
    "\n",
    "# Extracting Source of flight via Xpath\n",
    "sou = driver.find_elements(By.XPATH,\"//div[@class='i-b col-4 no-wrap text-right dtime col-3']/p\")\n",
    "for i in tqdm(sou):\n",
    "    source.append(i.text)\n",
    "else :\n",
    "    pass\n",
    "\n",
    "# Extracting Destination of Flights via Xpath\n",
    "dest = driver.find_elements(By.XPATH,'//div[@class=\"i-b pdd-0 text-left atime col-5\"]/p[2]')\n",
    "for i in tqdm(dest):\n",
    "    destination.append(i.text)\n",
    "else:\n",
    "    pass\n",
    "\n",
    "# Extracting Departure Time of Filght via Xpath\n",
    "dept_time = driver.find_elements(By.XPATH,'//div[@class=\"i-b pr\"]')\n",
    "for i in tqdm(dept_time):\n",
    "    departure_time.append(i.text)\n",
    "else :\n",
    "    pass\n",
    "\n",
    "# Extracting Arrival Time via xpath\n",
    "arr_time = driver.find_elements(By.XPATH,'//p[@class=\"bold fs-15 mb-2 pr time\"]')\n",
    "for i in tqdm(arr_time):\n",
    "    arrival_time.append(i.text)\n",
    "else :\n",
    "    pass\n",
    "\n",
    "# Extracting Duration of Flights via Xpath\n",
    "dur = driver.find_elements(By.XPATH,'//div[@class=\"stop-cont pl-13\"]/p')\n",
    "for i in tqdm(dur):\n",
    "    duration.append(i.text)\n",
    "else:\n",
    "    pass\n",
    "\n",
    "# Extracting stop details via Xpath\n",
    "stop = driver.find_elements(By.XPATH,\"//div[@class='stop-cont pl-13']/div/span\")\n",
    "for i in tqdm(stop):\n",
    "    total_stops.append(i.text)\n",
    "else:\n",
    "    pass\n",
    "\n",
    "# Extracting Price of Flights via Xpath\n",
    "p = driver.find_elements(By.XPATH,'//div[@class=\"i-b tipsy fare-summary-tooltip fs-18\"]')\n",
    "for i in tqdm(p):\n",
    "    price.append(i.text.replace(',',''))\n",
    "else:\n",
    "    pass\n",
    "\n",
    "# Extracting Aeroplane model  via xpath\n",
    "model = driver.find_elements(By.XPATH,'//p[@class=\"normal fs-11 font-lightestgrey no-wrap fl-no\"]/span')\n",
    "for i in tqdm(model):\n",
    "    aeroplane_model.append(i.text) \n",
    "else:\n",
    "    pass\n",
    "\n",
    "# Extracting date of journey via xpath\n",
    "d=[]\n",
    "model = driver.find_elements(By.XPATH,'/html/body/section[2]/section/section[2]/section[1]/div[1]/div/div[1]/div/ul/li[11]/div/p[1]')\n",
    "for i in model:\n",
    "    d.append(i.text) \n",
    "else:\n",
    "    pass\n",
    "date1 = d* flightlength\n",
    "date= date+date1"
   ]
  },
  {
   "cell_type": "code",
   "execution_count": 15,
   "id": "3fa9e2da",
   "metadata": {},
   "outputs": [
    {
     "data": {
      "text/plain": [
       "(124, 124, 124, 124, 124, 124, 124, 124, 124, 124)"
      ]
     },
     "execution_count": 15,
     "metadata": {},
     "output_type": "execute_result"
    }
   ],
   "source": [
    "len(date), len(class_of_journey), len(airlines_name), len(source), len(destination), len(departure_time), len(arrival_time), len(duration), len(total_stops),len(price), len(aeroplane_model)"
   ]
  },
  {
   "cell_type": "markdown",
   "id": "149fe515",
   "metadata": {},
   "source": [
    "#### Opening Economy flights from Kolkata to Bangalore on 23 February 2023"
   ]
  },
  {
   "cell_type": "code",
   "execution_count": 14,
   "id": "bdde798b",
   "metadata": {},
   "outputs": [],
   "source": [
    "url = \"https://flight.yatra.com/air-search-ui/dom2/trigger?ADT=1&CHD=0&INF=0&class=Economy&destination=BLR&destinationCountry=IN&flexi=0&flight_depart_date=23%2F02%2F2023&hb=0&noOfSegments=1&origin=CCU&originCountry=IN&type=O&unique=993775363281&version=1.1&viewName=normal\"\n",
    "driver.get(url)\n",
    "time.sleep(2)"
   ]
  },
  {
   "cell_type": "code",
   "execution_count": 16,
   "id": "7bd55365",
   "metadata": {},
   "outputs": [
    {
     "name": "stderr",
     "output_type": "stream",
     "text": [
      "100%|██████████| 100/100 [00:55<00:00,  1.81it/s]\n"
     ]
    }
   ],
   "source": [
    "from tqdm import tqdm\n",
    "for _ in tqdm (range(0,100)):\n",
    "    time.sleep(0.1)\n",
    "    driver.execute_script(\"window.scrollBy(0,2000)\",\"\")\n",
    "    time.sleep(0.2)\n",
    "    driver.execute_script(\"window.scrollBy(0,-500)\",\"\")"
   ]
  },
  {
   "cell_type": "code",
   "execution_count": 17,
   "id": "b487b983",
   "metadata": {},
   "outputs": [
    {
     "data": {
      "text/plain": [
       "126"
      ]
     },
     "execution_count": 17,
     "metadata": {},
     "output_type": "execute_result"
    }
   ],
   "source": [
    "flights=driver.find_elements(By.XPATH, '//div[@class=\"flight-det table full-width clearfix\"]')\n",
    "flightlength = len(flights)\n",
    "flightlength"
   ]
  },
  {
   "cell_type": "code",
   "execution_count": 18,
   "id": "38dac094",
   "metadata": {},
   "outputs": [
    {
     "name": "stderr",
     "output_type": "stream",
     "text": [
      "100%|██████████| 126/126 [00:03<00:00, 37.07it/s]\n",
      "100%|██████████| 126/126 [00:03<00:00, 36.79it/s]\n",
      "100%|██████████| 126/126 [00:03<00:00, 33.67it/s]\n",
      "100%|██████████| 126/126 [00:04<00:00, 28.36it/s]\n",
      "100%|██████████| 126/126 [00:04<00:00, 26.89it/s]\n",
      "100%|██████████| 126/126 [00:04<00:00, 28.17it/s]\n",
      "100%|██████████| 126/126 [00:05<00:00, 24.40it/s]\n",
      "100%|██████████| 126/126 [00:04<00:00, 26.97it/s]\n"
     ]
    }
   ],
   "source": [
    "# Extracting Airlines Name Via Xpath\n",
    "airlines = driver.find_elements(By.XPATH,\"//div[@class='fs-13 airline-name no-pad col-8']/span\")\n",
    "for i in airlines:\n",
    "    airlines_name.append(i.text.replace(\"\\n\",\" \"))\n",
    "else :\n",
    "    pass\n",
    "\n",
    "# Extracting class of journey via xpath\n",
    "d=[]\n",
    "model = driver.find_elements(By.XPATH,'//div[@class=\"bdr-btm drop-down bold fs-16 cursor-pointer full-width\"]/span/span[3]')\n",
    "for i in model:\n",
    "    d.append(i.text) \n",
    "else:\n",
    "    pass\n",
    "class_of_journey= d* flightlength\n",
    "\n",
    "# Extracting Source of flight via Xpath\n",
    "sou = driver.find_elements(By.XPATH,\"//div[@class='i-b col-4 no-wrap text-right dtime col-3']/p\")\n",
    "for i in tqdm(sou):\n",
    "    source.append(i.text)\n",
    "else :\n",
    "    pass\n",
    "\n",
    "# Extracting Destination of Flights via Xpath\n",
    "dest = driver.find_elements(By.XPATH,'//div[@class=\"i-b pdd-0 text-left atime col-5\"]/p[2]')\n",
    "for i in tqdm(dest):\n",
    "    destination.append(i.text)\n",
    "else:\n",
    "    pass\n",
    "\n",
    "# Extracting Departure Time of Filght via Xpath\n",
    "dept_time = driver.find_elements(By.XPATH,'//div[@class=\"i-b pr\"]')\n",
    "for i in tqdm(dept_time):\n",
    "    departure_time.append(i.text)\n",
    "else :\n",
    "    pass\n",
    "\n",
    "# Extracting Arrival Time via xpath\n",
    "arr_time = driver.find_elements(By.XPATH,'//p[@class=\"bold fs-15 mb-2 pr time\"]')\n",
    "for i in tqdm(arr_time):\n",
    "    arrival_time.append(i.text)\n",
    "else :\n",
    "    pass\n",
    "\n",
    "# Extracting Duration of Flights via Xpath\n",
    "dur = driver.find_elements(By.XPATH,'//div[@class=\"stop-cont pl-13\"]/p')\n",
    "for i in tqdm(dur):\n",
    "    duration.append(i.text)\n",
    "else:\n",
    "    pass\n",
    "\n",
    "# Extracting stop details via Xpath\n",
    "stop = driver.find_elements(By.XPATH,\"//div[@class='stop-cont pl-13']/div/span\")\n",
    "for i in tqdm(stop):\n",
    "    total_stops.append(i.text)\n",
    "else:\n",
    "    pass\n",
    "\n",
    "# Extracting Price of Flights via Xpath\n",
    "p = driver.find_elements(By.XPATH,'//div[@class=\"i-b tipsy fare-summary-tooltip fs-18\"]')\n",
    "for i in tqdm(p):\n",
    "    price.append(i.text.replace(',',''))\n",
    "else:\n",
    "    pass\n",
    "\n",
    "# Extracting Aeroplane model  via xpath\n",
    "model = driver.find_elements(By.XPATH,'//p[@class=\"normal fs-11 font-lightestgrey no-wrap fl-no\"]/span')\n",
    "for i in tqdm(model):\n",
    "    aeroplane_model.append(i.text) \n",
    "else:\n",
    "    pass\n",
    "\n",
    "# Extracting date of journey via xpath\n",
    "d=[]\n",
    "model = driver.find_elements(By.XPATH,'/html/body/section[2]/section/section[2]/section[1]/div[1]/div/div[1]/div/ul/li[11]/div/p[1]')\n",
    "for i in model:\n",
    "    d.append(i.text) \n",
    "else:\n",
    "    pass\n",
    "date1 = d* flightlength\n",
    "date= date+date1"
   ]
  },
  {
   "cell_type": "code",
   "execution_count": 19,
   "id": "f1e16d20",
   "metadata": {},
   "outputs": [
    {
     "data": {
      "text/plain": [
       "(250, 250, 250, 250, 250, 250, 250, 250, 250, 250)"
      ]
     },
     "execution_count": 19,
     "metadata": {},
     "output_type": "execute_result"
    }
   ],
   "source": [
    "len(date), len(class_of_journey), len(airlines_name), len(source), len(destination), len(departure_time), len(arrival_time), len(duration), len(total_stops),len(price), len(aeroplane_model)"
   ]
  },
  {
   "cell_type": "markdown",
   "id": "8fcf21ba",
   "metadata": {},
   "source": [
    "#### Opening Economy flights from Kolkata to Bangalore on 21 March 2023"
   ]
  },
  {
   "cell_type": "code",
   "execution_count": 23,
   "id": "6e1ef37b",
   "metadata": {},
   "outputs": [],
   "source": [
    "url = \"https://flight.yatra.com/air-search-ui/dom2/trigger?ADT=1&CHD=0&INF=0&class=Economy&destination=BLR&destinationCountry=IN&flexi=0&flight_depart_date=21%2F03%2F2023&hb=0&noOfSegments=1&origin=CCU&originCountry=IN&type=O&unique=1423269867887&version=1.1&viewName=normal\"\n",
    "driver.get(url)\n",
    "time.sleep(2)"
   ]
  },
  {
   "cell_type": "code",
   "execution_count": 26,
   "id": "49003564",
   "metadata": {},
   "outputs": [
    {
     "name": "stderr",
     "output_type": "stream",
     "text": [
      "100%|██████████| 100/100 [00:38<00:00,  2.59it/s]\n"
     ]
    }
   ],
   "source": [
    "from tqdm import tqdm\n",
    "for _ in tqdm (range(0,100)):\n",
    "    time.sleep(0.1)\n",
    "    driver.execute_script(\"window.scrollBy(0,2000)\",\"\")\n",
    "    time.sleep(0.2)\n",
    "    driver.execute_script(\"window.scrollBy(0,-500)\",\"\")"
   ]
  },
  {
   "cell_type": "code",
   "execution_count": 27,
   "id": "b9037079",
   "metadata": {},
   "outputs": [
    {
     "data": {
      "text/plain": [
       "132"
      ]
     },
     "execution_count": 27,
     "metadata": {},
     "output_type": "execute_result"
    }
   ],
   "source": [
    "flights=driver.find_elements(By.XPATH, '//div[@class=\"flight-det table full-width clearfix\"]')\n",
    "flightlength = len(flights)\n",
    "flightlength"
   ]
  },
  {
   "cell_type": "code",
   "execution_count": 28,
   "id": "1474780f",
   "metadata": {},
   "outputs": [
    {
     "name": "stderr",
     "output_type": "stream",
     "text": [
      "100%|██████████| 132/132 [00:04<00:00, 32.25it/s]\n",
      "100%|██████████| 132/132 [00:03<00:00, 34.21it/s]\n",
      "100%|██████████| 132/132 [00:05<00:00, 25.96it/s]\n",
      "100%|██████████| 132/132 [00:04<00:00, 27.87it/s]\n",
      "100%|██████████| 132/132 [00:04<00:00, 27.10it/s]\n",
      "100%|██████████| 132/132 [00:05<00:00, 26.18it/s]\n",
      "100%|██████████| 132/132 [00:04<00:00, 27.00it/s]\n",
      "100%|██████████| 132/132 [00:04<00:00, 27.34it/s]\n"
     ]
    }
   ],
   "source": [
    "# Extracting Airlines Name Via Xpath\n",
    "airlines = driver.find_elements(By.XPATH,\"//div[@class='fs-13 airline-name no-pad col-8']/span\")\n",
    "for i in airlines:\n",
    "    airlines_name.append(i.text.replace(\"\\n\",\" \"))\n",
    "else :\n",
    "    pass\n",
    "\n",
    "# Extracting class of journey via xpath\n",
    "d=[]\n",
    "model = driver.find_elements(By.XPATH,'//div[@class=\"bdr-btm drop-down bold fs-16 cursor-pointer full-width\"]/span/span[3]')\n",
    "for i in model:\n",
    "    d.append(i.text) \n",
    "else:\n",
    "    pass\n",
    "class_of_journey= d* flightlength\n",
    "\n",
    "# Extracting Source of flight via Xpath\n",
    "sou = driver.find_elements(By.XPATH,\"//div[@class='i-b col-4 no-wrap text-right dtime col-3']/p\")\n",
    "for i in tqdm(sou):\n",
    "    source.append(i.text)\n",
    "else :\n",
    "    pass\n",
    "\n",
    "# Extracting Destination of Flights via Xpath\n",
    "dest = driver.find_elements(By.XPATH,'//div[@class=\"i-b pdd-0 text-left atime col-5\"]/p[2]')\n",
    "for i in tqdm(dest):\n",
    "    destination.append(i.text)\n",
    "else:\n",
    "    pass\n",
    "\n",
    "# Extracting Departure Time of Filght via Xpath\n",
    "dept_time = driver.find_elements(By.XPATH,'//div[@class=\"i-b pr\"]')\n",
    "for i in tqdm(dept_time):\n",
    "    departure_time.append(i.text)\n",
    "else :\n",
    "    pass\n",
    "\n",
    "# Extracting Arrival Time via xpath\n",
    "arr_time = driver.find_elements(By.XPATH,'//p[@class=\"bold fs-15 mb-2 pr time\"]')\n",
    "for i in tqdm(arr_time):\n",
    "    arrival_time.append(i.text)\n",
    "else :\n",
    "    pass\n",
    "\n",
    "# Extracting Duration of Flights via Xpath\n",
    "dur = driver.find_elements(By.XPATH,'//div[@class=\"stop-cont pl-13\"]/p')\n",
    "for i in tqdm(dur):\n",
    "    duration.append(i.text)\n",
    "else:\n",
    "    pass\n",
    "\n",
    "# Extracting stop details via Xpath\n",
    "stop = driver.find_elements(By.XPATH,\"//div[@class='stop-cont pl-13']/div/span\")\n",
    "for i in tqdm(stop):\n",
    "    total_stops.append(i.text)\n",
    "else:\n",
    "    pass\n",
    "\n",
    "# Extracting Price of Flights via Xpath\n",
    "p = driver.find_elements(By.XPATH,'//div[@class=\"i-b tipsy fare-summary-tooltip fs-18\"]')\n",
    "for i in tqdm(p):\n",
    "    price.append(i.text.replace(',',''))\n",
    "else:\n",
    "    pass\n",
    "\n",
    "# Extracting Aeroplane model  via xpath\n",
    "model = driver.find_elements(By.XPATH,'//p[@class=\"normal fs-11 font-lightestgrey no-wrap fl-no\"]/span')\n",
    "for i in tqdm(model):\n",
    "    aeroplane_model.append(i.text) \n",
    "else:\n",
    "    pass\n",
    "\n",
    "# Extracting date of journey via xpath\n",
    "d=[]\n",
    "model = driver.find_elements(By.XPATH,'/html/body/section[2]/section/section[2]/section[1]/div[1]/div/div[1]/div/ul/li[11]/div/p[1]')\n",
    "for i in model:\n",
    "    d.append(i.text) \n",
    "else:\n",
    "    pass\n",
    "date1 = d* flightlength\n",
    "date= date+date1"
   ]
  },
  {
   "cell_type": "markdown",
   "id": "ca4d0447",
   "metadata": {},
   "source": [
    "#### Opening Economy flights from Kolkata to Bangalore on 21 April 2023"
   ]
  },
  {
   "cell_type": "code",
   "execution_count": 30,
   "id": "6c36a54f",
   "metadata": {},
   "outputs": [],
   "source": [
    "url = \"https://flight.yatra.com/air-search-ui/dom2/trigger?ADT=1&CHD=0&INF=0&class=Economy&destination=BLR&destinationCountry=IN&flexi=0&flight_depart_date=21%2F04%2F2023&hb=0&noOfSegments=1&origin=CCU&originCountry=IN&type=O&unique=66500017071&version=1.1&viewName=normal\"\n",
    "driver.get(url)\n",
    "time.sleep(2)"
   ]
  },
  {
   "cell_type": "code",
   "execution_count": 31,
   "id": "667b0788",
   "metadata": {},
   "outputs": [
    {
     "name": "stderr",
     "output_type": "stream",
     "text": [
      "100%|██████████| 100/100 [00:34<00:00,  2.88it/s]\n"
     ]
    }
   ],
   "source": [
    "from tqdm import tqdm\n",
    "for _ in tqdm (range(0,100)):\n",
    "    time.sleep(0.1)\n",
    "    driver.execute_script(\"window.scrollBy(0,2000)\",\"\")\n",
    "    time.sleep(0.2)\n",
    "    driver.execute_script(\"window.scrollBy(0,-500)\",\"\")"
   ]
  },
  {
   "cell_type": "code",
   "execution_count": 32,
   "id": "a3188c37",
   "metadata": {},
   "outputs": [
    {
     "data": {
      "text/plain": [
       "115"
      ]
     },
     "execution_count": 32,
     "metadata": {},
     "output_type": "execute_result"
    }
   ],
   "source": [
    "flights=driver.find_elements(By.XPATH, '//div[@class=\"flight-det table full-width clearfix\"]')\n",
    "flightlength = len(flights)\n",
    "flightlength"
   ]
  },
  {
   "cell_type": "code",
   "execution_count": 33,
   "id": "f32c3273",
   "metadata": {},
   "outputs": [
    {
     "name": "stderr",
     "output_type": "stream",
     "text": [
      "100%|██████████| 115/115 [00:03<00:00, 37.17it/s]\n",
      "100%|██████████| 115/115 [00:03<00:00, 28.98it/s]\n",
      "100%|██████████| 115/115 [00:03<00:00, 29.02it/s]\n",
      "100%|██████████| 115/115 [00:03<00:00, 31.18it/s]\n",
      "100%|██████████| 115/115 [00:03<00:00, 34.17it/s]\n",
      "100%|██████████| 115/115 [00:03<00:00, 30.66it/s]\n",
      "100%|██████████| 115/115 [00:04<00:00, 26.04it/s]\n",
      "100%|██████████| 115/115 [00:03<00:00, 30.36it/s]\n"
     ]
    }
   ],
   "source": [
    "# Extracting Airlines Name Via Xpath\n",
    "airlines = driver.find_elements(By.XPATH,\"//div[@class='fs-13 airline-name no-pad col-8']/span\")\n",
    "for i in airlines:\n",
    "    airlines_name.append(i.text.replace(\"\\n\",\" \"))\n",
    "else :\n",
    "    pass\n",
    "\n",
    "# Extracting class of journey via xpath\n",
    "d=[]\n",
    "model = driver.find_elements(By.XPATH,'//div[@class=\"bdr-btm drop-down bold fs-16 cursor-pointer full-width\"]/span/span[3]')\n",
    "for i in model:\n",
    "    d.append(i.text) \n",
    "else:\n",
    "    pass\n",
    "class_of_journey= d* flightlength\n",
    "\n",
    "# Extracting Source of flight via Xpath\n",
    "sou = driver.find_elements(By.XPATH,\"//div[@class='i-b col-4 no-wrap text-right dtime col-3']/p\")\n",
    "for i in tqdm(sou):\n",
    "    source.append(i.text)\n",
    "else :\n",
    "    pass\n",
    "\n",
    "# Extracting Destination of Flights via Xpath\n",
    "dest = driver.find_elements(By.XPATH,'//div[@class=\"i-b pdd-0 text-left atime col-5\"]/p[2]')\n",
    "for i in tqdm(dest):\n",
    "    destination.append(i.text)\n",
    "else:\n",
    "    pass\n",
    "\n",
    "# Extracting Departure Time of Filght via Xpath\n",
    "dept_time = driver.find_elements(By.XPATH,'//div[@class=\"i-b pr\"]')\n",
    "for i in tqdm(dept_time):\n",
    "    departure_time.append(i.text)\n",
    "else :\n",
    "    pass\n",
    "\n",
    "# Extracting Arrival Time via xpath\n",
    "arr_time = driver.find_elements(By.XPATH,'//p[@class=\"bold fs-15 mb-2 pr time\"]')\n",
    "for i in tqdm(arr_time):\n",
    "    arrival_time.append(i.text)\n",
    "else :\n",
    "    pass\n",
    "\n",
    "# Extracting Duration of Flights via Xpath\n",
    "dur = driver.find_elements(By.XPATH,'//div[@class=\"stop-cont pl-13\"]/p')\n",
    "for i in tqdm(dur):\n",
    "    duration.append(i.text)\n",
    "else:\n",
    "    pass\n",
    "\n",
    "# Extracting stop details via Xpath\n",
    "stop = driver.find_elements(By.XPATH,\"//div[@class='stop-cont pl-13']/div/span\")\n",
    "for i in tqdm(stop):\n",
    "    total_stops.append(i.text)\n",
    "else:\n",
    "    pass\n",
    "\n",
    "# Extracting Price of Flights via Xpath\n",
    "p = driver.find_elements(By.XPATH,'//div[@class=\"i-b tipsy fare-summary-tooltip fs-18\"]')\n",
    "for i in tqdm(p):\n",
    "    price.append(i.text.replace(',',''))\n",
    "else:\n",
    "    pass\n",
    "\n",
    "# Extracting Aeroplane model  via xpath\n",
    "model = driver.find_elements(By.XPATH,'//p[@class=\"normal fs-11 font-lightestgrey no-wrap fl-no\"]/span')\n",
    "for i in tqdm(model):\n",
    "    aeroplane_model.append(i.text) \n",
    "else:\n",
    "    pass\n",
    "\n",
    "# Extracting date of journey via xpath\n",
    "d=[]\n",
    "model = driver.find_elements(By.XPATH,'/html/body/section[2]/section/section[2]/section[1]/div[1]/div/div[1]/div/ul/li[11]/div/p[1]')\n",
    "for i in model:\n",
    "    d.append(i.text) \n",
    "else:\n",
    "    pass\n",
    "date1 = d* flightlength\n",
    "date= date+date1"
   ]
  },
  {
   "cell_type": "code",
   "execution_count": 35,
   "id": "9a8dab98",
   "metadata": {},
   "outputs": [
    {
     "data": {
      "text/plain": [
       "(497, 497, 497, 497, 497, 497, 497, 497, 497, 497)"
      ]
     },
     "execution_count": 35,
     "metadata": {},
     "output_type": "execute_result"
    }
   ],
   "source": [
    "len(date), len(airlines_name), len(source), len(destination), len(departure_time), len(arrival_time), len(duration), len(total_stops),len(price), len(aeroplane_model)"
   ]
  },
  {
   "cell_type": "markdown",
   "id": "fbe5817a",
   "metadata": {},
   "source": [
    "### For Premium Economy:\n",
    "\n",
    "#### Opening Premium Economy flights from Kolkata to Bangalore on 09 January 2023"
   ]
  },
  {
   "cell_type": "code",
   "execution_count": 36,
   "id": "ef3b0e37",
   "metadata": {},
   "outputs": [],
   "source": [
    "url = \"https://flight.yatra.com/air-search-ui/dom2/trigger?ADT=1&CHD=0&INF=0&class=Special&destination=BLR&destinationCountry=IN&flexi=0&flight_depart_date=09%2F01%2F2023&hb=0&noOfSegments=1&origin=CCU&originCountry=IN&type=O&unique=1434088286517&version=1.1&viewName=normal\"\n",
    "driver.get(url)\n",
    "time.sleep(2)"
   ]
  },
  {
   "cell_type": "code",
   "execution_count": 42,
   "id": "4213064e",
   "metadata": {},
   "outputs": [
    {
     "name": "stderr",
     "output_type": "stream",
     "text": [
      "100%|██████████| 80/80 [00:28<00:00,  2.83it/s]\n"
     ]
    }
   ],
   "source": [
    "from tqdm import tqdm\n",
    "for _ in tqdm (range(0,80)):\n",
    "    time.sleep(0.1)\n",
    "    driver.execute_script(\"window.scrollBy(0,2000)\",\"\")\n",
    "    time.sleep(0.2)\n",
    "    driver.execute_script(\"window.scrollBy(0,-500)\",\"\")"
   ]
  },
  {
   "cell_type": "code",
   "execution_count": 43,
   "id": "dd8b546d",
   "metadata": {},
   "outputs": [
    {
     "data": {
      "text/plain": [
       "24"
      ]
     },
     "execution_count": 43,
     "metadata": {},
     "output_type": "execute_result"
    }
   ],
   "source": [
    "flights=driver.find_elements(By.XPATH, '//div[@class=\"flight-det table full-width clearfix\"]')\n",
    "flightlength = len(flights)\n",
    "flightlength"
   ]
  },
  {
   "cell_type": "code",
   "execution_count": 44,
   "id": "8f26a172",
   "metadata": {},
   "outputs": [
    {
     "name": "stderr",
     "output_type": "stream",
     "text": [
      "100%|██████████| 24/24 [00:00<00:00, 43.42it/s]\n",
      "100%|██████████| 24/24 [00:00<00:00, 46.54it/s]\n",
      "100%|██████████| 24/24 [00:00<00:00, 42.26it/s]\n",
      "100%|██████████| 24/24 [00:00<00:00, 39.44it/s]\n",
      "100%|██████████| 24/24 [00:00<00:00, 43.30it/s]\n",
      "100%|██████████| 24/24 [00:00<00:00, 43.39it/s]\n",
      "100%|██████████| 24/24 [00:00<00:00, 39.56it/s]\n",
      "100%|██████████| 24/24 [00:00<00:00, 42.23it/s]\n"
     ]
    }
   ],
   "source": [
    "# Extracting Airlines Name Via Xpath\n",
    "airlines = driver.find_elements(By.XPATH,\"//div[@class='fs-13 airline-name no-pad col-8']/span\")\n",
    "for i in airlines:\n",
    "    airlines_name.append(i.text.replace(\"\\n\",\" \"))\n",
    "else :\n",
    "    pass\n",
    "# Extracting class of journey via xpath\n",
    "d=[]\n",
    "model = driver.find_elements(By.XPATH,'//div[@class=\"bdr-btm drop-down bold fs-16 cursor-pointer full-width\"]/span/span[3]')\n",
    "for i in model:\n",
    "    d.append(i.text) \n",
    "else:\n",
    "    pass\n",
    "class_of_journey= d* flightlength\n",
    "\n",
    "\n",
    "# Extracting Source of flight via Xpath\n",
    "sou = driver.find_elements(By.XPATH,\"//div[@class='i-b col-4 no-wrap text-right dtime col-3']/p\")\n",
    "for i in tqdm(sou):\n",
    "    source.append(i.text)\n",
    "else :\n",
    "    pass\n",
    "\n",
    "# Extracting Destination of Flights via Xpath\n",
    "dest = driver.find_elements(By.XPATH,'//div[@class=\"i-b pdd-0 text-left atime col-5\"]/p[2]')\n",
    "for i in tqdm(dest):\n",
    "    destination.append(i.text)\n",
    "else:\n",
    "    pass\n",
    "\n",
    "# Extracting Departure Time of Filght via Xpath\n",
    "dept_time = driver.find_elements(By.XPATH,'//div[@class=\"i-b pr\"]')\n",
    "for i in tqdm(dept_time):\n",
    "    departure_time.append(i.text)\n",
    "else :\n",
    "    pass\n",
    "\n",
    "# Extracting Arrival Time via xpath\n",
    "arr_time = driver.find_elements(By.XPATH,'//p[@class=\"bold fs-15 mb-2 pr time\"]')\n",
    "for i in tqdm(arr_time):\n",
    "    arrival_time.append(i.text)\n",
    "else :\n",
    "    pass\n",
    "\n",
    "# Extracting Duration of Flights via Xpath\n",
    "dur = driver.find_elements(By.XPATH,'//div[@class=\"stop-cont pl-13\"]/p')\n",
    "for i in tqdm(dur):\n",
    "    duration.append(i.text)\n",
    "else:\n",
    "    pass\n",
    "\n",
    "# Extracting stop details via Xpath\n",
    "stop = driver.find_elements(By.XPATH,\"//div[@class='stop-cont pl-13']/div/span\")\n",
    "for i in tqdm(stop):\n",
    "    total_stops.append(i.text)\n",
    "else:\n",
    "    pass\n",
    "\n",
    "# Extracting Price of Flights via Xpath\n",
    "p = driver.find_elements(By.XPATH,'//div[@class=\"i-b tipsy fare-summary-tooltip fs-18\"]')\n",
    "for i in tqdm(p):\n",
    "    price.append(i.text.replace(',',''))\n",
    "else:\n",
    "    pass\n",
    "\n",
    "# Extracting Aeroplane model  via xpath\n",
    "model = driver.find_elements(By.XPATH,'//p[@class=\"normal fs-11 font-lightestgrey no-wrap fl-no\"]/span')\n",
    "for i in tqdm(model):\n",
    "    aeroplane_model.append(i.text) \n",
    "else:\n",
    "    pass\n",
    "\n",
    "# Extracting date of journey via xpath\n",
    "d=[]\n",
    "model = driver.find_elements(By.XPATH,'/html/body/section[2]/section/section[2]/section[1]/div[1]/div/div[1]/div/ul/li[2]/div/p[1]')\n",
    "for i in model:\n",
    "    d.append(i.text) \n",
    "else:\n",
    "    pass\n",
    "date1 = d* flightlength\n",
    "date= date+date1"
   ]
  },
  {
   "cell_type": "markdown",
   "id": "6bb71faa",
   "metadata": {},
   "source": [
    "#### Opening Premium Economy flights from Kolkata to Bangalore on 18 January 2023"
   ]
  },
  {
   "cell_type": "code",
   "execution_count": 49,
   "id": "d6abdcbd",
   "metadata": {},
   "outputs": [],
   "source": [
    "url = \"https://flight.yatra.com/air-search-ui/dom2/trigger?ADT=1&CHD=0&INF=0&class=Special&destination=BLR&destinationCountry=IN&flexi=0&flight_depart_date=18%2F01%2F2023&hb=0&noOfSegments=1&origin=CCU&originCountry=IN&type=O&unique=471592927169&version=1.1&viewName=normal\"\n",
    "driver.get(url)\n",
    "time.sleep(2)"
   ]
  },
  {
   "cell_type": "code",
   "execution_count": 50,
   "id": "35f81837",
   "metadata": {},
   "outputs": [
    {
     "name": "stderr",
     "output_type": "stream",
     "text": [
      "100%|██████████| 80/80 [00:27<00:00,  2.91it/s]\n"
     ]
    }
   ],
   "source": [
    "from tqdm import tqdm\n",
    "for _ in tqdm (range(0,80)):\n",
    "    time.sleep(0.1)\n",
    "    driver.execute_script(\"window.scrollBy(0,2000)\",\"\")\n",
    "    time.sleep(0.2)\n",
    "    driver.execute_script(\"window.scrollBy(0,-500)\",\"\")"
   ]
  },
  {
   "cell_type": "code",
   "execution_count": 51,
   "id": "27e2e2fc",
   "metadata": {},
   "outputs": [
    {
     "data": {
      "text/plain": [
       "31"
      ]
     },
     "execution_count": 51,
     "metadata": {},
     "output_type": "execute_result"
    }
   ],
   "source": [
    "flights=driver.find_elements(By.XPATH, '//div[@class=\"flight-det table full-width clearfix\"]')\n",
    "flightlength = len(flights)\n",
    "flightlength"
   ]
  },
  {
   "cell_type": "code",
   "execution_count": 52,
   "id": "d2e36037",
   "metadata": {},
   "outputs": [
    {
     "name": "stderr",
     "output_type": "stream",
     "text": [
      "100%|██████████| 31/31 [00:00<00:00, 38.78it/s]\n",
      "100%|██████████| 31/31 [00:00<00:00, 42.03it/s]\n",
      "100%|██████████| 31/31 [00:00<00:00, 40.16it/s]\n",
      "100%|██████████| 31/31 [00:00<00:00, 37.48it/s]\n",
      "100%|██████████| 31/31 [00:00<00:00, 36.78it/s]\n",
      "100%|██████████| 31/31 [00:01<00:00, 28.61it/s]\n",
      "100%|██████████| 31/31 [00:00<00:00, 35.05it/s]\n",
      "100%|██████████| 31/31 [00:00<00:00, 31.08it/s]\n"
     ]
    }
   ],
   "source": [
    "# Extracting Airlines Name Via Xpath\n",
    "airlines = driver.find_elements(By.XPATH,\"//div[@class='fs-13 airline-name no-pad col-8']/span\")\n",
    "for i in airlines:\n",
    "    airlines_name.append(i.text.replace(\"\\n\",\" \"))\n",
    "else :\n",
    "    pass\n",
    "\n",
    "# Extracting class of journey via xpath\n",
    "d=[]\n",
    "model = driver.find_elements(By.XPATH,'//div[@class=\"bdr-btm drop-down bold fs-16 cursor-pointer full-width\"]/span/span[3]')\n",
    "for i in model:\n",
    "    d.append(i.text) \n",
    "else:\n",
    "    pass\n",
    "class_of_journey= d* flightlength\n",
    "\n",
    "# Extracting Source of flight via Xpath\n",
    "sou = driver.find_elements(By.XPATH,\"//div[@class='i-b col-4 no-wrap text-right dtime col-3']/p\")\n",
    "for i in tqdm(sou):\n",
    "    source.append(i.text)\n",
    "else :\n",
    "    pass\n",
    "\n",
    "# Extracting Destination of Flights via Xpath\n",
    "dest = driver.find_elements(By.XPATH,'//div[@class=\"i-b pdd-0 text-left atime col-5\"]/p[2]')\n",
    "for i in tqdm(dest):\n",
    "    destination.append(i.text)\n",
    "else:\n",
    "    pass\n",
    "\n",
    "# Extracting Departure Time of Filght via Xpath\n",
    "dept_time = driver.find_elements(By.XPATH,'//div[@class=\"i-b pr\"]')\n",
    "for i in tqdm(dept_time):\n",
    "    departure_time.append(i.text)\n",
    "else :\n",
    "    pass\n",
    "\n",
    "# Extracting Arrival Time via xpath\n",
    "arr_time = driver.find_elements(By.XPATH,'//p[@class=\"bold fs-15 mb-2 pr time\"]')\n",
    "for i in tqdm(arr_time):\n",
    "    arrival_time.append(i.text)\n",
    "else :\n",
    "    pass\n",
    "\n",
    "# Extracting Duration of Flights via Xpath\n",
    "dur = driver.find_elements(By.XPATH,'//div[@class=\"stop-cont pl-13\"]/p')\n",
    "for i in tqdm(dur):\n",
    "    duration.append(i.text)\n",
    "else:\n",
    "    pass\n",
    "\n",
    "# Extracting stop details via Xpath\n",
    "stop = driver.find_elements(By.XPATH,\"//div[@class='stop-cont pl-13']/div/span\")\n",
    "for i in tqdm(stop):\n",
    "    total_stops.append(i.text)\n",
    "else:\n",
    "    pass\n",
    "\n",
    "# Extracting Price of Flights via Xpath\n",
    "p = driver.find_elements(By.XPATH,'//div[@class=\"i-b tipsy fare-summary-tooltip fs-18\"]')\n",
    "for i in tqdm(p):\n",
    "    price.append(i.text.replace(',',''))\n",
    "else:\n",
    "    pass\n",
    "\n",
    "# Extracting Aeroplane model  via xpath\n",
    "model = driver.find_elements(By.XPATH,'//p[@class=\"normal fs-11 font-lightestgrey no-wrap fl-no\"]/span')\n",
    "for i in tqdm(model):\n",
    "    aeroplane_model.append(i.text) \n",
    "else:\n",
    "    pass\n",
    "\n",
    "# Extracting date of journey via xpath\n",
    "d=[]\n",
    "model = driver.find_elements(By.XPATH,'/html/body/section[2]/section/section[2]/section[1]/div[1]/div/div[1]/div/ul/li[10]/div/p[1]')\n",
    "for i in model:\n",
    "    d.append(i.text) \n",
    "else:\n",
    "    pass\n",
    "date1 = d* flightlength\n",
    "date= date+date1"
   ]
  },
  {
   "cell_type": "markdown",
   "id": "96ddf229",
   "metadata": {},
   "source": [
    "#### Opening Premium Economy flights from Kolkata to Bangalore on 23 January 2023"
   ]
  },
  {
   "cell_type": "code",
   "execution_count": 54,
   "id": "b97101c1",
   "metadata": {},
   "outputs": [],
   "source": [
    "url = \"https://flight.yatra.com/air-search-ui/dom2/trigger?ADT=1&CHD=0&INF=0&class=Special&destination=BLR&destinationCountry=IN&flexi=0&flight_depart_date=23%2F01%2F2023&hb=0&noOfSegments=1&origin=CCU&originCountry=IN&type=O&unique=245080034966&version=1.1&viewName=normal\"\n",
    "driver.get(url)\n",
    "time.sleep(2)"
   ]
  },
  {
   "cell_type": "code",
   "execution_count": 55,
   "id": "e4c9bdc2",
   "metadata": {},
   "outputs": [
    {
     "name": "stderr",
     "output_type": "stream",
     "text": [
      "100%|██████████| 80/80 [00:31<00:00,  2.57it/s]\n"
     ]
    }
   ],
   "source": [
    "from tqdm import tqdm\n",
    "for _ in tqdm (range(0,80)):\n",
    "    time.sleep(0.1)\n",
    "    driver.execute_script(\"window.scrollBy(0,2000)\",\"\")\n",
    "    time.sleep(0.2)\n",
    "    driver.execute_script(\"window.scrollBy(0,-500)\",\"\")"
   ]
  },
  {
   "cell_type": "code",
   "execution_count": 56,
   "id": "fb7d02d6",
   "metadata": {},
   "outputs": [
    {
     "data": {
      "text/plain": [
       "34"
      ]
     },
     "execution_count": 56,
     "metadata": {},
     "output_type": "execute_result"
    }
   ],
   "source": [
    "flights=driver.find_elements(By.XPATH, '//div[@class=\"flight-det table full-width clearfix\"]')\n",
    "flightlength = len(flights)\n",
    "flightlength"
   ]
  },
  {
   "cell_type": "code",
   "execution_count": 57,
   "id": "96fcc2c6",
   "metadata": {},
   "outputs": [
    {
     "name": "stderr",
     "output_type": "stream",
     "text": [
      "100%|██████████| 34/34 [00:01<00:00, 27.91it/s]\n",
      "100%|██████████| 34/34 [00:01<00:00, 33.88it/s]\n",
      "100%|██████████| 34/34 [00:00<00:00, 40.78it/s]\n",
      "100%|██████████| 34/34 [00:00<00:00, 37.83it/s]\n",
      "100%|██████████| 34/34 [00:00<00:00, 37.63it/s]\n",
      "100%|██████████| 34/34 [00:00<00:00, 37.14it/s]\n",
      "100%|██████████| 34/34 [00:01<00:00, 32.76it/s]\n",
      "100%|██████████| 34/34 [00:00<00:00, 34.40it/s]\n"
     ]
    }
   ],
   "source": [
    "# Extracting Airlines Name Via Xpath\n",
    "airlines = driver.find_elements(By.XPATH,\"//div[@class='fs-13 airline-name no-pad col-8']/span\")\n",
    "for i in airlines:\n",
    "    airlines_name.append(i.text.replace(\"\\n\",\" \"))\n",
    "else :\n",
    "    pass\n",
    "\n",
    "# Extracting class of journey via xpath\n",
    "d=[]\n",
    "model = driver.find_elements(By.XPATH,'//div[@class=\"bdr-btm drop-down bold fs-16 cursor-pointer full-width\"]/span/span[3]')\n",
    "for i in model:\n",
    "    d.append(i.text) \n",
    "else:\n",
    "    pass\n",
    "class_of_journey= d* flightlength\n",
    "\n",
    "# Extracting Source of flight via Xpath\n",
    "sou = driver.find_elements(By.XPATH,\"//div[@class='i-b col-4 no-wrap text-right dtime col-3']/p\")\n",
    "for i in tqdm(sou):\n",
    "    source.append(i.text)\n",
    "else :\n",
    "    pass\n",
    "\n",
    "# Extracting Destination of Flights via Xpath\n",
    "dest = driver.find_elements(By.XPATH,'//div[@class=\"i-b pdd-0 text-left atime col-5\"]/p[2]')\n",
    "for i in tqdm(dest):\n",
    "    destination.append(i.text)\n",
    "else:\n",
    "    pass\n",
    "\n",
    "# Extracting Departure Time of Filght via Xpath\n",
    "dept_time = driver.find_elements(By.XPATH,'//div[@class=\"i-b pr\"]')\n",
    "for i in tqdm(dept_time):\n",
    "    departure_time.append(i.text)\n",
    "else :\n",
    "    pass\n",
    "\n",
    "# Extracting Arrival Time via xpath\n",
    "arr_time = driver.find_elements(By.XPATH,'//p[@class=\"bold fs-15 mb-2 pr time\"]')\n",
    "for i in tqdm(arr_time):\n",
    "    arrival_time.append(i.text)\n",
    "else :\n",
    "    pass\n",
    "\n",
    "# Extracting Duration of Flights via Xpath\n",
    "dur = driver.find_elements(By.XPATH,'//div[@class=\"stop-cont pl-13\"]/p')\n",
    "for i in tqdm(dur):\n",
    "    duration.append(i.text)\n",
    "else:\n",
    "    pass\n",
    "\n",
    "# Extracting stop details via Xpath\n",
    "stop = driver.find_elements(By.XPATH,\"//div[@class='stop-cont pl-13']/div/span\")\n",
    "for i in tqdm(stop):\n",
    "    total_stops.append(i.text)\n",
    "else:\n",
    "    pass\n",
    "\n",
    "# Extracting Price of Flights via Xpath\n",
    "p = driver.find_elements(By.XPATH,'//div[@class=\"i-b tipsy fare-summary-tooltip fs-18\"]')\n",
    "for i in tqdm(p):\n",
    "    price.append(i.text.replace(',',''))\n",
    "else:\n",
    "    pass\n",
    "\n",
    "# Extracting Aeroplane model  via xpath\n",
    "model = driver.find_elements(By.XPATH,'//p[@class=\"normal fs-11 font-lightestgrey no-wrap fl-no\"]/span')\n",
    "for i in tqdm(model):\n",
    "    aeroplane_model.append(i.text) \n",
    "else:\n",
    "    pass\n",
    "\n",
    "# Extracting date of journey via xpath\n",
    "d=[]\n",
    "model = driver.find_elements(By.XPATH,'/html/body/section[2]/section/section[2]/section[1]/div[1]/div/div[1]/div/ul/li[11]/div/p[1]')\n",
    "for i in model:\n",
    "    d.append(i.text) \n",
    "else:\n",
    "    pass\n",
    "date1 = d* flightlength\n",
    "date= date+date1"
   ]
  },
  {
   "cell_type": "markdown",
   "id": "34db2ea1",
   "metadata": {},
   "source": [
    "#### Opening Premium Economy flights from Kolkata to Bangalore on 28 January 2023"
   ]
  },
  {
   "cell_type": "code",
   "execution_count": 59,
   "id": "81b3ba9d",
   "metadata": {},
   "outputs": [],
   "source": [
    "url = \"https://flight.yatra.com/air-search-ui/dom2/trigger?ADT=1&CHD=0&INF=0&class=Special&destination=BLR&destinationCountry=IN&flexi=0&flight_depart_date=28%2F01%2F2023&hb=0&noOfSegments=1&origin=CCU&originCountry=IN&type=O&unique=608194724195&version=1.1&viewName=normal\"\n",
    "driver.get(url)\n",
    "time.sleep(2)"
   ]
  },
  {
   "cell_type": "code",
   "execution_count": 60,
   "id": "53c1236f",
   "metadata": {},
   "outputs": [
    {
     "name": "stderr",
     "output_type": "stream",
     "text": [
      "100%|██████████| 80/80 [00:27<00:00,  2.88it/s]\n"
     ]
    }
   ],
   "source": [
    "from tqdm import tqdm\n",
    "for _ in tqdm (range(0,80)):\n",
    "    time.sleep(0.1)\n",
    "    driver.execute_script(\"window.scrollBy(0,2000)\",\"\")\n",
    "    time.sleep(0.2)\n",
    "    driver.execute_script(\"window.scrollBy(0,-500)\",\"\")"
   ]
  },
  {
   "cell_type": "code",
   "execution_count": 61,
   "id": "4eb6a4e1",
   "metadata": {},
   "outputs": [
    {
     "data": {
      "text/plain": [
       "30"
      ]
     },
     "execution_count": 61,
     "metadata": {},
     "output_type": "execute_result"
    }
   ],
   "source": [
    "flights=driver.find_elements(By.XPATH, '//div[@class=\"flight-det table full-width clearfix\"]')\n",
    "flightlength = len(flights)\n",
    "flightlength"
   ]
  },
  {
   "cell_type": "code",
   "execution_count": 62,
   "id": "367efedc",
   "metadata": {},
   "outputs": [
    {
     "name": "stderr",
     "output_type": "stream",
     "text": [
      "100%|██████████| 30/30 [00:00<00:00, 42.69it/s]\n",
      "100%|██████████| 30/30 [00:00<00:00, 40.56it/s]\n",
      "100%|██████████| 30/30 [00:00<00:00, 38.63it/s]\n",
      "100%|██████████| 30/30 [00:00<00:00, 33.99it/s]\n",
      "100%|██████████| 30/30 [00:01<00:00, 24.27it/s]\n",
      "100%|██████████| 30/30 [00:00<00:00, 31.93it/s]\n",
      "100%|██████████| 30/30 [00:00<00:00, 36.79it/s]\n",
      "100%|██████████| 30/30 [00:00<00:00, 34.74it/s]\n"
     ]
    }
   ],
   "source": [
    "# Extracting Airlines Name Via Xpath\n",
    "airlines = driver.find_elements(By.XPATH,\"//div[@class='fs-13 airline-name no-pad col-8']/span\")\n",
    "for i in airlines:\n",
    "    airlines_name.append(i.text.replace(\"\\n\",\" \"))\n",
    "else :\n",
    "    pass\n",
    "\n",
    "# Extracting class of journey via xpath\n",
    "d=[]\n",
    "model = driver.find_elements(By.XPATH,'//div[@class=\"bdr-btm drop-down bold fs-16 cursor-pointer full-width\"]/span/span[3]')\n",
    "for i in model:\n",
    "    d.append(i.text) \n",
    "else:\n",
    "    pass\n",
    "class_of_journey= d* flightlength\n",
    "\n",
    "# Extracting Source of flight via Xpath\n",
    "sou = driver.find_elements(By.XPATH,\"//div[@class='i-b col-4 no-wrap text-right dtime col-3']/p\")\n",
    "for i in tqdm(sou):\n",
    "    source.append(i.text)\n",
    "else :\n",
    "    pass\n",
    "\n",
    "# Extracting Destination of Flights via Xpath\n",
    "dest = driver.find_elements(By.XPATH,'//div[@class=\"i-b pdd-0 text-left atime col-5\"]/p[2]')\n",
    "for i in tqdm(dest):\n",
    "    destination.append(i.text)\n",
    "else:\n",
    "    pass\n",
    "\n",
    "# Extracting Departure Time of Filght via Xpath\n",
    "dept_time = driver.find_elements(By.XPATH,'//div[@class=\"i-b pr\"]')\n",
    "for i in tqdm(dept_time):\n",
    "    departure_time.append(i.text)\n",
    "else :\n",
    "    pass\n",
    "\n",
    "# Extracting Arrival Time via xpath\n",
    "arr_time = driver.find_elements(By.XPATH,'//p[@class=\"bold fs-15 mb-2 pr time\"]')\n",
    "for i in tqdm(arr_time):\n",
    "    arrival_time.append(i.text)\n",
    "else :\n",
    "    pass\n",
    "\n",
    "# Extracting Duration of Flights via Xpath\n",
    "dur = driver.find_elements(By.XPATH,'//div[@class=\"stop-cont pl-13\"]/p')\n",
    "for i in tqdm(dur):\n",
    "    duration.append(i.text)\n",
    "else:\n",
    "    pass\n",
    "\n",
    "# Extracting stop details via Xpath\n",
    "stop = driver.find_elements(By.XPATH,\"//div[@class='stop-cont pl-13']/div/span\")\n",
    "for i in tqdm(stop):\n",
    "    total_stops.append(i.text)\n",
    "else:\n",
    "    pass\n",
    "\n",
    "# Extracting Price of Flights via Xpath\n",
    "p = driver.find_elements(By.XPATH,'//div[@class=\"i-b tipsy fare-summary-tooltip fs-18\"]')\n",
    "for i in tqdm(p):\n",
    "    price.append(i.text.replace(',',''))\n",
    "else:\n",
    "    pass\n",
    "\n",
    "# Extracting Aeroplane model  via xpath\n",
    "model = driver.find_elements(By.XPATH,'//p[@class=\"normal fs-11 font-lightestgrey no-wrap fl-no\"]/span')\n",
    "for i in tqdm(model):\n",
    "    aeroplane_model.append(i.text) \n",
    "else:\n",
    "    pass\n",
    "\n",
    "# Extracting date of journey via xpath\n",
    "d=[]\n",
    "model = driver.find_elements(By.XPATH,'/html/body/section[2]/section/section[2]/section[1]/div[1]/div/div[1]/div/ul/li[11]/div/p[1]')\n",
    "for i in model:\n",
    "    d.append(i.text) \n",
    "else:\n",
    "    pass\n",
    "date1 = d* flightlength\n",
    "date= date+date1"
   ]
  },
  {
   "cell_type": "markdown",
   "id": "456775fa",
   "metadata": {},
   "source": [
    "#### Opening Premium Economy flights from Kolkata to Bangalore on 01 February 2023"
   ]
  },
  {
   "cell_type": "code",
   "execution_count": 64,
   "id": "ff6b6ea0",
   "metadata": {},
   "outputs": [],
   "source": [
    "url = \"https://flight.yatra.com/air-search-ui/dom2/trigger?ADT=1&CHD=0&INF=0&class=Special&destination=BLR&destinationCountry=IN&flexi=0&flight_depart_date=01%2F02%2F2023&hb=0&noOfSegments=1&origin=CCU&originCountry=IN&type=O&unique=168387347371&version=1.1&viewName=normal\"\n",
    "driver.get(url)\n",
    "time.sleep(2)"
   ]
  },
  {
   "cell_type": "code",
   "execution_count": 65,
   "id": "6ce36447",
   "metadata": {},
   "outputs": [
    {
     "name": "stderr",
     "output_type": "stream",
     "text": [
      "100%|██████████| 80/80 [00:28<00:00,  2.77it/s]\n"
     ]
    }
   ],
   "source": [
    "from tqdm import tqdm\n",
    "for _ in tqdm (range(0,80)):\n",
    "    time.sleep(0.1)\n",
    "    driver.execute_script(\"window.scrollBy(0,2000)\",\"\")\n",
    "    time.sleep(0.2)\n",
    "    driver.execute_script(\"window.scrollBy(0,-500)\",\"\")"
   ]
  },
  {
   "cell_type": "code",
   "execution_count": 66,
   "id": "508d6a3c",
   "metadata": {},
   "outputs": [
    {
     "data": {
      "text/plain": [
       "30"
      ]
     },
     "execution_count": 66,
     "metadata": {},
     "output_type": "execute_result"
    }
   ],
   "source": [
    "flights=driver.find_elements(By.XPATH, '//div[@class=\"flight-det table full-width clearfix\"]')\n",
    "flightlength = len(flights)\n",
    "flightlength"
   ]
  },
  {
   "cell_type": "code",
   "execution_count": 67,
   "id": "b2aba60b",
   "metadata": {},
   "outputs": [
    {
     "name": "stderr",
     "output_type": "stream",
     "text": [
      "100%|██████████| 30/30 [00:00<00:00, 40.73it/s]\n",
      "100%|██████████| 30/30 [00:00<00:00, 33.84it/s]\n",
      "100%|██████████| 30/30 [00:00<00:00, 35.23it/s]\n",
      "100%|██████████| 30/30 [00:00<00:00, 35.78it/s]\n",
      "100%|██████████| 30/30 [00:00<00:00, 37.38it/s]\n",
      "100%|██████████| 30/30 [00:00<00:00, 40.77it/s]\n",
      "100%|██████████| 30/30 [00:00<00:00, 38.80it/s]\n",
      "100%|██████████| 30/30 [00:00<00:00, 38.85it/s]\n"
     ]
    }
   ],
   "source": [
    "# Extracting Airlines Name Via Xpath\n",
    "airlines = driver.find_elements(By.XPATH,\"//div[@class='fs-13 airline-name no-pad col-8']/span\")\n",
    "for i in airlines:\n",
    "    airlines_name.append(i.text.replace(\"\\n\",\" \"))\n",
    "else :\n",
    "    pass\n",
    "\n",
    "# Extracting class of journey via xpath\n",
    "d=[]\n",
    "model = driver.find_elements(By.XPATH,'//div[@class=\"bdr-btm drop-down bold fs-16 cursor-pointer full-width\"]/span/span[3]')\n",
    "for i in model:\n",
    "    d.append(i.text) \n",
    "else:\n",
    "    pass\n",
    "class_of_journey= d* flightlength\n",
    "\n",
    "# Extracting Source of flight via Xpath\n",
    "sou = driver.find_elements(By.XPATH,\"//div[@class='i-b col-4 no-wrap text-right dtime col-3']/p\")\n",
    "for i in tqdm(sou):\n",
    "    source.append(i.text)\n",
    "else :\n",
    "    pass\n",
    "\n",
    "# Extracting Destination of Flights via Xpath\n",
    "dest = driver.find_elements(By.XPATH,'//div[@class=\"i-b pdd-0 text-left atime col-5\"]/p[2]')\n",
    "for i in tqdm(dest):\n",
    "    destination.append(i.text)\n",
    "else:\n",
    "    pass\n",
    "\n",
    "# Extracting Departure Time of Filght via Xpath\n",
    "dept_time = driver.find_elements(By.XPATH,'//div[@class=\"i-b pr\"]')\n",
    "for i in tqdm(dept_time):\n",
    "    departure_time.append(i.text)\n",
    "else :\n",
    "    pass\n",
    "\n",
    "# Extracting Arrival Time via xpath\n",
    "arr_time = driver.find_elements(By.XPATH,'//p[@class=\"bold fs-15 mb-2 pr time\"]')\n",
    "for i in tqdm(arr_time):\n",
    "    arrival_time.append(i.text)\n",
    "else :\n",
    "    pass\n",
    "\n",
    "# Extracting Duration of Flights via Xpath\n",
    "dur = driver.find_elements(By.XPATH,'//div[@class=\"stop-cont pl-13\"]/p')\n",
    "for i in tqdm(dur):\n",
    "    duration.append(i.text)\n",
    "else:\n",
    "    pass\n",
    "\n",
    "# Extracting stop details via Xpath\n",
    "stop = driver.find_elements(By.XPATH,\"//div[@class='stop-cont pl-13']/div/span\")\n",
    "for i in tqdm(stop):\n",
    "    total_stops.append(i.text)\n",
    "else:\n",
    "    pass\n",
    "\n",
    "# Extracting Price of Flights via Xpath\n",
    "p = driver.find_elements(By.XPATH,'//div[@class=\"i-b tipsy fare-summary-tooltip fs-18\"]')\n",
    "for i in tqdm(p):\n",
    "    price.append(i.text.replace(',',''))\n",
    "else:\n",
    "    pass\n",
    "\n",
    "# Extracting Aeroplane model  via xpath\n",
    "model = driver.find_elements(By.XPATH,'//p[@class=\"normal fs-11 font-lightestgrey no-wrap fl-no\"]/span')\n",
    "for i in tqdm(model):\n",
    "    aeroplane_model.append(i.text) \n",
    "else:\n",
    "    pass\n",
    "\n",
    "# Extracting date of journey via xpath\n",
    "d=[]\n",
    "model = driver.find_elements(By.XPATH,'/html/body/section[2]/section/section[2]/section[1]/div[1]/div/div[1]/div/ul/li[11]/div/p[1]')\n",
    "for i in model:\n",
    "    d.append(i.text) \n",
    "else:\n",
    "    pass\n",
    "date1 = d* flightlength\n",
    "date= date+date1"
   ]
  },
  {
   "cell_type": "markdown",
   "id": "acf4394f",
   "metadata": {},
   "source": [
    "#### Opening Premium Economy flights from Kolkata to Bangalore on 02 February 2023"
   ]
  },
  {
   "cell_type": "code",
   "execution_count": 71,
   "id": "fe37325b",
   "metadata": {},
   "outputs": [],
   "source": [
    "url = \"https://flight.yatra.com/air-search-ui/dom2/trigger?ADT=1&CHD=0&INF=0&class=Special&destination=BLR&destinationCountry=IN&flexi=0&flight_depart_date=02%2F02%2F2023&hb=0&noOfSegments=1&origin=CCU&originCountry=IN&type=O&unique=341067536568&version=1.1&viewName=normal\"\n",
    "driver.get(url)\n",
    "time.sleep(2)"
   ]
  },
  {
   "cell_type": "code",
   "execution_count": 72,
   "id": "63d1a0a7",
   "metadata": {},
   "outputs": [
    {
     "name": "stderr",
     "output_type": "stream",
     "text": [
      "100%|██████████| 50/50 [00:17<00:00,  2.80it/s]\n"
     ]
    }
   ],
   "source": [
    "from tqdm import tqdm\n",
    "for _ in tqdm (range(0,50)):\n",
    "    time.sleep(0.1)\n",
    "    driver.execute_script(\"window.scrollBy(0,2000)\",\"\")\n",
    "    time.sleep(0.2)\n",
    "    driver.execute_script(\"window.scrollBy(0,-500)\",\"\")"
   ]
  },
  {
   "cell_type": "code",
   "execution_count": 73,
   "id": "bf08056b",
   "metadata": {},
   "outputs": [
    {
     "data": {
      "text/plain": [
       "28"
      ]
     },
     "execution_count": 73,
     "metadata": {},
     "output_type": "execute_result"
    }
   ],
   "source": [
    "flights=driver.find_elements(By.XPATH, '//div[@class=\"flight-det table full-width clearfix\"]')\n",
    "flightlength = len(flights)\n",
    "flightlength"
   ]
  },
  {
   "cell_type": "code",
   "execution_count": 74,
   "id": "7ef953a7",
   "metadata": {},
   "outputs": [
    {
     "name": "stderr",
     "output_type": "stream",
     "text": [
      "100%|██████████| 28/28 [00:00<00:00, 36.06it/s]\n",
      "100%|██████████| 28/28 [00:00<00:00, 35.73it/s]\n",
      "100%|██████████| 28/28 [00:00<00:00, 32.77it/s]\n",
      "100%|██████████| 28/28 [00:00<00:00, 31.03it/s]\n",
      "100%|██████████| 28/28 [00:01<00:00, 27.28it/s]\n",
      "100%|██████████| 28/28 [00:00<00:00, 34.04it/s]\n",
      "100%|██████████| 28/28 [00:00<00:00, 37.68it/s]\n",
      "100%|██████████| 28/28 [00:00<00:00, 42.82it/s]\n"
     ]
    }
   ],
   "source": [
    "# Extracting Airlines Name Via Xpath\n",
    "airlines = driver.find_elements(By.XPATH,\"//div[@class='fs-13 airline-name no-pad col-8']/span\")\n",
    "for i in airlines:\n",
    "    airlines_name.append(i.text.replace(\"\\n\",\" \"))\n",
    "else :\n",
    "    pass\n",
    "\n",
    "# Extracting class of journey via xpath\n",
    "d=[]\n",
    "model = driver.find_elements(By.XPATH,'//div[@class=\"bdr-btm drop-down bold fs-16 cursor-pointer full-width\"]/span/span[3]')\n",
    "for i in model:\n",
    "    d.append(i.text) \n",
    "else:\n",
    "    pass\n",
    "class_of_journey= d* flightlength\n",
    "\n",
    "\n",
    "# Extracting Source of flight via Xpath\n",
    "sou = driver.find_elements(By.XPATH,\"//div[@class='i-b col-4 no-wrap text-right dtime col-3']/p\")\n",
    "for i in tqdm(sou):\n",
    "    source.append(i.text)\n",
    "else :\n",
    "    pass\n",
    "\n",
    "# Extracting Destination of Flights via Xpath\n",
    "dest = driver.find_elements(By.XPATH,'//div[@class=\"i-b pdd-0 text-left atime col-5\"]/p[2]')\n",
    "for i in tqdm(dest):\n",
    "    destination.append(i.text)\n",
    "else:\n",
    "    pass\n",
    "\n",
    "# Extracting Departure Time of Filght via Xpath\n",
    "dept_time = driver.find_elements(By.XPATH,'//div[@class=\"i-b pr\"]')\n",
    "for i in tqdm(dept_time):\n",
    "    departure_time.append(i.text)\n",
    "else :\n",
    "    pass\n",
    "\n",
    "# Extracting Arrival Time via xpath\n",
    "arr_time = driver.find_elements(By.XPATH,'//p[@class=\"bold fs-15 mb-2 pr time\"]')\n",
    "for i in tqdm(arr_time):\n",
    "    arrival_time.append(i.text)\n",
    "else :\n",
    "    pass\n",
    "\n",
    "# Extracting Duration of Flights via Xpath\n",
    "dur = driver.find_elements(By.XPATH,'//div[@class=\"stop-cont pl-13\"]/p')\n",
    "for i in tqdm(dur):\n",
    "    duration.append(i.text)\n",
    "else:\n",
    "    pass\n",
    "\n",
    "# Extracting stop details via Xpath\n",
    "stop = driver.find_elements(By.XPATH,\"//div[@class='stop-cont pl-13']/div/span\")\n",
    "for i in tqdm(stop):\n",
    "    total_stops.append(i.text)\n",
    "else:\n",
    "    pass\n",
    "\n",
    "# Extracting Price of Flights via Xpath\n",
    "p = driver.find_elements(By.XPATH,'//div[@class=\"i-b tipsy fare-summary-tooltip fs-18\"]')\n",
    "for i in tqdm(p):\n",
    "    price.append(i.text.replace(',',''))\n",
    "else:\n",
    "    pass\n",
    "\n",
    "# Extracting Aeroplane model  via xpath\n",
    "model = driver.find_elements(By.XPATH,'//p[@class=\"normal fs-11 font-lightestgrey no-wrap fl-no\"]/span')\n",
    "for i in tqdm(model):\n",
    "    aeroplane_model.append(i.text) \n",
    "else:\n",
    "    pass\n",
    "\n",
    "# Extracting date of journey via xpath\n",
    "d=[]\n",
    "model = driver.find_elements(By.XPATH,'/html/body/section[2]/section/section[2]/section[1]/div[1]/div/div[1]/div/ul/li[11]/div/p[1]')\n",
    "for i in model:\n",
    "    d.append(i.text) \n",
    "else:\n",
    "    pass\n",
    "date1 = d* flightlength\n",
    "date= date+date1"
   ]
  },
  {
   "cell_type": "markdown",
   "id": "4b2de0e7",
   "metadata": {},
   "source": [
    "#### Opening Premium Economy flights from Kolkata to Bangalore on 03 February 2023"
   ]
  },
  {
   "cell_type": "code",
   "execution_count": 76,
   "id": "2f2124b0",
   "metadata": {},
   "outputs": [],
   "source": [
    "url = \"https://flight.yatra.com/air-search-ui/dom2/trigger?ADT=1&CHD=0&INF=0&class=Special&destination=BLR&destinationCountry=IN&flexi=0&flight_depart_date=03%2F02%2F2023&hb=0&noOfSegments=1&origin=CCU&originCountry=IN&type=O&unique=181402542777&version=1.1&viewName=normal\"\n",
    "driver.get(url)\n",
    "time.sleep(2)"
   ]
  },
  {
   "cell_type": "code",
   "execution_count": 77,
   "id": "df77b39e",
   "metadata": {},
   "outputs": [
    {
     "name": "stderr",
     "output_type": "stream",
     "text": [
      "100%|██████████| 50/50 [00:20<00:00,  2.48it/s]\n"
     ]
    }
   ],
   "source": [
    "from tqdm import tqdm\n",
    "for _ in tqdm (range(0,50)):\n",
    "    time.sleep(0.1)\n",
    "    driver.execute_script(\"window.scrollBy(0,2000)\",\"\")\n",
    "    time.sleep(0.2)\n",
    "    driver.execute_script(\"window.scrollBy(0,-500)\",\"\")"
   ]
  },
  {
   "cell_type": "code",
   "execution_count": 78,
   "id": "bf9084a3",
   "metadata": {},
   "outputs": [
    {
     "data": {
      "text/plain": [
       "36"
      ]
     },
     "execution_count": 78,
     "metadata": {},
     "output_type": "execute_result"
    }
   ],
   "source": [
    "flights=driver.find_elements(By.XPATH, '//div[@class=\"flight-det table full-width clearfix\"]')\n",
    "flightlength = len(flights)\n",
    "flightlength"
   ]
  },
  {
   "cell_type": "code",
   "execution_count": 79,
   "id": "19f0b840",
   "metadata": {},
   "outputs": [
    {
     "name": "stderr",
     "output_type": "stream",
     "text": [
      "100%|██████████| 36/36 [00:00<00:00, 39.70it/s]\n",
      "100%|██████████| 36/36 [00:00<00:00, 41.65it/s]\n",
      "100%|██████████| 36/36 [00:00<00:00, 43.74it/s]\n",
      "100%|██████████| 36/36 [00:00<00:00, 42.16it/s]\n",
      "100%|██████████| 36/36 [00:00<00:00, 40.18it/s]\n",
      "100%|██████████| 36/36 [00:01<00:00, 34.95it/s]\n",
      "100%|██████████| 36/36 [00:01<00:00, 33.73it/s]\n",
      "100%|██████████| 36/36 [00:01<00:00, 28.93it/s]\n"
     ]
    }
   ],
   "source": [
    "# Extracting Airlines Name Via Xpath\n",
    "airlines = driver.find_elements(By.XPATH,\"//div[@class='fs-13 airline-name no-pad col-8']/span\")\n",
    "for i in airlines:\n",
    "    airlines_name.append(i.text.replace(\"\\n\",\" \"))\n",
    "else :\n",
    "    pass\n",
    "\n",
    "# Extracting class of journey via xpath\n",
    "d=[]\n",
    "model = driver.find_elements(By.XPATH,'//div[@class=\"bdr-btm drop-down bold fs-16 cursor-pointer full-width\"]/span/span[3]')\n",
    "for i in model:\n",
    "    d.append(i.text) \n",
    "else:\n",
    "    pass\n",
    "class_of_journey= d* flightlength\n",
    "\n",
    "# Extracting Source of flight via Xpath\n",
    "sou = driver.find_elements(By.XPATH,\"//div[@class='i-b col-4 no-wrap text-right dtime col-3']/p\")\n",
    "for i in tqdm(sou):\n",
    "    source.append(i.text)\n",
    "else :\n",
    "    pass\n",
    "\n",
    "# Extracting Destination of Flights via Xpath\n",
    "dest = driver.find_elements(By.XPATH,'//div[@class=\"i-b pdd-0 text-left atime col-5\"]/p[2]')\n",
    "for i in tqdm(dest):\n",
    "    destination.append(i.text)\n",
    "else:\n",
    "    pass\n",
    "\n",
    "# Extracting Departure Time of Filght via Xpath\n",
    "dept_time = driver.find_elements(By.XPATH,'//div[@class=\"i-b pr\"]')\n",
    "for i in tqdm(dept_time):\n",
    "    departure_time.append(i.text)\n",
    "else :\n",
    "    pass\n",
    "\n",
    "# Extracting Arrival Time via xpath\n",
    "arr_time = driver.find_elements(By.XPATH,'//p[@class=\"bold fs-15 mb-2 pr time\"]')\n",
    "for i in tqdm(arr_time):\n",
    "    arrival_time.append(i.text)\n",
    "else :\n",
    "    pass\n",
    "\n",
    "# Extracting Duration of Flights via Xpath\n",
    "dur = driver.find_elements(By.XPATH,'//div[@class=\"stop-cont pl-13\"]/p')\n",
    "for i in tqdm(dur):\n",
    "    duration.append(i.text)\n",
    "else:\n",
    "    pass\n",
    "\n",
    "# Extracting stop details via Xpath\n",
    "stop = driver.find_elements(By.XPATH,\"//div[@class='stop-cont pl-13']/div/span\")\n",
    "for i in tqdm(stop):\n",
    "    total_stops.append(i.text)\n",
    "else:\n",
    "    pass\n",
    "\n",
    "# Extracting Price of Flights via Xpath\n",
    "p = driver.find_elements(By.XPATH,'//div[@class=\"i-b tipsy fare-summary-tooltip fs-18\"]')\n",
    "for i in tqdm(p):\n",
    "    price.append(i.text.replace(',',''))\n",
    "else:\n",
    "    pass\n",
    "\n",
    "# Extracting Aeroplane model  via xpath\n",
    "model = driver.find_elements(By.XPATH,'//p[@class=\"normal fs-11 font-lightestgrey no-wrap fl-no\"]/span')\n",
    "for i in tqdm(model):\n",
    "    aeroplane_model.append(i.text) \n",
    "else:\n",
    "    pass\n",
    "\n",
    "# Extracting date of journey via xpath\n",
    "d=[]\n",
    "model = driver.find_elements(By.XPATH,'/html/body/section[2]/section/section[2]/section[1]/div[1]/div/div[1]/div/ul/li[11]/div/p[1]')\n",
    "for i in model:\n",
    "    d.append(i.text) \n",
    "else:\n",
    "    pass\n",
    "date1 = d* flightlength\n",
    "date= date+date1"
   ]
  },
  {
   "cell_type": "code",
   "execution_count": 80,
   "id": "b0b40900",
   "metadata": {},
   "outputs": [
    {
     "data": {
      "text/plain": [
       "(710, 710, 710, 710, 710, 710, 710, 710, 710, 710)"
      ]
     },
     "execution_count": 80,
     "metadata": {},
     "output_type": "execute_result"
    }
   ],
   "source": [
    "len(date), len(airlines_name), len(source), len(destination), len(departure_time), len(arrival_time), len(duration), len(total_stops),len(price), len(aeroplane_model)"
   ]
  },
  {
   "cell_type": "markdown",
   "id": "6988d84a",
   "metadata": {},
   "source": [
    "#### Opening Premium Economy flights from Kolkata to Bangalore on 04 February 2023"
   ]
  },
  {
   "cell_type": "code",
   "execution_count": 81,
   "id": "48a675ea",
   "metadata": {},
   "outputs": [],
   "source": [
    "url = \"https://flight.yatra.com/air-search-ui/dom2/trigger?ADT=1&CHD=0&INF=0&class=Special&destination=BLR&destinationCountry=IN&flexi=0&flight_depart_date=04%2F02%2F2023&hb=0&noOfSegments=1&origin=CCU&originCountry=IN&type=O&unique=917389253178&version=1.1&viewName=normal\"\n",
    "driver.get(url)\n",
    "time.sleep(2)"
   ]
  },
  {
   "cell_type": "code",
   "execution_count": 82,
   "id": "2b61f7df",
   "metadata": {},
   "outputs": [
    {
     "name": "stderr",
     "output_type": "stream",
     "text": [
      "100%|██████████| 50/50 [00:18<00:00,  2.76it/s]\n"
     ]
    }
   ],
   "source": [
    "from tqdm import tqdm\n",
    "for _ in tqdm (range(0,50)):\n",
    "    time.sleep(0.1)\n",
    "    driver.execute_script(\"window.scrollBy(0,2000)\",\"\")\n",
    "    time.sleep(0.2)\n",
    "    driver.execute_script(\"window.scrollBy(0,-500)\",\"\")"
   ]
  },
  {
   "cell_type": "code",
   "execution_count": 83,
   "id": "ae82de04",
   "metadata": {},
   "outputs": [
    {
     "data": {
      "text/plain": [
       "27"
      ]
     },
     "execution_count": 83,
     "metadata": {},
     "output_type": "execute_result"
    }
   ],
   "source": [
    "flights=driver.find_elements(By.XPATH, '//div[@class=\"flight-det table full-width clearfix\"]')\n",
    "flightlength = len(flights)\n",
    "flightlength"
   ]
  },
  {
   "cell_type": "code",
   "execution_count": 84,
   "id": "f23e8492",
   "metadata": {},
   "outputs": [
    {
     "name": "stderr",
     "output_type": "stream",
     "text": [
      "100%|██████████| 27/27 [00:00<00:00, 39.25it/s]\n",
      "100%|██████████| 27/27 [00:00<00:00, 42.19it/s]\n",
      "100%|██████████| 27/27 [00:00<00:00, 37.50it/s]\n",
      "100%|██████████| 27/27 [00:00<00:00, 38.48it/s]\n",
      "100%|██████████| 27/27 [00:00<00:00, 30.41it/s]\n",
      "100%|██████████| 27/27 [00:01<00:00, 26.17it/s]\n",
      "100%|██████████| 27/27 [00:00<00:00, 30.97it/s]\n",
      "100%|██████████| 27/27 [00:01<00:00, 25.77it/s]\n"
     ]
    }
   ],
   "source": [
    "# Extracting Airlines Name Via Xpath\n",
    "airlines = driver.find_elements(By.XPATH,\"//div[@class='fs-13 airline-name no-pad col-8']/span\")\n",
    "for i in airlines:\n",
    "    airlines_name.append(i.text.replace(\"\\n\",\" \"))\n",
    "else :\n",
    "    pass\n",
    "\n",
    "# Extracting class of journey via xpath\n",
    "d=[]\n",
    "model = driver.find_elements(By.XPATH,'//div[@class=\"bdr-btm drop-down bold fs-16 cursor-pointer full-width\"]/span/span[3]')\n",
    "for i in model:\n",
    "    d.append(i.text) \n",
    "else:\n",
    "    pass\n",
    "class_of_journey= d* flightlength\n",
    "\n",
    "# Extracting Source of flight via Xpath\n",
    "sou = driver.find_elements(By.XPATH,\"//div[@class='i-b col-4 no-wrap text-right dtime col-3']/p\")\n",
    "for i in tqdm(sou):\n",
    "    source.append(i.text)\n",
    "else :\n",
    "    pass\n",
    "\n",
    "# Extracting Destination of Flights via Xpath\n",
    "dest = driver.find_elements(By.XPATH,'//div[@class=\"i-b pdd-0 text-left atime col-5\"]/p[2]')\n",
    "for i in tqdm(dest):\n",
    "    destination.append(i.text)\n",
    "else:\n",
    "    pass\n",
    "\n",
    "# Extracting Departure Time of Filght via Xpath\n",
    "dept_time = driver.find_elements(By.XPATH,'//div[@class=\"i-b pr\"]')\n",
    "for i in tqdm(dept_time):\n",
    "    departure_time.append(i.text)\n",
    "else :\n",
    "    pass\n",
    "\n",
    "# Extracting Arrival Time via xpath\n",
    "arr_time = driver.find_elements(By.XPATH,'//p[@class=\"bold fs-15 mb-2 pr time\"]')\n",
    "for i in tqdm(arr_time):\n",
    "    arrival_time.append(i.text)\n",
    "else :\n",
    "    pass\n",
    "\n",
    "# Extracting Duration of Flights via Xpath\n",
    "dur = driver.find_elements(By.XPATH,'//div[@class=\"stop-cont pl-13\"]/p')\n",
    "for i in tqdm(dur):\n",
    "    duration.append(i.text)\n",
    "else:\n",
    "    pass\n",
    "\n",
    "# Extracting stop details via Xpath\n",
    "stop = driver.find_elements(By.XPATH,\"//div[@class='stop-cont pl-13']/div/span\")\n",
    "for i in tqdm(stop):\n",
    "    total_stops.append(i.text)\n",
    "else:\n",
    "    pass\n",
    "\n",
    "# Extracting Price of Flights via Xpath\n",
    "p = driver.find_elements(By.XPATH,'//div[@class=\"i-b tipsy fare-summary-tooltip fs-18\"]')\n",
    "for i in tqdm(p):\n",
    "    price.append(i.text.replace(',',''))\n",
    "else:\n",
    "    pass\n",
    "\n",
    "# Extracting Aeroplane model  via xpath\n",
    "model = driver.find_elements(By.XPATH,'//p[@class=\"normal fs-11 font-lightestgrey no-wrap fl-no\"]/span')\n",
    "for i in tqdm(model):\n",
    "    aeroplane_model.append(i.text) \n",
    "else:\n",
    "    pass\n",
    "\n",
    "# Extracting date of journey via xpath\n",
    "d=[]\n",
    "model = driver.find_elements(By.XPATH,'/html/body/section[2]/section/section[2]/section[1]/div[1]/div/div[1]/div/ul/li[11]/div/p[1]')\n",
    "for i in model:\n",
    "    d.append(i.text) \n",
    "else:\n",
    "    pass\n",
    "date1 = d* flightlength\n",
    "date= date+date1"
   ]
  },
  {
   "cell_type": "markdown",
   "id": "577bfd12",
   "metadata": {},
   "source": [
    "#### Opening Premium Economy flights from Kolkata to Bangalore on 23 February 2023"
   ]
  },
  {
   "cell_type": "code",
   "execution_count": 87,
   "id": "f9444e21",
   "metadata": {},
   "outputs": [],
   "source": [
    "url = \"https://flight.yatra.com/air-search-ui/dom2/trigger?ADT=1&CHD=0&INF=0&class=Special&destination=BLR&destinationCountry=IN&flexi=0&flight_depart_date=23%2F02%2F2023&hb=0&noOfSegments=1&origin=CCU&originCountry=IN&type=O&unique=949905263689&version=1.1&viewName=normal\"\n",
    "driver.get(url)\n",
    "time.sleep(2)"
   ]
  },
  {
   "cell_type": "code",
   "execution_count": 88,
   "id": "4db70fb2",
   "metadata": {},
   "outputs": [
    {
     "data": {
      "text/plain": [
       "28"
      ]
     },
     "execution_count": 88,
     "metadata": {},
     "output_type": "execute_result"
    }
   ],
   "source": [
    "flights=driver.find_elements(By.XPATH, '//div[@class=\"flight-det table full-width clearfix\"]')\n",
    "flightlength = len(flights)\n",
    "flightlength"
   ]
  },
  {
   "cell_type": "code",
   "execution_count": 90,
   "id": "e1080801",
   "metadata": {},
   "outputs": [
    {
     "data": {
      "text/plain": [
       "(765, 765, 765, 765, 765, 765, 765, 765, 765, 765)"
      ]
     },
     "execution_count": 90,
     "metadata": {},
     "output_type": "execute_result"
    }
   ],
   "source": [
    "len(date), len(airlines_name), len(source), len(destination), len(departure_time), len(arrival_time), len(duration), len(total_stops),len(price), len(aeroplane_model)"
   ]
  },
  {
   "cell_type": "markdown",
   "id": "8c47c7c2",
   "metadata": {},
   "source": [
    "#### Opening Premium Economy flights from Kolkata to Bangalore on 21 March 2023"
   ]
  },
  {
   "cell_type": "code",
   "execution_count": 91,
   "id": "89ee821e",
   "metadata": {},
   "outputs": [],
   "source": [
    "url = \"https://flight.yatra.com/air-search-ui/dom2/trigger?ADT=1&CHD=0&INF=0&class=Special&destination=BLR&destinationCountry=IN&flexi=0&flight_depart_date=21%2F03%2F2023&hb=0&noOfSegments=1&origin=CCU&originCountry=IN&type=O&unique=405981924458&version=1.1&viewName=normal\"\n",
    "driver.get(url)\n",
    "time.sleep(2)"
   ]
  },
  {
   "cell_type": "code",
   "execution_count": 93,
   "id": "432daf92",
   "metadata": {},
   "outputs": [
    {
     "data": {
      "text/plain": [
       "26"
      ]
     },
     "execution_count": 93,
     "metadata": {},
     "output_type": "execute_result"
    }
   ],
   "source": [
    "flights=driver.find_elements(By.XPATH, '//div[@class=\"flight-det table full-width clearfix\"]')\n",
    "flightlength = len(flights)\n",
    "flightlength"
   ]
  },
  {
   "cell_type": "code",
   "execution_count": 94,
   "id": "5ea68b54",
   "metadata": {},
   "outputs": [
    {
     "name": "stderr",
     "output_type": "stream",
     "text": [
      "100%|██████████| 26/26 [00:00<00:00, 39.57it/s]\n",
      "100%|██████████| 26/26 [00:00<00:00, 44.25it/s]\n",
      "100%|██████████| 26/26 [00:00<00:00, 34.95it/s]\n",
      "100%|██████████| 26/26 [00:00<00:00, 37.79it/s]\n",
      "100%|██████████| 26/26 [00:00<00:00, 39.16it/s]\n",
      "100%|██████████| 26/26 [00:00<00:00, 37.78it/s]\n",
      "100%|██████████| 26/26 [00:00<00:00, 28.02it/s]\n",
      "100%|██████████| 26/26 [00:00<00:00, 30.66it/s]\n"
     ]
    }
   ],
   "source": [
    "# Extracting Airlines Name Via Xpath\n",
    "airlines = driver.find_elements(By.XPATH,\"//div[@class='fs-13 airline-name no-pad col-8']/span\")\n",
    "for i in airlines:\n",
    "    airlines_name.append(i.text.replace(\"\\n\",\" \"))\n",
    "else :\n",
    "    pass\n",
    "\n",
    "# Extracting class of journey via xpath\n",
    "d=[]\n",
    "model = driver.find_elements(By.XPATH,'//div[@class=\"bdr-btm drop-down bold fs-16 cursor-pointer full-width\"]/span/span[3]')\n",
    "for i in model:\n",
    "    d.append(i.text) \n",
    "else:\n",
    "    pass\n",
    "class_of_journey= d* flightlength\n",
    "\n",
    "\n",
    "# Extracting Source of flight via Xpath\n",
    "sou = driver.find_elements(By.XPATH,\"//div[@class='i-b col-4 no-wrap text-right dtime col-3']/p\")\n",
    "for i in tqdm(sou):\n",
    "    source.append(i.text)\n",
    "else :\n",
    "    pass\n",
    "\n",
    "# Extracting Destination of Flights via Xpath\n",
    "dest = driver.find_elements(By.XPATH,'//div[@class=\"i-b pdd-0 text-left atime col-5\"]/p[2]')\n",
    "for i in tqdm(dest):\n",
    "    destination.append(i.text)\n",
    "else:\n",
    "    pass\n",
    "\n",
    "# Extracting Departure Time of Filght via Xpath\n",
    "dept_time = driver.find_elements(By.XPATH,'//div[@class=\"i-b pr\"]')\n",
    "for i in tqdm(dept_time):\n",
    "    departure_time.append(i.text)\n",
    "else :\n",
    "    pass\n",
    "\n",
    "# Extracting Arrival Time via xpath\n",
    "arr_time = driver.find_elements(By.XPATH,'//p[@class=\"bold fs-15 mb-2 pr time\"]')\n",
    "for i in tqdm(arr_time):\n",
    "    arrival_time.append(i.text)\n",
    "else :\n",
    "    pass\n",
    "\n",
    "# Extracting Duration of Flights via Xpath\n",
    "dur = driver.find_elements(By.XPATH,'//div[@class=\"stop-cont pl-13\"]/p')\n",
    "for i in tqdm(dur):\n",
    "    duration.append(i.text)\n",
    "else:\n",
    "    pass\n",
    "\n",
    "# Extracting stop details via Xpath\n",
    "stop = driver.find_elements(By.XPATH,\"//div[@class='stop-cont pl-13']/div/span\")\n",
    "for i in tqdm(stop):\n",
    "    total_stops.append(i.text)\n",
    "else:\n",
    "    pass\n",
    "\n",
    "# Extracting Price of Flights via Xpath\n",
    "p = driver.find_elements(By.XPATH,'//div[@class=\"i-b tipsy fare-summary-tooltip fs-18\"]')\n",
    "for i in tqdm(p):\n",
    "    price.append(i.text.replace(',',''))\n",
    "else:\n",
    "    pass\n",
    "\n",
    "# Extracting Aeroplane model  via xpath\n",
    "model = driver.find_elements(By.XPATH,'//p[@class=\"normal fs-11 font-lightestgrey no-wrap fl-no\"]/span')\n",
    "for i in tqdm(model):\n",
    "    aeroplane_model.append(i.text) \n",
    "else:\n",
    "    pass\n",
    "\n",
    "# Extracting date of journey via xpath\n",
    "d=[]\n",
    "model = driver.find_elements(By.XPATH,'/html/body/section[2]/section/section[2]/section[1]/div[1]/div/div[1]/div/ul/li[11]/div/p[1]')\n",
    "for i in model:\n",
    "    d.append(i.text) \n",
    "else:\n",
    "    pass\n",
    "date1 = d* flightlength\n",
    "date= date+date1"
   ]
  },
  {
   "cell_type": "markdown",
   "id": "cf00d6f7",
   "metadata": {},
   "source": [
    "#### Opening Premium Economy flights from Kolkata to Bangalore on 21 April 2023"
   ]
  },
  {
   "cell_type": "code",
   "execution_count": 96,
   "id": "e89543ec",
   "metadata": {},
   "outputs": [],
   "source": [
    "url = \"https://flight.yatra.com/air-search-ui/dom2/trigger?ADT=1&CHD=0&INF=0&class=Special&destination=BLR&destinationCountry=IN&flexi=0&flight_depart_date=21%2F04%2F2023&hb=0&noOfSegments=1&origin=CCU&originCountry=IN&type=O&unique=1361503860440&version=1.1&viewName=normal\"\n",
    "driver.get(url)\n",
    "time.sleep(2)"
   ]
  },
  {
   "cell_type": "code",
   "execution_count": 97,
   "id": "db0333b6",
   "metadata": {},
   "outputs": [
    {
     "name": "stderr",
     "output_type": "stream",
     "text": [
      "100%|██████████| 50/50 [00:18<00:00,  2.73it/s]\n"
     ]
    }
   ],
   "source": [
    "from tqdm import tqdm\n",
    "for _ in tqdm (range(0,50)):\n",
    "    time.sleep(0.1)\n",
    "    driver.execute_script(\"window.scrollBy(0,2000)\",\"\")\n",
    "    time.sleep(0.2)\n",
    "    driver.execute_script(\"window.scrollBy(0,-500)\",\"\")"
   ]
  },
  {
   "cell_type": "code",
   "execution_count": 98,
   "id": "329ea748",
   "metadata": {},
   "outputs": [
    {
     "data": {
      "text/plain": [
       "35"
      ]
     },
     "execution_count": 98,
     "metadata": {},
     "output_type": "execute_result"
    }
   ],
   "source": [
    "flights=driver.find_elements(By.XPATH, '//div[@class=\"flight-det table full-width clearfix\"]')\n",
    "flightlength = len(flights)\n",
    "flightlength"
   ]
  },
  {
   "cell_type": "code",
   "execution_count": 99,
   "id": "47fd16e3",
   "metadata": {},
   "outputs": [
    {
     "name": "stderr",
     "output_type": "stream",
     "text": [
      "100%|██████████| 35/35 [00:00<00:00, 40.89it/s]\n",
      "100%|██████████| 35/35 [00:00<00:00, 41.59it/s]\n",
      "100%|██████████| 35/35 [00:00<00:00, 35.82it/s]\n",
      "100%|██████████| 35/35 [00:00<00:00, 39.70it/s]\n",
      "100%|██████████| 35/35 [00:00<00:00, 36.39it/s]\n",
      "100%|██████████| 35/35 [00:00<00:00, 40.41it/s]\n",
      "100%|██████████| 35/35 [00:00<00:00, 37.01it/s]\n",
      "100%|██████████| 35/35 [00:01<00:00, 33.95it/s]\n"
     ]
    }
   ],
   "source": [
    "# Extracting Airlines Name Via Xpath\n",
    "airlines = driver.find_elements(By.XPATH,\"//div[@class='fs-13 airline-name no-pad col-8']/span\")\n",
    "for i in airlines:\n",
    "    airlines_name.append(i.text.replace(\"\\n\",\" \"))\n",
    "else :\n",
    "    pass\n",
    "\n",
    "# Extracting class of journey via xpath\n",
    "d=[]\n",
    "model = driver.find_elements(By.XPATH,'//div[@class=\"bdr-btm drop-down bold fs-16 cursor-pointer full-width\"]/span/span[3]')\n",
    "for i in model:\n",
    "    d.append(i.text) \n",
    "else:\n",
    "    pass\n",
    "class_of_journey= d* flightlength\n",
    "\n",
    "\n",
    "# Extracting Source of flight via Xpath\n",
    "sou = driver.find_elements(By.XPATH,\"//div[@class='i-b col-4 no-wrap text-right dtime col-3']/p\")\n",
    "for i in tqdm(sou):\n",
    "    source.append(i.text)\n",
    "else :\n",
    "    pass\n",
    "\n",
    "# Extracting Destination of Flights via Xpath\n",
    "dest = driver.find_elements(By.XPATH,'//div[@class=\"i-b pdd-0 text-left atime col-5\"]/p[2]')\n",
    "for i in tqdm(dest):\n",
    "    destination.append(i.text)\n",
    "else:\n",
    "    pass\n",
    "\n",
    "# Extracting Departure Time of Filght via Xpath\n",
    "dept_time = driver.find_elements(By.XPATH,'//div[@class=\"i-b pr\"]')\n",
    "for i in tqdm(dept_time):\n",
    "    departure_time.append(i.text)\n",
    "else :\n",
    "    pass\n",
    "\n",
    "# Extracting Arrival Time via xpath\n",
    "arr_time = driver.find_elements(By.XPATH,'//p[@class=\"bold fs-15 mb-2 pr time\"]')\n",
    "for i in tqdm(arr_time):\n",
    "    arrival_time.append(i.text)\n",
    "else :\n",
    "    pass\n",
    "\n",
    "# Extracting Duration of Flights via Xpath\n",
    "dur = driver.find_elements(By.XPATH,'//div[@class=\"stop-cont pl-13\"]/p')\n",
    "for i in tqdm(dur):\n",
    "    duration.append(i.text)\n",
    "else:\n",
    "    pass\n",
    "\n",
    "# Extracting stop details via Xpath\n",
    "stop = driver.find_elements(By.XPATH,\"//div[@class='stop-cont pl-13']/div/span\")\n",
    "for i in tqdm(stop):\n",
    "    total_stops.append(i.text)\n",
    "else:\n",
    "    pass\n",
    "\n",
    "# Extracting Price of Flights via Xpath\n",
    "p = driver.find_elements(By.XPATH,'//div[@class=\"i-b tipsy fare-summary-tooltip fs-18\"]')\n",
    "for i in tqdm(p):\n",
    "    price.append(i.text.replace(',',''))\n",
    "else:\n",
    "    pass\n",
    "\n",
    "# Extracting Aeroplane model  via xpath\n",
    "model = driver.find_elements(By.XPATH,'//p[@class=\"normal fs-11 font-lightestgrey no-wrap fl-no\"]/span')\n",
    "for i in tqdm(model):\n",
    "    aeroplane_model.append(i.text) \n",
    "else:\n",
    "    pass\n",
    "\n",
    "# Extracting date of journey via xpath\n",
    "d=[]\n",
    "model = driver.find_elements(By.XPATH,'/html/body/section[2]/section/section[2]/section[1]/div[1]/div/div[1]/div/ul/li[11]/div/p[1]')\n",
    "for i in model:\n",
    "    d.append(i.text) \n",
    "else:\n",
    "    pass\n",
    "date1 = d* flightlength\n",
    "date= date+date1"
   ]
  },
  {
   "cell_type": "code",
   "execution_count": 100,
   "id": "9ec5622c",
   "metadata": {},
   "outputs": [
    {
     "data": {
      "text/plain": [
       "(826, 826, 826, 826, 826, 826, 826, 826, 826, 826)"
      ]
     },
     "execution_count": 100,
     "metadata": {},
     "output_type": "execute_result"
    }
   ],
   "source": [
    "len(date), len(airlines_name), len(source), len(destination), len(departure_time), len(arrival_time), len(duration), len(total_stops),len(price), len(aeroplane_model)"
   ]
  },
  {
   "cell_type": "markdown",
   "id": "da23e15e",
   "metadata": {},
   "source": [
    "#### Opening Business class flights from Kolkata to Bangalore on 09 January 2023"
   ]
  },
  {
   "cell_type": "code",
   "execution_count": 102,
   "id": "2200bca7",
   "metadata": {},
   "outputs": [],
   "source": [
    "url = \"https://flight.yatra.com/air-search-ui/dom2/trigger?ADT=1&CHD=0&INF=0&class=Business&destination=BLR&destinationCountry=IN&flexi=0&flight_depart_date=09%2F01%2F2023&hb=0&noOfSegments=1&origin=CCU&originCountry=IN&type=O&unique=852578700354&version=1.1&viewName=normal\"\n",
    "driver.get(url)\n",
    "time.sleep(2)"
   ]
  },
  {
   "cell_type": "code",
   "execution_count": 103,
   "id": "e6f379cd",
   "metadata": {},
   "outputs": [
    {
     "name": "stderr",
     "output_type": "stream",
     "text": [
      "100%|██████████| 50/50 [00:21<00:00,  2.37it/s]\n"
     ]
    }
   ],
   "source": [
    "from tqdm import tqdm\n",
    "for _ in tqdm (range(0,50)):\n",
    "    time.sleep(0.1)\n",
    "    driver.execute_script(\"window.scrollBy(0,2000)\",\"\")\n",
    "    time.sleep(0.2)\n",
    "    driver.execute_script(\"window.scrollBy(0,-500)\",\"\")"
   ]
  },
  {
   "cell_type": "code",
   "execution_count": 104,
   "id": "80940283",
   "metadata": {},
   "outputs": [
    {
     "data": {
      "text/plain": [
       "53"
      ]
     },
     "execution_count": 104,
     "metadata": {},
     "output_type": "execute_result"
    }
   ],
   "source": [
    "flights=driver.find_elements(By.XPATH, '//div[@class=\"flight-det table full-width clearfix\"]')\n",
    "flightlength = len(flights)\n",
    "flightlength"
   ]
  },
  {
   "cell_type": "code",
   "execution_count": 105,
   "id": "6d30496b",
   "metadata": {},
   "outputs": [
    {
     "name": "stderr",
     "output_type": "stream",
     "text": [
      "100%|██████████| 53/53 [00:01<00:00, 31.25it/s]\n",
      "100%|██████████| 53/53 [00:01<00:00, 29.85it/s]\n",
      "100%|██████████| 53/53 [00:01<00:00, 34.33it/s]\n",
      "100%|██████████| 53/53 [00:01<00:00, 35.52it/s]\n",
      "100%|██████████| 53/53 [00:01<00:00, 27.84it/s]\n",
      "100%|██████████| 53/53 [00:01<00:00, 34.74it/s]\n",
      "100%|██████████| 53/53 [00:01<00:00, 31.83it/s]\n",
      "100%|██████████| 53/53 [00:01<00:00, 30.22it/s]\n"
     ]
    }
   ],
   "source": [
    "# Extracting Airlines Name Via Xpath\n",
    "airlines = driver.find_elements(By.XPATH,\"//div[@class='fs-13 airline-name no-pad col-8']/span\")\n",
    "for i in airlines:\n",
    "    airlines_name.append(i.text.replace(\"\\n\",\" \"))\n",
    "else :\n",
    "    pass\n",
    "\n",
    "# Extracting class of journey via xpath\n",
    "d=[]\n",
    "model = driver.find_elements(By.XPATH,'//div[@class=\"bdr-btm drop-down bold fs-16 cursor-pointer full-width\"]/span/span[3]')\n",
    "for i in model:\n",
    "    d.append(i.text) \n",
    "else:\n",
    "    pass\n",
    "class_of_journey= d* flightlength\n",
    "\n",
    "# Extracting Source of flight via Xpath\n",
    "sou = driver.find_elements(By.XPATH,\"//div[@class='i-b col-4 no-wrap text-right dtime col-3']/p\")\n",
    "for i in tqdm(sou):\n",
    "    source.append(i.text)\n",
    "else :\n",
    "    pass\n",
    "\n",
    "# Extracting Destination of Flights via Xpath\n",
    "dest = driver.find_elements(By.XPATH,'//div[@class=\"i-b pdd-0 text-left atime col-5\"]/p[2]')\n",
    "for i in tqdm(dest):\n",
    "    destination.append(i.text)\n",
    "else:\n",
    "    pass\n",
    "\n",
    "# Extracting Departure Time of Filght via Xpath\n",
    "dept_time = driver.find_elements(By.XPATH,'//div[@class=\"i-b pr\"]')\n",
    "for i in tqdm(dept_time):\n",
    "    departure_time.append(i.text)\n",
    "else :\n",
    "    pass\n",
    "\n",
    "# Extracting Arrival Time via xpath\n",
    "arr_time = driver.find_elements(By.XPATH,'//p[@class=\"bold fs-15 mb-2 pr time\"]')\n",
    "for i in tqdm(arr_time):\n",
    "    arrival_time.append(i.text)\n",
    "else :\n",
    "    pass\n",
    "\n",
    "# Extracting Duration of Flights via Xpath\n",
    "dur = driver.find_elements(By.XPATH,'//div[@class=\"stop-cont pl-13\"]/p')\n",
    "for i in tqdm(dur):\n",
    "    duration.append(i.text)\n",
    "else:\n",
    "    pass\n",
    "\n",
    "# Extracting stop details via Xpath\n",
    "stop = driver.find_elements(By.XPATH,\"//div[@class='stop-cont pl-13']/div/span\")\n",
    "for i in tqdm(stop):\n",
    "    total_stops.append(i.text)\n",
    "else:\n",
    "    pass\n",
    "\n",
    "# Extracting Price of Flights via Xpath\n",
    "p = driver.find_elements(By.XPATH,'//div[@class=\"i-b tipsy fare-summary-tooltip fs-18\"]')\n",
    "for i in tqdm(p):\n",
    "    price.append(i.text.replace(',',''))\n",
    "else:\n",
    "    pass\n",
    "\n",
    "# Extracting Aeroplane model  via xpath\n",
    "model = driver.find_elements(By.XPATH,'//p[@class=\"normal fs-11 font-lightestgrey no-wrap fl-no\"]/span')\n",
    "for i in tqdm(model):\n",
    "    aeroplane_model.append(i.text) \n",
    "else:\n",
    "    pass\n",
    "\n",
    "# Extracting date of journey via xpath\n",
    "d=[]\n",
    "model = driver.find_elements(By.XPATH,'/html/body/section[2]/section/section[2]/section[1]/div[1]/div/div[1]/div/ul/li[1]/div/p[1]')\n",
    "for i in model:\n",
    "    d.append(i.text) \n",
    "else:\n",
    "    pass\n",
    "date1 = d* flightlength\n",
    "date= date+date1"
   ]
  },
  {
   "cell_type": "markdown",
   "id": "e2975e03",
   "metadata": {},
   "source": [
    "#### Opening Business class flights from Kolkata to Bangalore on 18 January 2023"
   ]
  },
  {
   "cell_type": "code",
   "execution_count": 107,
   "id": "3ebae778",
   "metadata": {},
   "outputs": [],
   "source": [
    "url = \"https://flight.yatra.com/air-search-ui/dom2/trigger?ADT=1&CHD=0&INF=0&class=Business&destination=BLR&destinationCountry=IN&flexi=0&flight_depart_date=18%2F01%2F2023&hb=0&noOfSegments=1&origin=CCU&originCountry=IN&type=O&unique=115400227503&version=1.1&viewName=normal\"\n",
    "driver.get(url)\n",
    "time.sleep(2)"
   ]
  },
  {
   "cell_type": "code",
   "execution_count": 108,
   "id": "7558b4cd",
   "metadata": {},
   "outputs": [
    {
     "name": "stderr",
     "output_type": "stream",
     "text": [
      "100%|██████████| 50/50 [00:19<00:00,  2.53it/s]\n"
     ]
    }
   ],
   "source": [
    "from tqdm import tqdm\n",
    "for _ in tqdm (range(0,50)):\n",
    "    time.sleep(0.1)\n",
    "    driver.execute_script(\"window.scrollBy(0,2000)\",\"\")\n",
    "    time.sleep(0.2)\n",
    "    driver.execute_script(\"window.scrollBy(0,-500)\",\"\")"
   ]
  },
  {
   "cell_type": "code",
   "execution_count": 109,
   "id": "20fe5dd8",
   "metadata": {},
   "outputs": [
    {
     "data": {
      "text/plain": [
       "59"
      ]
     },
     "execution_count": 109,
     "metadata": {},
     "output_type": "execute_result"
    }
   ],
   "source": [
    "flights=driver.find_elements(By.XPATH, '//div[@class=\"flight-det table full-width clearfix\"]')\n",
    "flightlength = len(flights)\n",
    "flightlength"
   ]
  },
  {
   "cell_type": "code",
   "execution_count": 110,
   "id": "ec21b50e",
   "metadata": {},
   "outputs": [
    {
     "name": "stderr",
     "output_type": "stream",
     "text": [
      "100%|██████████| 59/59 [00:01<00:00, 35.12it/s]\n",
      "100%|██████████| 59/59 [00:01<00:00, 32.82it/s]\n",
      "100%|██████████| 59/59 [00:02<00:00, 25.88it/s]\n",
      "100%|██████████| 59/59 [00:02<00:00, 27.94it/s]\n",
      "100%|██████████| 59/59 [00:01<00:00, 33.04it/s]\n",
      "100%|██████████| 59/59 [00:01<00:00, 34.74it/s]\n",
      "100%|██████████| 59/59 [00:02<00:00, 25.69it/s]\n",
      "100%|██████████| 59/59 [00:02<00:00, 29.15it/s]\n"
     ]
    }
   ],
   "source": [
    "# Extracting Airlines Name Via Xpath\n",
    "airlines = driver.find_elements(By.XPATH,\"//div[@class='fs-13 airline-name no-pad col-8']/span\")\n",
    "for i in airlines:\n",
    "    airlines_name.append(i.text.replace(\"\\n\",\" \"))\n",
    "else :\n",
    "    pass\n",
    "\n",
    "# Extracting class of journey via xpath\n",
    "d=[]\n",
    "model = driver.find_elements(By.XPATH,'//div[@class=\"bdr-btm drop-down bold fs-16 cursor-pointer full-width\"]/span/span[3]')\n",
    "for i in model:\n",
    "    d.append(i.text) \n",
    "else:\n",
    "    pass\n",
    "class_of_journey= d* flightlength\n",
    "\n",
    "\n",
    "# Extracting Source of flight via Xpath\n",
    "sou = driver.find_elements(By.XPATH,\"//div[@class='i-b col-4 no-wrap text-right dtime col-3']/p\")\n",
    "for i in tqdm(sou):\n",
    "    source.append(i.text)\n",
    "else :\n",
    "    pass\n",
    "\n",
    "# Extracting Destination of Flights via Xpath\n",
    "dest = driver.find_elements(By.XPATH,'//div[@class=\"i-b pdd-0 text-left atime col-5\"]/p[2]')\n",
    "for i in tqdm(dest):\n",
    "    destination.append(i.text)\n",
    "else:\n",
    "    pass\n",
    "\n",
    "# Extracting Departure Time of Filght via Xpath\n",
    "dept_time = driver.find_elements(By.XPATH,'//div[@class=\"i-b pr\"]')\n",
    "for i in tqdm(dept_time):\n",
    "    departure_time.append(i.text)\n",
    "else :\n",
    "    pass\n",
    "\n",
    "# Extracting Arrival Time via xpath\n",
    "arr_time = driver.find_elements(By.XPATH,'//p[@class=\"bold fs-15 mb-2 pr time\"]')\n",
    "for i in tqdm(arr_time):\n",
    "    arrival_time.append(i.text)\n",
    "else :\n",
    "    pass\n",
    "\n",
    "# Extracting Duration of Flights via Xpath\n",
    "dur = driver.find_elements(By.XPATH,'//div[@class=\"stop-cont pl-13\"]/p')\n",
    "for i in tqdm(dur):\n",
    "    duration.append(i.text)\n",
    "else:\n",
    "    pass\n",
    "\n",
    "# Extracting stop details via Xpath\n",
    "stop = driver.find_elements(By.XPATH,\"//div[@class='stop-cont pl-13']/div/span\")\n",
    "for i in tqdm(stop):\n",
    "    total_stops.append(i.text)\n",
    "else:\n",
    "    pass\n",
    "\n",
    "# Extracting Price of Flights via Xpath\n",
    "p = driver.find_elements(By.XPATH,'//div[@class=\"i-b tipsy fare-summary-tooltip fs-18\"]')\n",
    "for i in tqdm(p):\n",
    "    price.append(i.text.replace(',',''))\n",
    "else:\n",
    "    pass\n",
    "\n",
    "# Extracting Aeroplane model  via xpath\n",
    "model = driver.find_elements(By.XPATH,'//p[@class=\"normal fs-11 font-lightestgrey no-wrap fl-no\"]/span')\n",
    "for i in tqdm(model):\n",
    "    aeroplane_model.append(i.text) \n",
    "else:\n",
    "    pass\n",
    "\n",
    "# Extracting date of journey via xpath\n",
    "d=[]\n",
    "model = driver.find_elements(By.XPATH,'/html/body/section[2]/section/section[2]/section[1]/div[1]/div/div[1]/div/ul/li[10]/div/p[1]')\n",
    "for i in model:\n",
    "    d.append(i.text) \n",
    "else:\n",
    "    pass\n",
    "date1 = d* flightlength\n",
    "date= date+date1"
   ]
  },
  {
   "cell_type": "markdown",
   "id": "054b086b",
   "metadata": {},
   "source": [
    "#### Opening Business class flights from Kolkata to Bangalore on  23 January 2023"
   ]
  },
  {
   "cell_type": "code",
   "execution_count": 112,
   "id": "5bb59c7a",
   "metadata": {},
   "outputs": [],
   "source": [
    "url = \"https://flight.yatra.com/air-search-ui/dom2/trigger?ADT=1&CHD=0&INF=0&class=Business&destination=BLR&destinationCountry=IN&flexi=0&flight_depart_date=23%2F01%2F2023&hb=0&noOfSegments=1&origin=CCU&originCountry=IN&type=O&unique=480880609427&version=1.1&viewName=normal\"\n",
    "driver.get(url)\n",
    "time.sleep(2)"
   ]
  },
  {
   "cell_type": "code",
   "execution_count": 113,
   "id": "8206dfac",
   "metadata": {},
   "outputs": [
    {
     "name": "stderr",
     "output_type": "stream",
     "text": [
      "100%|██████████| 50/50 [00:19<00:00,  2.59it/s]\n"
     ]
    }
   ],
   "source": [
    "from tqdm import tqdm\n",
    "for _ in tqdm (range(0,50)):\n",
    "    time.sleep(0.1)\n",
    "    driver.execute_script(\"window.scrollBy(0,2000)\",\"\")\n",
    "    time.sleep(0.2)\n",
    "    driver.execute_script(\"window.scrollBy(0,-500)\",\"\")"
   ]
  },
  {
   "cell_type": "code",
   "execution_count": 114,
   "id": "53f5d7fe",
   "metadata": {},
   "outputs": [
    {
     "data": {
      "text/plain": [
       "58"
      ]
     },
     "execution_count": 114,
     "metadata": {},
     "output_type": "execute_result"
    }
   ],
   "source": [
    "flights=driver.find_elements(By.XPATH, '//div[@class=\"flight-det table full-width clearfix\"]')\n",
    "flightlength = len(flights)\n",
    "flightlength"
   ]
  },
  {
   "cell_type": "code",
   "execution_count": 115,
   "id": "477fe5b2",
   "metadata": {},
   "outputs": [
    {
     "name": "stderr",
     "output_type": "stream",
     "text": [
      "100%|██████████| 58/58 [00:01<00:00, 34.20it/s]\n",
      "100%|██████████| 58/58 [00:01<00:00, 39.11it/s]\n",
      "100%|██████████| 58/58 [00:01<00:00, 38.37it/s]\n",
      "100%|██████████| 58/58 [00:01<00:00, 30.58it/s]\n",
      "100%|██████████| 58/58 [00:01<00:00, 37.26it/s]\n",
      "100%|██████████| 58/58 [00:01<00:00, 29.63it/s]\n",
      "100%|██████████| 58/58 [00:01<00:00, 29.39it/s]\n",
      "100%|██████████| 58/58 [00:02<00:00, 28.21it/s]\n"
     ]
    }
   ],
   "source": [
    "# Extracting Airlines Name Via Xpath\n",
    "airlines = driver.find_elements(By.XPATH,\"//div[@class='fs-13 airline-name no-pad col-8']/span\")\n",
    "for i in airlines:\n",
    "    airlines_name.append(i.text.replace(\"\\n\",\" \"))\n",
    "else :\n",
    "    pass\n",
    "\n",
    "# Extracting class of journey via xpath\n",
    "d=[]\n",
    "model = driver.find_elements(By.XPATH,'//div[@class=\"bdr-btm drop-down bold fs-16 cursor-pointer full-width\"]/span/span[3]')\n",
    "for i in model:\n",
    "    d.append(i.text) \n",
    "else:\n",
    "    pass\n",
    "class_of_journey= d* flightlength\n",
    "\n",
    "\n",
    "# Extracting Source of flight via Xpath\n",
    "sou = driver.find_elements(By.XPATH,\"//div[@class='i-b col-4 no-wrap text-right dtime col-3']/p\")\n",
    "for i in tqdm(sou):\n",
    "    source.append(i.text)\n",
    "else :\n",
    "    pass\n",
    "\n",
    "# Extracting Destination of Flights via Xpath\n",
    "dest = driver.find_elements(By.XPATH,'//div[@class=\"i-b pdd-0 text-left atime col-5\"]/p[2]')\n",
    "for i in tqdm(dest):\n",
    "    destination.append(i.text)\n",
    "else:\n",
    "    pass\n",
    "\n",
    "# Extracting Departure Time of Filght via Xpath\n",
    "dept_time = driver.find_elements(By.XPATH,'//div[@class=\"i-b pr\"]')\n",
    "for i in tqdm(dept_time):\n",
    "    departure_time.append(i.text)\n",
    "else :\n",
    "    pass\n",
    "\n",
    "# Extracting Arrival Time via xpath\n",
    "arr_time = driver.find_elements(By.XPATH,'//p[@class=\"bold fs-15 mb-2 pr time\"]')\n",
    "for i in tqdm(arr_time):\n",
    "    arrival_time.append(i.text)\n",
    "else :\n",
    "    pass\n",
    "\n",
    "# Extracting Duration of Flights via Xpath\n",
    "dur = driver.find_elements(By.XPATH,'//div[@class=\"stop-cont pl-13\"]/p')\n",
    "for i in tqdm(dur):\n",
    "    duration.append(i.text)\n",
    "else:\n",
    "    pass\n",
    "\n",
    "# Extracting stop details via Xpath\n",
    "stop = driver.find_elements(By.XPATH,\"//div[@class='stop-cont pl-13']/div/span\")\n",
    "for i in tqdm(stop):\n",
    "    total_stops.append(i.text)\n",
    "else:\n",
    "    pass\n",
    "\n",
    "# Extracting Price of Flights via Xpath\n",
    "p = driver.find_elements(By.XPATH,'//div[@class=\"i-b tipsy fare-summary-tooltip fs-18\"]')\n",
    "for i in tqdm(p):\n",
    "    price.append(i.text.replace(',',''))\n",
    "else:\n",
    "    pass\n",
    "\n",
    "# Extracting Aeroplane model  via xpath\n",
    "model = driver.find_elements(By.XPATH,'//p[@class=\"normal fs-11 font-lightestgrey no-wrap fl-no\"]/span')\n",
    "for i in tqdm(model):\n",
    "    aeroplane_model.append(i.text) \n",
    "else:\n",
    "    pass\n",
    "\n",
    "# Extracting date of journey via xpath\n",
    "d=[]\n",
    "model = driver.find_elements(By.XPATH,'/html/body/section[2]/section/section[2]/section[1]/div[1]/div/div[1]/div/ul/li[11]/div/p[1]')\n",
    "for i in model:\n",
    "    d.append(i.text) \n",
    "else:\n",
    "    pass\n",
    "date1 = d* flightlength\n",
    "date= date+date1"
   ]
  },
  {
   "cell_type": "code",
   "execution_count": 116,
   "id": "e3586700",
   "metadata": {},
   "outputs": [
    {
     "data": {
      "text/plain": [
       "(996, 996, 996, 996, 996, 996, 996, 996, 996, 996)"
      ]
     },
     "execution_count": 116,
     "metadata": {},
     "output_type": "execute_result"
    }
   ],
   "source": [
    "len(date), len(airlines_name), len(source), len(destination), len(departure_time), len(arrival_time), len(duration), len(total_stops),len(price), len(aeroplane_model)"
   ]
  },
  {
   "cell_type": "markdown",
   "id": "0d29bb57",
   "metadata": {},
   "source": [
    "#### Opening Business class flights from Kolkata to Bangalore on  28 January 2023"
   ]
  },
  {
   "cell_type": "code",
   "execution_count": 120,
   "id": "64bfd581",
   "metadata": {},
   "outputs": [],
   "source": [
    "url = \"https://flight.yatra.com/air-search-ui/dom2/trigger?ADT=1&CHD=0&INF=0&class=Business&destination=BLR&destinationCountry=IN&flexi=0&flight_depart_date=28%2F01%2F2023&hb=0&noOfSegments=1&origin=CCU&originCountry=IN&type=O&unique=1460505293952&version=1.1&viewName=normal\"\n",
    "driver.get(url)\n",
    "time.sleep(2)"
   ]
  },
  {
   "cell_type": "code",
   "execution_count": 121,
   "id": "11129014",
   "metadata": {},
   "outputs": [
    {
     "name": "stderr",
     "output_type": "stream",
     "text": [
      "100%|██████████| 50/50 [00:19<00:00,  2.54it/s]\n"
     ]
    }
   ],
   "source": [
    "from tqdm import tqdm\n",
    "for _ in tqdm (range(0,50)):\n",
    "    time.sleep(0.1)\n",
    "    driver.execute_script(\"window.scrollBy(0,2000)\",\"\")\n",
    "    time.sleep(0.2)\n",
    "    driver.execute_script(\"window.scrollBy(0,-500)\",\"\")"
   ]
  },
  {
   "cell_type": "code",
   "execution_count": 122,
   "id": "582a5c21",
   "metadata": {},
   "outputs": [
    {
     "data": {
      "text/plain": [
       "62"
      ]
     },
     "execution_count": 122,
     "metadata": {},
     "output_type": "execute_result"
    }
   ],
   "source": [
    "flights=driver.find_elements(By.XPATH, '//div[@class=\"flight-det table full-width clearfix\"]')\n",
    "flightlength = len(flights)\n",
    "flightlength"
   ]
  },
  {
   "cell_type": "code",
   "execution_count": 123,
   "id": "ae32c9ab",
   "metadata": {},
   "outputs": [
    {
     "name": "stderr",
     "output_type": "stream",
     "text": [
      "100%|██████████| 62/62 [00:01<00:00, 35.64it/s]\n",
      "100%|██████████| 62/62 [00:01<00:00, 36.27it/s]\n",
      "100%|██████████| 62/62 [00:01<00:00, 36.92it/s]\n",
      "100%|██████████| 62/62 [00:01<00:00, 34.26it/s]\n",
      "100%|██████████| 62/62 [00:02<00:00, 26.73it/s]\n",
      "100%|██████████| 62/62 [00:01<00:00, 31.24it/s]\n",
      "100%|██████████| 62/62 [00:02<00:00, 30.10it/s]\n",
      "100%|██████████| 62/62 [00:02<00:00, 29.32it/s]\n"
     ]
    }
   ],
   "source": [
    "# Extracting Airlines Name Via Xpath\n",
    "airlines = driver.find_elements(By.XPATH,\"//div[@class='fs-13 airline-name no-pad col-8']/span\")\n",
    "for i in airlines:\n",
    "    airlines_name.append(i.text.replace(\"\\n\",\" \"))\n",
    "else :\n",
    "    pass\n",
    "\n",
    "# Extracting class of journey via xpath\n",
    "d=[]\n",
    "model = driver.find_elements(By.XPATH,'//div[@class=\"bdr-btm drop-down bold fs-16 cursor-pointer full-width\"]/span/span[3]')\n",
    "for i in model:\n",
    "    d.append(i.text) \n",
    "else:\n",
    "    pass\n",
    "class_of_journey= d* flightlength\n",
    "\n",
    "# Extracting Source of flight via Xpath\n",
    "sou = driver.find_elements(By.XPATH,\"//div[@class='i-b col-4 no-wrap text-right dtime col-3']/p\")\n",
    "for i in tqdm(sou):\n",
    "    source.append(i.text)\n",
    "else :\n",
    "    pass\n",
    "\n",
    "# Extracting Destination of Flights via Xpath\n",
    "dest = driver.find_elements(By.XPATH,'//div[@class=\"i-b pdd-0 text-left atime col-5\"]/p[2]')\n",
    "for i in tqdm(dest):\n",
    "    destination.append(i.text)\n",
    "else:\n",
    "    pass\n",
    "\n",
    "# Extracting Departure Time of Filght via Xpath\n",
    "dept_time = driver.find_elements(By.XPATH,'//div[@class=\"i-b pr\"]')\n",
    "for i in tqdm(dept_time):\n",
    "    departure_time.append(i.text)\n",
    "else :\n",
    "    pass\n",
    "\n",
    "# Extracting Arrival Time via xpath\n",
    "arr_time = driver.find_elements(By.XPATH,'//p[@class=\"bold fs-15 mb-2 pr time\"]')\n",
    "for i in tqdm(arr_time):\n",
    "    arrival_time.append(i.text)\n",
    "else :\n",
    "    pass\n",
    "\n",
    "# Extracting Duration of Flights via Xpath\n",
    "dur = driver.find_elements(By.XPATH,'//div[@class=\"stop-cont pl-13\"]/p')\n",
    "for i in tqdm(dur):\n",
    "    duration.append(i.text)\n",
    "else:\n",
    "    pass\n",
    "\n",
    "# Extracting stop details via Xpath\n",
    "stop = driver.find_elements(By.XPATH,\"//div[@class='stop-cont pl-13']/div/span\")\n",
    "for i in tqdm(stop):\n",
    "    total_stops.append(i.text)\n",
    "else:\n",
    "    pass\n",
    "\n",
    "# Extracting Price of Flights via Xpath\n",
    "p = driver.find_elements(By.XPATH,'//div[@class=\"i-b tipsy fare-summary-tooltip fs-18\"]')\n",
    "for i in tqdm(p):\n",
    "    price.append(i.text.replace(',',''))\n",
    "else:\n",
    "    pass\n",
    "\n",
    "# Extracting Aeroplane model  via xpath\n",
    "model = driver.find_elements(By.XPATH,'//p[@class=\"normal fs-11 font-lightestgrey no-wrap fl-no\"]/span')\n",
    "for i in tqdm(model):\n",
    "    aeroplane_model.append(i.text) \n",
    "else:\n",
    "    pass\n",
    "\n",
    "# Extracting date of journey via xpath\n",
    "d=[]\n",
    "model = driver.find_elements(By.XPATH,'/html/body/section[2]/section/section[2]/section[1]/div[1]/div/div[1]/div/ul/li[11]/div/p[1]')\n",
    "for i in model:\n",
    "    d.append(i.text) \n",
    "else:\n",
    "    pass\n",
    "date1 = d* flightlength\n",
    "date= date+date1"
   ]
  },
  {
   "cell_type": "code",
   "execution_count": 124,
   "id": "292aa6e1",
   "metadata": {},
   "outputs": [
    {
     "data": {
      "text/plain": [
       "(1058, 1058, 1058, 1058, 1058, 1058, 1058, 1058, 1058, 1058)"
      ]
     },
     "execution_count": 124,
     "metadata": {},
     "output_type": "execute_result"
    }
   ],
   "source": [
    "len(date), len(airlines_name), len(source), len(destination), len(departure_time), len(arrival_time), len(duration), len(total_stops),len(price), len(aeroplane_model)"
   ]
  },
  {
   "cell_type": "markdown",
   "id": "1db32003",
   "metadata": {},
   "source": [
    "#### Opening Business class flights from Kolkata to Bangalore on 01 February 2023"
   ]
  },
  {
   "cell_type": "code",
   "execution_count": 125,
   "id": "0498e4db",
   "metadata": {},
   "outputs": [],
   "source": [
    "url = \"https://flight.yatra.com/air-search-ui/dom2/trigger?ADT=1&CHD=0&INF=0&class=Business&destination=BLR&destinationCountry=IN&flexi=0&flight_depart_date=01%2F02%2F2023&hb=0&noOfSegments=1&origin=CCU&originCountry=IN&type=O&unique=712003378596&version=1.1&viewName=normal\"\n",
    "driver.get(url)\n",
    "time.sleep(2)"
   ]
  },
  {
   "cell_type": "code",
   "execution_count": 126,
   "id": "85b84f44",
   "metadata": {},
   "outputs": [
    {
     "name": "stderr",
     "output_type": "stream",
     "text": [
      "100%|██████████| 50/50 [00:21<00:00,  2.36it/s]\n"
     ]
    }
   ],
   "source": [
    "from tqdm import tqdm\n",
    "for _ in tqdm (range(0,50)):\n",
    "    time.sleep(0.1)\n",
    "    driver.execute_script(\"window.scrollBy(0,2000)\",\"\")\n",
    "    time.sleep(0.2)\n",
    "    driver.execute_script(\"window.scrollBy(0,-500)\",\"\")"
   ]
  },
  {
   "cell_type": "code",
   "execution_count": 127,
   "id": "995981b8",
   "metadata": {},
   "outputs": [
    {
     "data": {
      "text/plain": [
       "63"
      ]
     },
     "execution_count": 127,
     "metadata": {},
     "output_type": "execute_result"
    }
   ],
   "source": [
    "flights=driver.find_elements(By.XPATH, '//div[@class=\"flight-det table full-width clearfix\"]')\n",
    "flightlength = len(flights)\n",
    "flightlength"
   ]
  },
  {
   "cell_type": "code",
   "execution_count": 128,
   "id": "3404fb3d",
   "metadata": {},
   "outputs": [
    {
     "name": "stderr",
     "output_type": "stream",
     "text": [
      "100%|██████████| 63/63 [00:01<00:00, 34.85it/s]\n",
      "100%|██████████| 63/63 [00:01<00:00, 39.20it/s]\n",
      "100%|██████████| 63/63 [00:01<00:00, 33.27it/s]\n",
      "100%|██████████| 63/63 [00:01<00:00, 32.96it/s]\n",
      "100%|██████████| 63/63 [00:01<00:00, 32.42it/s]\n",
      "100%|██████████| 63/63 [00:02<00:00, 25.32it/s]\n",
      "100%|██████████| 63/63 [00:02<00:00, 21.52it/s]\n",
      "100%|██████████| 63/63 [00:03<00:00, 17.94it/s]\n"
     ]
    }
   ],
   "source": [
    "# Extracting Airlines Name Via Xpath\n",
    "airlines = driver.find_elements(By.XPATH,\"//div[@class='fs-13 airline-name no-pad col-8']/span\")\n",
    "for i in airlines:\n",
    "    airlines_name.append(i.text.replace(\"\\n\",\" \"))\n",
    "else :\n",
    "    pass\n",
    "\n",
    "# Extracting class of journey via xpath\n",
    "d=[]\n",
    "model = driver.find_elements(By.XPATH,'//div[@class=\"bdr-btm drop-down bold fs-16 cursor-pointer full-width\"]/span/span[3]')\n",
    "for i in model:\n",
    "    d.append(i.text) \n",
    "else:\n",
    "    pass\n",
    "class_of_journey= d* flightlength\n",
    "\n",
    "# Extracting Source of flight via Xpath\n",
    "sou = driver.find_elements(By.XPATH,\"//div[@class='i-b col-4 no-wrap text-right dtime col-3']/p\")\n",
    "for i in tqdm(sou):\n",
    "    source.append(i.text)\n",
    "else :\n",
    "    pass\n",
    "\n",
    "# Extracting Destination of Flights via Xpath\n",
    "dest = driver.find_elements(By.XPATH,'//div[@class=\"i-b pdd-0 text-left atime col-5\"]/p[2]')\n",
    "for i in tqdm(dest):\n",
    "    destination.append(i.text)\n",
    "else:\n",
    "    pass\n",
    "\n",
    "# Extracting Departure Time of Filght via Xpath\n",
    "dept_time = driver.find_elements(By.XPATH,'//div[@class=\"i-b pr\"]')\n",
    "for i in tqdm(dept_time):\n",
    "    departure_time.append(i.text)\n",
    "else :\n",
    "    pass\n",
    "\n",
    "# Extracting Arrival Time via xpath\n",
    "arr_time = driver.find_elements(By.XPATH,'//p[@class=\"bold fs-15 mb-2 pr time\"]')\n",
    "for i in tqdm(arr_time):\n",
    "    arrival_time.append(i.text)\n",
    "else :\n",
    "    pass\n",
    "\n",
    "# Extracting Duration of Flights via Xpath\n",
    "dur = driver.find_elements(By.XPATH,'//div[@class=\"stop-cont pl-13\"]/p')\n",
    "for i in tqdm(dur):\n",
    "    duration.append(i.text)\n",
    "else:\n",
    "    pass\n",
    "\n",
    "# Extracting stop details via Xpath\n",
    "stop = driver.find_elements(By.XPATH,\"//div[@class='stop-cont pl-13']/div/span\")\n",
    "for i in tqdm(stop):\n",
    "    total_stops.append(i.text)\n",
    "else:\n",
    "    pass\n",
    "\n",
    "# Extracting Price of Flights via Xpath\n",
    "p = driver.find_elements(By.XPATH,'//div[@class=\"i-b tipsy fare-summary-tooltip fs-18\"]')\n",
    "for i in tqdm(p):\n",
    "    price.append(i.text.replace(',',''))\n",
    "else:\n",
    "    pass\n",
    "\n",
    "# Extracting Aeroplane model  via xpath\n",
    "model = driver.find_elements(By.XPATH,'//p[@class=\"normal fs-11 font-lightestgrey no-wrap fl-no\"]/span')\n",
    "for i in tqdm(model):\n",
    "    aeroplane_model.append(i.text) \n",
    "else:\n",
    "    pass\n",
    "\n",
    "# Extracting date of journey via xpath\n",
    "d=[]\n",
    "model = driver.find_elements(By.XPATH,'/html/body/section[2]/section/section[2]/section[1]/div[1]/div/div[1]/div/ul/li[11]/div/p[1]')\n",
    "for i in model:\n",
    "    d.append(i.text) \n",
    "else:\n",
    "    pass\n",
    "date1 = d* flightlength\n",
    "date= date+date1"
   ]
  },
  {
   "cell_type": "code",
   "execution_count": 129,
   "id": "c93b19d9",
   "metadata": {},
   "outputs": [
    {
     "data": {
      "text/plain": [
       "(1121, 1121, 1121, 1121, 1121, 1121, 1121, 1121, 1121, 1121)"
      ]
     },
     "execution_count": 129,
     "metadata": {},
     "output_type": "execute_result"
    }
   ],
   "source": [
    "len(date), len(airlines_name), len(source), len(destination), len(departure_time), len(arrival_time), len(duration), len(total_stops),len(price), len(aeroplane_model)"
   ]
  },
  {
   "cell_type": "markdown",
   "id": "8984bb4f",
   "metadata": {},
   "source": [
    "#### Opening Business class flights from Kolkata to Bangalore on  2 February 2023"
   ]
  },
  {
   "cell_type": "code",
   "execution_count": 131,
   "id": "d328a654",
   "metadata": {},
   "outputs": [],
   "source": [
    "url = \"https://flight.yatra.com/air-search-ui/dom2/trigger?ADT=1&CHD=0&INF=0&class=Business&destination=BLR&destinationCountry=IN&flexi=0&flight_depart_date=02%2F02%2F2023&hb=0&noOfSegments=1&origin=CCU&originCountry=IN&type=O&unique=292074840182&version=1.1&viewName=normal\"\n",
    "driver.get(url)\n",
    "time.sleep(2)"
   ]
  },
  {
   "cell_type": "code",
   "execution_count": 132,
   "id": "fcf38c8d",
   "metadata": {},
   "outputs": [
    {
     "name": "stderr",
     "output_type": "stream",
     "text": [
      "100%|██████████| 50/50 [00:18<00:00,  2.63it/s]\n"
     ]
    }
   ],
   "source": [
    "from tqdm import tqdm\n",
    "for _ in tqdm (range(0,50)):\n",
    "    time.sleep(0.1)\n",
    "    driver.execute_script(\"window.scrollBy(0,2000)\",\"\")\n",
    "    time.sleep(0.2)\n",
    "    driver.execute_script(\"window.scrollBy(0,-500)\",\"\")"
   ]
  },
  {
   "cell_type": "code",
   "execution_count": 133,
   "id": "1a4ea4b0",
   "metadata": {},
   "outputs": [
    {
     "data": {
      "text/plain": [
       "58"
      ]
     },
     "execution_count": 133,
     "metadata": {},
     "output_type": "execute_result"
    }
   ],
   "source": [
    "flights=driver.find_elements(By.XPATH, '//div[@class=\"flight-det table full-width clearfix\"]')\n",
    "flightlength = len(flights)\n",
    "flightlength"
   ]
  },
  {
   "cell_type": "code",
   "execution_count": 134,
   "id": "4809e700",
   "metadata": {},
   "outputs": [
    {
     "name": "stderr",
     "output_type": "stream",
     "text": [
      "100%|██████████| 58/58 [00:01<00:00, 29.24it/s]\n",
      "100%|██████████| 58/58 [00:01<00:00, 29.35it/s]\n",
      "100%|██████████| 58/58 [00:01<00:00, 33.62it/s]\n",
      "100%|██████████| 58/58 [00:01<00:00, 31.11it/s]\n",
      "100%|██████████| 58/58 [00:01<00:00, 34.00it/s]\n",
      "100%|██████████| 58/58 [00:01<00:00, 29.22it/s]\n",
      "100%|██████████| 58/58 [00:01<00:00, 32.01it/s]\n",
      "100%|██████████| 58/58 [00:02<00:00, 26.71it/s]\n"
     ]
    }
   ],
   "source": [
    "# Extracting Airlines Name Via Xpath\n",
    "airlines = driver.find_elements(By.XPATH,\"//div[@class='fs-13 airline-name no-pad col-8']/span\")\n",
    "for i in airlines:\n",
    "    airlines_name.append(i.text.replace(\"\\n\",\" \"))\n",
    "else :\n",
    "    pass\n",
    "\n",
    "# Extracting class of journey via xpath\n",
    "d=[]\n",
    "model = driver.find_elements(By.XPATH,'//div[@class=\"bdr-btm drop-down bold fs-16 cursor-pointer full-width\"]/span/span[3]')\n",
    "for i in model:\n",
    "    d.append(i.text) \n",
    "else:\n",
    "    pass\n",
    "class_of_journey= d* flightlength\n",
    "\n",
    "# Extracting Source of flight via Xpath\n",
    "sou = driver.find_elements(By.XPATH,\"//div[@class='i-b col-4 no-wrap text-right dtime col-3']/p\")\n",
    "for i in tqdm(sou):\n",
    "    source.append(i.text)\n",
    "else :\n",
    "    pass\n",
    "\n",
    "# Extracting Destination of Flights via Xpath\n",
    "dest = driver.find_elements(By.XPATH,'//div[@class=\"i-b pdd-0 text-left atime col-5\"]/p[2]')\n",
    "for i in tqdm(dest):\n",
    "    destination.append(i.text)\n",
    "else:\n",
    "    pass\n",
    "\n",
    "# Extracting Departure Time of Filght via Xpath\n",
    "dept_time = driver.find_elements(By.XPATH,'//div[@class=\"i-b pr\"]')\n",
    "for i in tqdm(dept_time):\n",
    "    departure_time.append(i.text)\n",
    "else :\n",
    "    pass\n",
    "\n",
    "# Extracting Arrival Time via xpath\n",
    "arr_time = driver.find_elements(By.XPATH,'//p[@class=\"bold fs-15 mb-2 pr time\"]')\n",
    "for i in tqdm(arr_time):\n",
    "    arrival_time.append(i.text)\n",
    "else :\n",
    "    pass\n",
    "\n",
    "# Extracting Duration of Flights via Xpath\n",
    "dur = driver.find_elements(By.XPATH,'//div[@class=\"stop-cont pl-13\"]/p')\n",
    "for i in tqdm(dur):\n",
    "    duration.append(i.text)\n",
    "else:\n",
    "    pass\n",
    "\n",
    "# Extracting stop details via Xpath\n",
    "stop = driver.find_elements(By.XPATH,\"//div[@class='stop-cont pl-13']/div/span\")\n",
    "for i in tqdm(stop):\n",
    "    total_stops.append(i.text)\n",
    "else:\n",
    "    pass\n",
    "\n",
    "# Extracting Price of Flights via Xpath\n",
    "p = driver.find_elements(By.XPATH,'//div[@class=\"i-b tipsy fare-summary-tooltip fs-18\"]')\n",
    "for i in tqdm(p):\n",
    "    price.append(i.text.replace(',',''))\n",
    "else:\n",
    "    pass\n",
    "\n",
    "# Extracting Aeroplane model  via xpath\n",
    "model = driver.find_elements(By.XPATH,'//p[@class=\"normal fs-11 font-lightestgrey no-wrap fl-no\"]/span')\n",
    "for i in tqdm(model):\n",
    "    aeroplane_model.append(i.text) \n",
    "else:\n",
    "    pass\n",
    "\n",
    "# Extracting date of journey via xpath\n",
    "d=[]\n",
    "model = driver.find_elements(By.XPATH,'/html/body/section[2]/section/section[2]/section[1]/div[1]/div/div[1]/div/ul/li[11]/div/p[1]')\n",
    "for i in model:\n",
    "    d.append(i.text) \n",
    "else:\n",
    "    pass\n",
    "date1 = d* flightlength\n",
    "date= date+date1"
   ]
  },
  {
   "cell_type": "code",
   "execution_count": 135,
   "id": "c859c505",
   "metadata": {},
   "outputs": [
    {
     "data": {
      "text/plain": [
       "(1179, 1179, 1179, 1179, 1179, 1179, 1179, 1179, 1179, 1179)"
      ]
     },
     "execution_count": 135,
     "metadata": {},
     "output_type": "execute_result"
    }
   ],
   "source": [
    "len(date), len(airlines_name), len(source), len(destination), len(departure_time), len(arrival_time), len(duration), len(total_stops),len(price), len(aeroplane_model)"
   ]
  },
  {
   "cell_type": "markdown",
   "id": "14634d3d",
   "metadata": {},
   "source": [
    "#### Opening Business class flights from Kolkata to Bangalore on  03 February 2023"
   ]
  },
  {
   "cell_type": "code",
   "execution_count": 136,
   "id": "85604895",
   "metadata": {},
   "outputs": [],
   "source": [
    "url = \"https://flight.yatra.com/air-search-ui/dom2/trigger?ADT=1&CHD=0&INF=0&class=Business&destination=BLR&destinationCountry=IN&flexi=0&flight_depart_date=03%2F02%2F2023&hb=0&noOfSegments=1&origin=CCU&originCountry=IN&type=O&unique=599153023238&version=1.1&viewName=normal\"\n",
    "driver.get(url)\n",
    "time.sleep(2)"
   ]
  },
  {
   "cell_type": "code",
   "execution_count": 137,
   "id": "bb43395c",
   "metadata": {},
   "outputs": [
    {
     "name": "stderr",
     "output_type": "stream",
     "text": [
      "100%|██████████| 50/50 [00:18<00:00,  2.63it/s]\n"
     ]
    }
   ],
   "source": [
    "from tqdm import tqdm\n",
    "for _ in tqdm (range(0,50)):\n",
    "    time.sleep(0.1)\n",
    "    driver.execute_script(\"window.scrollBy(0,2000)\",\"\")\n",
    "    time.sleep(0.2)\n",
    "    driver.execute_script(\"window.scrollBy(0,-500)\",\"\")"
   ]
  },
  {
   "cell_type": "code",
   "execution_count": 138,
   "id": "b9ace17a",
   "metadata": {},
   "outputs": [
    {
     "data": {
      "text/plain": [
       "63"
      ]
     },
     "execution_count": 138,
     "metadata": {},
     "output_type": "execute_result"
    }
   ],
   "source": [
    "flights=driver.find_elements(By.XPATH, '//div[@class=\"flight-det table full-width clearfix\"]')\n",
    "flightlength = len(flights)\n",
    "flightlength"
   ]
  },
  {
   "cell_type": "code",
   "execution_count": 139,
   "id": "fb660d81",
   "metadata": {},
   "outputs": [
    {
     "name": "stderr",
     "output_type": "stream",
     "text": [
      "100%|██████████| 63/63 [00:01<00:00, 38.73it/s]\n",
      "100%|██████████| 63/63 [00:01<00:00, 38.25it/s]\n",
      "100%|██████████| 63/63 [00:01<00:00, 38.61it/s]\n",
      "100%|██████████| 63/63 [00:01<00:00, 33.08it/s]\n",
      "100%|██████████| 63/63 [00:02<00:00, 28.73it/s]\n",
      "100%|██████████| 63/63 [00:02<00:00, 28.85it/s]\n",
      "100%|██████████| 63/63 [00:02<00:00, 22.25it/s]\n",
      "100%|██████████| 63/63 [00:02<00:00, 25.24it/s]\n"
     ]
    }
   ],
   "source": [
    "# Extracting Airlines Name Via Xpath\n",
    "airlines = driver.find_elements(By.XPATH,\"//div[@class='fs-13 airline-name no-pad col-8']/span\")\n",
    "for i in airlines:\n",
    "    airlines_name.append(i.text.replace(\"\\n\",\" \"))\n",
    "else :\n",
    "    pass\n",
    "\n",
    "# Extracting class of journey via xpath\n",
    "d=[]\n",
    "model = driver.find_elements(By.XPATH,'//div[@class=\"bdr-btm drop-down bold fs-16 cursor-pointer full-width\"]/span/span[3]')\n",
    "for i in model:\n",
    "    d.append(i.text) \n",
    "else:\n",
    "    pass\n",
    "class_of_journey= d* flightlength\n",
    "\n",
    "# Extracting Source of flight via Xpath\n",
    "sou = driver.find_elements(By.XPATH,\"//div[@class='i-b col-4 no-wrap text-right dtime col-3']/p\")\n",
    "for i in tqdm(sou):\n",
    "    source.append(i.text)\n",
    "else :\n",
    "    pass\n",
    "\n",
    "# Extracting Destination of Flights via Xpath\n",
    "dest = driver.find_elements(By.XPATH,'//div[@class=\"i-b pdd-0 text-left atime col-5\"]/p[2]')\n",
    "for i in tqdm(dest):\n",
    "    destination.append(i.text)\n",
    "else:\n",
    "    pass\n",
    "\n",
    "# Extracting Departure Time of Filght via Xpath\n",
    "dept_time = driver.find_elements(By.XPATH,'//div[@class=\"i-b pr\"]')\n",
    "for i in tqdm(dept_time):\n",
    "    departure_time.append(i.text)\n",
    "else :\n",
    "    pass\n",
    "\n",
    "# Extracting Arrival Time via xpath\n",
    "arr_time = driver.find_elements(By.XPATH,'//p[@class=\"bold fs-15 mb-2 pr time\"]')\n",
    "for i in tqdm(arr_time):\n",
    "    arrival_time.append(i.text)\n",
    "else :\n",
    "    pass\n",
    "\n",
    "# Extracting Duration of Flights via Xpath\n",
    "dur = driver.find_elements(By.XPATH,'//div[@class=\"stop-cont pl-13\"]/p')\n",
    "for i in tqdm(dur):\n",
    "    duration.append(i.text)\n",
    "else:\n",
    "    pass\n",
    "\n",
    "# Extracting stop details via Xpath\n",
    "stop = driver.find_elements(By.XPATH,\"//div[@class='stop-cont pl-13']/div/span\")\n",
    "for i in tqdm(stop):\n",
    "    total_stops.append(i.text)\n",
    "else:\n",
    "    pass\n",
    "\n",
    "# Extracting Price of Flights via Xpath\n",
    "p = driver.find_elements(By.XPATH,'//div[@class=\"i-b tipsy fare-summary-tooltip fs-18\"]')\n",
    "for i in tqdm(p):\n",
    "    price.append(i.text.replace(',',''))\n",
    "else:\n",
    "    pass\n",
    "\n",
    "# Extracting Aeroplane model  via xpath\n",
    "model = driver.find_elements(By.XPATH,'//p[@class=\"normal fs-11 font-lightestgrey no-wrap fl-no\"]/span')\n",
    "for i in tqdm(model):\n",
    "    aeroplane_model.append(i.text) \n",
    "else:\n",
    "    pass\n",
    "\n",
    "# Extracting date of journey via xpath\n",
    "d=[]\n",
    "model = driver.find_elements(By.XPATH,'/html/body/section[2]/section/section[2]/section[1]/div[1]/div/div[1]/div/ul/li[11]/div/p[1]')\n",
    "for i in model:\n",
    "    d.append(i.text) \n",
    "else:\n",
    "    pass\n",
    "date1 = d* flightlength\n",
    "date= date+date1"
   ]
  },
  {
   "cell_type": "markdown",
   "id": "30d40223",
   "metadata": {},
   "source": [
    "#### Opening Business class flights from Kolkata to Bangalore on  4 February 2023"
   ]
  },
  {
   "cell_type": "code",
   "execution_count": 143,
   "id": "880e189a",
   "metadata": {},
   "outputs": [],
   "source": [
    "url = \"https://flight.yatra.com/air-search-ui/dom2/trigger?ADT=1&CHD=0&INF=0&class=Business&destination=BLR&destinationCountry=IN&flexi=0&flight_depart_date=04%2F02%2F2023&hb=0&noOfSegments=1&origin=CCU&originCountry=IN&type=O&unique=1556409735398&version=1.1&viewName=normal\"\n",
    "driver.get(url)\n",
    "time.sleep(2)"
   ]
  },
  {
   "cell_type": "code",
   "execution_count": 144,
   "id": "7d8c4757",
   "metadata": {},
   "outputs": [
    {
     "name": "stderr",
     "output_type": "stream",
     "text": [
      "100%|██████████| 50/50 [00:18<00:00,  2.67it/s]\n"
     ]
    }
   ],
   "source": [
    "from tqdm import tqdm\n",
    "for _ in tqdm (range(0,50)):\n",
    "    time.sleep(0.1)\n",
    "    driver.execute_script(\"window.scrollBy(0,2000)\",\"\")\n",
    "    time.sleep(0.2)\n",
    "    driver.execute_script(\"window.scrollBy(0,-500)\",\"\")"
   ]
  },
  {
   "cell_type": "code",
   "execution_count": 145,
   "id": "2d277377",
   "metadata": {},
   "outputs": [
    {
     "data": {
      "text/plain": [
       "57"
      ]
     },
     "execution_count": 145,
     "metadata": {},
     "output_type": "execute_result"
    }
   ],
   "source": [
    "flights=driver.find_elements(By.XPATH, '//div[@class=\"flight-det table full-width clearfix\"]')\n",
    "flightlength = len(flights)\n",
    "flightlength"
   ]
  },
  {
   "cell_type": "code",
   "execution_count": 146,
   "id": "93a751e6",
   "metadata": {},
   "outputs": [
    {
     "name": "stderr",
     "output_type": "stream",
     "text": [
      "100%|██████████| 57/57 [00:01<00:00, 42.04it/s]\n",
      "100%|██████████| 57/57 [00:01<00:00, 34.25it/s]\n",
      "100%|██████████| 57/57 [00:01<00:00, 35.53it/s]\n",
      "100%|██████████| 57/57 [00:01<00:00, 35.32it/s]\n",
      "100%|██████████| 57/57 [00:02<00:00, 26.20it/s]\n",
      "100%|██████████| 57/57 [00:02<00:00, 20.84it/s]\n",
      "100%|██████████| 57/57 [00:02<00:00, 24.74it/s]\n",
      "100%|██████████| 57/57 [00:01<00:00, 32.37it/s]\n"
     ]
    }
   ],
   "source": [
    "# Extracting Airlines Name Via Xpath\n",
    "airlines = driver.find_elements(By.XPATH,\"//div[@class='fs-13 airline-name no-pad col-8']/span\")\n",
    "for i in airlines:\n",
    "    airlines_name.append(i.text.replace(\"\\n\",\" \"))\n",
    "else :\n",
    "    pass\n",
    "\n",
    "# Extracting class of journey via xpath\n",
    "d=[]\n",
    "model = driver.find_elements(By.XPATH,'//div[@class=\"bdr-btm drop-down bold fs-16 cursor-pointer full-width\"]/span/span[3]')\n",
    "for i in model:\n",
    "    d.append(i.text) \n",
    "else:\n",
    "    pass\n",
    "class_of_journey= d* flightlength\n",
    "\n",
    "\n",
    "# Extracting Source of flight via Xpath\n",
    "sou = driver.find_elements(By.XPATH,\"//div[@class='i-b col-4 no-wrap text-right dtime col-3']/p\")\n",
    "for i in tqdm(sou):\n",
    "    source.append(i.text)\n",
    "else :\n",
    "    pass\n",
    "\n",
    "# Extracting Destination of Flights via Xpath\n",
    "dest = driver.find_elements(By.XPATH,'//div[@class=\"i-b pdd-0 text-left atime col-5\"]/p[2]')\n",
    "for i in tqdm(dest):\n",
    "    destination.append(i.text)\n",
    "else:\n",
    "    pass\n",
    "\n",
    "# Extracting Departure Time of Filght via Xpath\n",
    "dept_time = driver.find_elements(By.XPATH,'//div[@class=\"i-b pr\"]')\n",
    "for i in tqdm(dept_time):\n",
    "    departure_time.append(i.text)\n",
    "else :\n",
    "    pass\n",
    "\n",
    "# Extracting Arrival Time via xpath\n",
    "arr_time = driver.find_elements(By.XPATH,'//p[@class=\"bold fs-15 mb-2 pr time\"]')\n",
    "for i in tqdm(arr_time):\n",
    "    arrival_time.append(i.text)\n",
    "else :\n",
    "    pass\n",
    "\n",
    "# Extracting Duration of Flights via Xpath\n",
    "dur = driver.find_elements(By.XPATH,'//div[@class=\"stop-cont pl-13\"]/p')\n",
    "for i in tqdm(dur):\n",
    "    duration.append(i.text)\n",
    "else:\n",
    "    pass\n",
    "\n",
    "# Extracting stop details via Xpath\n",
    "stop = driver.find_elements(By.XPATH,\"//div[@class='stop-cont pl-13']/div/span\")\n",
    "for i in tqdm(stop):\n",
    "    total_stops.append(i.text)\n",
    "else:\n",
    "    pass\n",
    "\n",
    "# Extracting Price of Flights via Xpath\n",
    "p = driver.find_elements(By.XPATH,'//div[@class=\"i-b tipsy fare-summary-tooltip fs-18\"]')\n",
    "for i in tqdm(p):\n",
    "    price.append(i.text.replace(',',''))\n",
    "else:\n",
    "    pass\n",
    "\n",
    "# Extracting Aeroplane model  via xpath\n",
    "model = driver.find_elements(By.XPATH,'//p[@class=\"normal fs-11 font-lightestgrey no-wrap fl-no\"]/span')\n",
    "for i in tqdm(model):\n",
    "    aeroplane_model.append(i.text) \n",
    "else:\n",
    "    pass\n",
    "\n",
    "# Extracting date of journey via xpath\n",
    "d=[]\n",
    "model = driver.find_elements(By.XPATH,'/html/body/section[2]/section/section[2]/section[1]/div[1]/div/div[1]/div/ul/li[11]/div/p[1]')\n",
    "for i in model:\n",
    "    d.append(i.text) \n",
    "else:\n",
    "    pass\n",
    "date1 = d* flightlength\n",
    "date= date+date1"
   ]
  },
  {
   "cell_type": "code",
   "execution_count": 147,
   "id": "06c60961",
   "metadata": {},
   "outputs": [
    {
     "data": {
      "text/plain": [
       "(1299, 1299, 1299, 1299, 1299, 1299, 1299, 1299, 1299, 1299)"
      ]
     },
     "execution_count": 147,
     "metadata": {},
     "output_type": "execute_result"
    }
   ],
   "source": [
    "len(date), len(airlines_name), len(source), len(destination), len(departure_time), len(arrival_time), len(duration), len(total_stops),len(price), len(aeroplane_model)"
   ]
  },
  {
   "cell_type": "markdown",
   "id": "50dfb03b",
   "metadata": {},
   "source": [
    "#### Opening Business class flights from Kolkata to Bangalore on  23 February 2023"
   ]
  },
  {
   "cell_type": "code",
   "execution_count": 150,
   "id": "0d6240cb",
   "metadata": {},
   "outputs": [],
   "source": [
    "url = \"https://flight.yatra.com/air-search-ui/dom2/trigger?ADT=1&CHD=0&INF=0&class=Business&destination=BLR&destinationCountry=IN&flexi=0&flight_depart_date=23%2F02%2F2023&hb=0&noOfSegments=1&origin=CCU&originCountry=IN&type=O&unique=987279150315&version=1.1&viewName=normal\"\n",
    "driver.get(url)\n",
    "time.sleep(2)"
   ]
  },
  {
   "cell_type": "code",
   "execution_count": 151,
   "id": "d48fe14b",
   "metadata": {},
   "outputs": [
    {
     "name": "stderr",
     "output_type": "stream",
     "text": [
      "100%|██████████| 50/50 [00:18<00:00,  2.65it/s]\n"
     ]
    }
   ],
   "source": [
    "from tqdm import tqdm\n",
    "for _ in tqdm (range(0,50)):\n",
    "    time.sleep(0.1)\n",
    "    driver.execute_script(\"window.scrollBy(0,2000)\",\"\")\n",
    "    time.sleep(0.2)\n",
    "    driver.execute_script(\"window.scrollBy(0,-500)\",\"\")"
   ]
  },
  {
   "cell_type": "code",
   "execution_count": 152,
   "id": "575f2f39",
   "metadata": {},
   "outputs": [
    {
     "data": {
      "text/plain": [
       "64"
      ]
     },
     "execution_count": 152,
     "metadata": {},
     "output_type": "execute_result"
    }
   ],
   "source": [
    "flights=driver.find_elements(By.XPATH, '//div[@class=\"flight-det table full-width clearfix\"]')\n",
    "flightlength = len(flights)\n",
    "flightlength"
   ]
  },
  {
   "cell_type": "code",
   "execution_count": 153,
   "id": "43d31be6",
   "metadata": {},
   "outputs": [
    {
     "name": "stderr",
     "output_type": "stream",
     "text": [
      "100%|██████████| 64/64 [00:01<00:00, 39.25it/s]\n",
      "100%|██████████| 64/64 [00:01<00:00, 37.55it/s]\n",
      "100%|██████████| 64/64 [00:01<00:00, 36.46it/s]\n",
      "100%|██████████| 64/64 [00:01<00:00, 33.33it/s]\n",
      "100%|██████████| 64/64 [00:01<00:00, 34.83it/s]\n",
      "100%|██████████| 64/64 [00:02<00:00, 31.01it/s]\n",
      "100%|██████████| 64/64 [00:02<00:00, 27.49it/s]\n",
      "100%|██████████| 64/64 [00:02<00:00, 31.89it/s]\n"
     ]
    }
   ],
   "source": [
    "# Extracting Airlines Name Via Xpath\n",
    "airlines = driver.find_elements(By.XPATH,\"//div[@class='fs-13 airline-name no-pad col-8']/span\")\n",
    "for i in airlines:\n",
    "    airlines_name.append(i.text.replace(\"\\n\",\" \"))\n",
    "else :\n",
    "    pass\n",
    "\n",
    "# Extracting class of journey via xpath\n",
    "d=[]\n",
    "model = driver.find_elements(By.XPATH,'//div[@class=\"bdr-btm drop-down bold fs-16 cursor-pointer full-width\"]/span/span[3]')\n",
    "for i in model:\n",
    "    d.append(i.text) \n",
    "else:\n",
    "    pass\n",
    "class_of_journey= d* flightlength\n",
    "\n",
    "\n",
    "# Extracting Source of flight via Xpath\n",
    "sou = driver.find_elements(By.XPATH,\"//div[@class='i-b col-4 no-wrap text-right dtime col-3']/p\")\n",
    "for i in tqdm(sou):\n",
    "    source.append(i.text)\n",
    "else :\n",
    "    pass\n",
    "\n",
    "# Extracting Destination of Flights via Xpath\n",
    "dest = driver.find_elements(By.XPATH,'//div[@class=\"i-b pdd-0 text-left atime col-5\"]/p[2]')\n",
    "for i in tqdm(dest):\n",
    "    destination.append(i.text)\n",
    "else:\n",
    "    pass\n",
    "\n",
    "# Extracting Departure Time of Filght via Xpath\n",
    "dept_time = driver.find_elements(By.XPATH,'//div[@class=\"i-b pr\"]')\n",
    "for i in tqdm(dept_time):\n",
    "    departure_time.append(i.text)\n",
    "else :\n",
    "    pass\n",
    "\n",
    "# Extracting Arrival Time via xpath\n",
    "arr_time = driver.find_elements(By.XPATH,'//p[@class=\"bold fs-15 mb-2 pr time\"]')\n",
    "for i in tqdm(arr_time):\n",
    "    arrival_time.append(i.text)\n",
    "else :\n",
    "    pass\n",
    "\n",
    "# Extracting Duration of Flights via Xpath\n",
    "dur = driver.find_elements(By.XPATH,'//div[@class=\"stop-cont pl-13\"]/p')\n",
    "for i in tqdm(dur):\n",
    "    duration.append(i.text)\n",
    "else:\n",
    "    pass\n",
    "\n",
    "# Extracting stop details via Xpath\n",
    "stop = driver.find_elements(By.XPATH,\"//div[@class='stop-cont pl-13']/div/span\")\n",
    "for i in tqdm(stop):\n",
    "    total_stops.append(i.text)\n",
    "else:\n",
    "    pass\n",
    "\n",
    "# Extracting Price of Flights via Xpath\n",
    "p = driver.find_elements(By.XPATH,'//div[@class=\"i-b tipsy fare-summary-tooltip fs-18\"]')\n",
    "for i in tqdm(p):\n",
    "    price.append(i.text.replace(',',''))\n",
    "else:\n",
    "    pass\n",
    "\n",
    "# Extracting Aeroplane model  via xpath\n",
    "model = driver.find_elements(By.XPATH,'//p[@class=\"normal fs-11 font-lightestgrey no-wrap fl-no\"]/span')\n",
    "for i in tqdm(model):\n",
    "    aeroplane_model.append(i.text) \n",
    "else:\n",
    "    pass\n",
    "\n",
    "# Extracting date of journey via xpath\n",
    "d=[]\n",
    "model = driver.find_elements(By.XPATH,'/html/body/section[2]/section/section[2]/section[1]/div[1]/div/div[1]/div/ul/li[11]/div/p[1]')\n",
    "for i in model:\n",
    "    d.append(i.text) \n",
    "else:\n",
    "    pass\n",
    "date1 = d* flightlength\n",
    "date= date+date1"
   ]
  },
  {
   "cell_type": "code",
   "execution_count": 154,
   "id": "b2b28a41",
   "metadata": {},
   "outputs": [
    {
     "data": {
      "text/plain": [
       "(1363, 1363, 1363, 1363, 1363, 1363, 1363, 1363, 1363, 1363)"
      ]
     },
     "execution_count": 154,
     "metadata": {},
     "output_type": "execute_result"
    }
   ],
   "source": [
    "len(date), len(airlines_name), len(source), len(destination), len(departure_time), len(arrival_time), len(duration), len(total_stops),len(price), len(aeroplane_model)"
   ]
  },
  {
   "cell_type": "markdown",
   "id": "f8d03b4b",
   "metadata": {},
   "source": [
    "#### Opening Business class flights from Kolkata to Bangalore on  21 March 2023"
   ]
  },
  {
   "cell_type": "code",
   "execution_count": 157,
   "id": "1b99e8b1",
   "metadata": {},
   "outputs": [],
   "source": [
    "url = \"https://flight.yatra.com/air-search-ui/dom2/trigger?ADT=1&CHD=0&INF=0&class=Business&destination=BLR&destinationCountry=IN&flexi=0&flight_depart_date=21%2F03%2F2023&hb=0&noOfSegments=1&origin=CCU&originCountry=IN&type=O&unique=1370671240882&version=1.1&viewName=normal\"\n",
    "driver.get(url)\n",
    "time.sleep(2)"
   ]
  },
  {
   "cell_type": "code",
   "execution_count": 158,
   "id": "dffcd7f0",
   "metadata": {},
   "outputs": [
    {
     "name": "stderr",
     "output_type": "stream",
     "text": [
      "100%|██████████| 50/50 [00:19<00:00,  2.52it/s]\n"
     ]
    }
   ],
   "source": [
    "from tqdm import tqdm\n",
    "for _ in tqdm (range(0,50)):\n",
    "    time.sleep(0.1)\n",
    "    driver.execute_script(\"window.scrollBy(0,2000)\",\"\")\n",
    "    time.sleep(0.2)\n",
    "    driver.execute_script(\"window.scrollBy(0,-500)\",\"\")"
   ]
  },
  {
   "cell_type": "code",
   "execution_count": 159,
   "id": "eef2f351",
   "metadata": {},
   "outputs": [
    {
     "data": {
      "text/plain": [
       "64"
      ]
     },
     "execution_count": 159,
     "metadata": {},
     "output_type": "execute_result"
    }
   ],
   "source": [
    "flights=driver.find_elements(By.XPATH, '//div[@class=\"flight-det table full-width clearfix\"]')\n",
    "flightlength = len(flights)\n",
    "flightlength"
   ]
  },
  {
   "cell_type": "code",
   "execution_count": 160,
   "id": "c760bd63",
   "metadata": {},
   "outputs": [
    {
     "name": "stderr",
     "output_type": "stream",
     "text": [
      "100%|██████████| 64/64 [00:01<00:00, 34.18it/s]\n",
      "100%|██████████| 64/64 [00:02<00:00, 30.42it/s]\n",
      "100%|██████████| 64/64 [00:01<00:00, 33.56it/s]\n",
      "100%|██████████| 64/64 [00:01<00:00, 36.14it/s]\n",
      "100%|██████████| 64/64 [00:01<00:00, 35.31it/s]\n",
      "100%|██████████| 64/64 [00:01<00:00, 33.19it/s]\n",
      "100%|██████████| 64/64 [00:01<00:00, 32.07it/s]\n",
      "100%|██████████| 64/64 [00:02<00:00, 31.77it/s]\n"
     ]
    }
   ],
   "source": [
    "# Extracting Airlines Name Via Xpath\n",
    "airlines = driver.find_elements(By.XPATH,\"//div[@class='fs-13 airline-name no-pad col-8']/span\")\n",
    "for i in airlines:\n",
    "    airlines_name.append(i.text.replace(\"\\n\",\" \"))\n",
    "else :\n",
    "    pass\n",
    "\n",
    "# Extracting class of journey via xpath\n",
    "d=[]\n",
    "model = driver.find_elements(By.XPATH,'//div[@class=\"bdr-btm drop-down bold fs-16 cursor-pointer full-width\"]/span/span[3]')\n",
    "for i in model:\n",
    "    d.append(i.text) \n",
    "else:\n",
    "    pass\n",
    "class_of_journey= d* flightlength\n",
    "\n",
    "# Extracting Source of flight via Xpath\n",
    "sou = driver.find_elements(By.XPATH,\"//div[@class='i-b col-4 no-wrap text-right dtime col-3']/p\")\n",
    "for i in tqdm(sou):\n",
    "    source.append(i.text)\n",
    "else :\n",
    "    pass\n",
    "\n",
    "# Extracting Destination of Flights via Xpath\n",
    "dest = driver.find_elements(By.XPATH,'//div[@class=\"i-b pdd-0 text-left atime col-5\"]/p[2]')\n",
    "for i in tqdm(dest):\n",
    "    destination.append(i.text)\n",
    "else:\n",
    "    pass\n",
    "\n",
    "# Extracting Departure Time of Filght via Xpath\n",
    "dept_time = driver.find_elements(By.XPATH,'//div[@class=\"i-b pr\"]')\n",
    "for i in tqdm(dept_time):\n",
    "    departure_time.append(i.text)\n",
    "else :\n",
    "    pass\n",
    "\n",
    "# Extracting Arrival Time via xpath\n",
    "arr_time = driver.find_elements(By.XPATH,'//p[@class=\"bold fs-15 mb-2 pr time\"]')\n",
    "for i in tqdm(arr_time):\n",
    "    arrival_time.append(i.text)\n",
    "else :\n",
    "    pass\n",
    "\n",
    "# Extracting Duration of Flights via Xpath\n",
    "dur = driver.find_elements(By.XPATH,'//div[@class=\"stop-cont pl-13\"]/p')\n",
    "for i in tqdm(dur):\n",
    "    duration.append(i.text)\n",
    "else:\n",
    "    pass\n",
    "\n",
    "# Extracting stop details via Xpath\n",
    "stop = driver.find_elements(By.XPATH,\"//div[@class='stop-cont pl-13']/div/span\")\n",
    "for i in tqdm(stop):\n",
    "    total_stops.append(i.text)\n",
    "else:\n",
    "    pass\n",
    "\n",
    "# Extracting Price of Flights via Xpath\n",
    "p = driver.find_elements(By.XPATH,'//div[@class=\"i-b tipsy fare-summary-tooltip fs-18\"]')\n",
    "for i in tqdm(p):\n",
    "    price.append(i.text.replace(',',''))\n",
    "else:\n",
    "    pass\n",
    "\n",
    "# Extracting Aeroplane model  via xpath\n",
    "model = driver.find_elements(By.XPATH,'//p[@class=\"normal fs-11 font-lightestgrey no-wrap fl-no\"]/span')\n",
    "for i in tqdm(model):\n",
    "    aeroplane_model.append(i.text) \n",
    "else:\n",
    "    pass\n",
    "\n",
    "# Extracting date of journey via xpath\n",
    "d=[]\n",
    "model = driver.find_elements(By.XPATH,'/html/body/section[2]/section/section[2]/section[1]/div[1]/div/div[1]/div/ul/li[11]/div/p[1]')\n",
    "for i in model:\n",
    "    d.append(i.text) \n",
    "else:\n",
    "    pass\n",
    "date1 = d* flightlength\n",
    "date= date+date1"
   ]
  },
  {
   "cell_type": "markdown",
   "id": "19278790",
   "metadata": {},
   "source": [
    "#### Opening Business class flights from Kolkata to Bangalore on  21 April 2023"
   ]
  },
  {
   "cell_type": "code",
   "execution_count": 163,
   "id": "4f2c3b10",
   "metadata": {},
   "outputs": [],
   "source": [
    "url = \"https://flight.yatra.com/air-search-ui/dom2/trigger?ADT=1&CHD=0&INF=0&class=Business&destination=BLR&destinationCountry=IN&flexi=0&flight_depart_date=21%2F04%2F2023&hb=0&noOfSegments=1&origin=CCU&originCountry=IN&type=O&unique=1639277162172&version=1.1&viewName=normal\"\n",
    "driver.get(url)\n",
    "time.sleep(2)"
   ]
  },
  {
   "cell_type": "code",
   "execution_count": 164,
   "id": "8c6d5626",
   "metadata": {},
   "outputs": [
    {
     "name": "stderr",
     "output_type": "stream",
     "text": [
      "100%|██████████| 50/50 [00:20<00:00,  2.45it/s]\n"
     ]
    }
   ],
   "source": [
    "from tqdm import tqdm\n",
    "for _ in tqdm (range(0,50)):\n",
    "    time.sleep(0.1)\n",
    "    driver.execute_script(\"window.scrollBy(0,2000)\",\"\")\n",
    "    time.sleep(0.2)\n",
    "    driver.execute_script(\"window.scrollBy(0,-500)\",\"\")"
   ]
  },
  {
   "cell_type": "code",
   "execution_count": 165,
   "id": "36d1cd88",
   "metadata": {},
   "outputs": [
    {
     "data": {
      "text/plain": [
       "65"
      ]
     },
     "execution_count": 165,
     "metadata": {},
     "output_type": "execute_result"
    }
   ],
   "source": [
    "flights=driver.find_elements(By.XPATH, '//div[@class=\"flight-det table full-width clearfix\"]')\n",
    "flightlength = len(flights)\n",
    "flightlength"
   ]
  },
  {
   "cell_type": "code",
   "execution_count": 166,
   "id": "cca019f0",
   "metadata": {},
   "outputs": [
    {
     "name": "stderr",
     "output_type": "stream",
     "text": [
      "100%|██████████| 65/65 [00:01<00:00, 35.15it/s]\n",
      "100%|██████████| 65/65 [00:01<00:00, 34.73it/s]\n",
      "100%|██████████| 65/65 [00:01<00:00, 34.72it/s]\n",
      "100%|██████████| 65/65 [00:02<00:00, 29.14it/s]\n",
      "100%|██████████| 65/65 [00:01<00:00, 33.66it/s]\n",
      "100%|██████████| 65/65 [00:02<00:00, 27.36it/s]\n",
      "100%|██████████| 65/65 [00:02<00:00, 29.88it/s]\n",
      "100%|██████████| 65/65 [00:02<00:00, 32.15it/s]\n"
     ]
    }
   ],
   "source": [
    "# Extracting Airlines Name Via Xpath\n",
    "airlines = driver.find_elements(By.XPATH,\"//div[@class='fs-13 airline-name no-pad col-8']/span\")\n",
    "for i in airlines:\n",
    "    airlines_name.append(i.text.replace(\"\\n\",\" \"))\n",
    "else :\n",
    "    pass\n",
    "\n",
    "# Extracting class of journey via xpath\n",
    "d=[]\n",
    "model = driver.find_elements(By.XPATH,'//div[@class=\"bdr-btm drop-down bold fs-16 cursor-pointer full-width\"]/span/span[3]')\n",
    "for i in model:\n",
    "    d.append(i.text) \n",
    "else:\n",
    "    pass\n",
    "class_of_journey= d* flightlength\n",
    "\n",
    "# Extracting Source of flight via Xpath\n",
    "sou = driver.find_elements(By.XPATH,\"//div[@class='i-b col-4 no-wrap text-right dtime col-3']/p\")\n",
    "for i in tqdm(sou):\n",
    "    source.append(i.text)\n",
    "else :\n",
    "    pass\n",
    "\n",
    "# Extracting Destination of Flights via Xpath\n",
    "dest = driver.find_elements(By.XPATH,'//div[@class=\"i-b pdd-0 text-left atime col-5\"]/p[2]')\n",
    "for i in tqdm(dest):\n",
    "    destination.append(i.text)\n",
    "else:\n",
    "    pass\n",
    "\n",
    "# Extracting Departure Time of Filght via Xpath\n",
    "dept_time = driver.find_elements(By.XPATH,'//div[@class=\"i-b pr\"]')\n",
    "for i in tqdm(dept_time):\n",
    "    departure_time.append(i.text)\n",
    "else :\n",
    "    pass\n",
    "\n",
    "# Extracting Arrival Time via xpath\n",
    "arr_time = driver.find_elements(By.XPATH,'//p[@class=\"bold fs-15 mb-2 pr time\"]')\n",
    "for i in tqdm(arr_time):\n",
    "    arrival_time.append(i.text)\n",
    "else :\n",
    "    pass\n",
    "\n",
    "# Extracting Duration of Flights via Xpath\n",
    "dur = driver.find_elements(By.XPATH,'//div[@class=\"stop-cont pl-13\"]/p')\n",
    "for i in tqdm(dur):\n",
    "    duration.append(i.text)\n",
    "else:\n",
    "    pass\n",
    "\n",
    "# Extracting stop details via Xpath\n",
    "stop = driver.find_elements(By.XPATH,\"//div[@class='stop-cont pl-13']/div/span\")\n",
    "for i in tqdm(stop):\n",
    "    total_stops.append(i.text)\n",
    "else:\n",
    "    pass\n",
    "\n",
    "# Extracting Price of Flights via Xpath\n",
    "p = driver.find_elements(By.XPATH,'//div[@class=\"i-b tipsy fare-summary-tooltip fs-18\"]')\n",
    "for i in tqdm(p):\n",
    "    price.append(i.text.replace(',',''))\n",
    "else:\n",
    "    pass\n",
    "\n",
    "# Extracting Aeroplane model  via xpath\n",
    "model = driver.find_elements(By.XPATH,'//p[@class=\"normal fs-11 font-lightestgrey no-wrap fl-no\"]/span')\n",
    "for i in tqdm(model):\n",
    "    aeroplane_model.append(i.text) \n",
    "else:\n",
    "    pass\n",
    "\n",
    "# Extracting date of journey via xpath\n",
    "d=[]\n",
    "model = driver.find_elements(By.XPATH,'/html/body/section[2]/section/section[2]/section[1]/div[1]/div/div[1]/div/ul/li[11]/div/p[1]')\n",
    "for i in model:\n",
    "    d.append(i.text) \n",
    "else:\n",
    "    pass\n",
    "date1 = d* flightlength\n",
    "date= date+date1"
   ]
  },
  {
   "cell_type": "code",
   "execution_count": 167,
   "id": "35396128",
   "metadata": {},
   "outputs": [
    {
     "data": {
      "text/plain": [
       "(1492, 1492, 1492, 1492, 1492, 1492, 1492, 1492, 1492, 1492)"
      ]
     },
     "execution_count": 167,
     "metadata": {},
     "output_type": "execute_result"
    }
   ],
   "source": [
    "len(date), len(airlines_name), len(source), len(destination), len(departure_time), len(arrival_time), len(duration), len(total_stops),len(price), len(aeroplane_model)"
   ]
  },
  {
   "cell_type": "code",
   "execution_count": 169,
   "id": "f5c7ad39",
   "metadata": {},
   "outputs": [],
   "source": [
    "import pandas as pd\n",
    "import numpy as np\n",
    "\n",
    "data2 =pd.DataFrame()\n",
    "data2[\"Airlines_name\"]=airlines_name\n",
    "data2[\"Journey_class\"]= class_of_journey\n",
    "data2[\"Aeroplane_model\"]=aeroplane_model\n",
    "data2['Date'] = date\n",
    "data2[\"Source\"]=source\n",
    "data2[\"Destination\"]=destination\n",
    "data2[\"Departure_Time\"]=departure_time\n",
    "data2[\"Arrival_Time\"]=arrival_time\n",
    "data2[\"Duration\"]=duration\n",
    "data2[\"Total_Stops\"]=total_stops\n",
    "data2[\"Price\"]=price"
   ]
  },
  {
   "cell_type": "code",
   "execution_count": 172,
   "id": "359caee1",
   "metadata": {},
   "outputs": [
    {
     "data": {
      "text/html": [
       "<div>\n",
       "<style scoped>\n",
       "    .dataframe tbody tr th:only-of-type {\n",
       "        vertical-align: middle;\n",
       "    }\n",
       "\n",
       "    .dataframe tbody tr th {\n",
       "        vertical-align: top;\n",
       "    }\n",
       "\n",
       "    .dataframe thead th {\n",
       "        text-align: right;\n",
       "    }\n",
       "</style>\n",
       "<table border=\"1\" class=\"dataframe\">\n",
       "  <thead>\n",
       "    <tr style=\"text-align: right;\">\n",
       "      <th></th>\n",
       "      <th>Airlines_name</th>\n",
       "      <th>Aeroplane_model</th>\n",
       "      <th>Date</th>\n",
       "      <th>Source</th>\n",
       "      <th>Destination</th>\n",
       "      <th>Departure_Time</th>\n",
       "      <th>Arrival_Time</th>\n",
       "      <th>Duration</th>\n",
       "      <th>Total_Stops</th>\n",
       "      <th>Price</th>\n",
       "    </tr>\n",
       "  </thead>\n",
       "  <tbody>\n",
       "    <tr>\n",
       "      <th>122</th>\n",
       "      <td>Vistara</td>\n",
       "      <td>UK-706/658</td>\n",
       "      <td>Sat, 4 Feb</td>\n",
       "      <td>Kolkata</td>\n",
       "      <td>Bangalore</td>\n",
       "      <td>10:15</td>\n",
       "      <td>18:15</td>\n",
       "      <td>8h 00m</td>\n",
       "      <td>2 Stop(s)</td>\n",
       "      <td>19698</td>\n",
       "    </tr>\n",
       "  </tbody>\n",
       "</table>\n",
       "</div>"
      ],
      "text/plain": [
       "    Airlines_name Aeroplane_model        Date   Source Destination  \\\n",
       "122       Vistara      UK-706/658  Sat, 4 Feb  Kolkata   Bangalore   \n",
       "\n",
       "    Departure_Time Arrival_Time Duration Total_Stops  Price  \n",
       "122          10:15        18:15   8h 00m   2 Stop(s)  19698  "
      ]
     },
     "execution_count": 172,
     "metadata": {},
     "output_type": "execute_result"
    }
   ],
   "source": [
    "data2.to_excel('data2.xlsx', index = False)\n",
    "data2.sample()"
   ]
  },
  {
   "cell_type": "code",
   "execution_count": 174,
   "id": "53870ed0",
   "metadata": {},
   "outputs": [],
   "source": [
    "df1 = pd.read_excel(r'data1.xlsx')\n",
    "df2 = pd.read_excel(r'data2.xlsx')"
   ]
  },
  {
   "cell_type": "code",
   "execution_count": null,
   "id": "f34880af",
   "metadata": {},
   "outputs": [],
   "source": [
    "Final_Flight_Price_Details= pd.concat([df1,df2], axis=0)\n",
    "Final_Flight_Price_Details.to_excel('Final_Flight_Price_Details.xlsx', index = False)"
   ]
  },
  {
   "cell_type": "code",
   "execution_count": 30,
   "id": "c3f0c064",
   "metadata": {},
   "outputs": [
    {
     "data": {
      "text/html": [
       "<div>\n",
       "<style scoped>\n",
       "    .dataframe tbody tr th:only-of-type {\n",
       "        vertical-align: middle;\n",
       "    }\n",
       "\n",
       "    .dataframe tbody tr th {\n",
       "        vertical-align: top;\n",
       "    }\n",
       "\n",
       "    .dataframe thead th {\n",
       "        text-align: right;\n",
       "    }\n",
       "</style>\n",
       "<table border=\"1\" class=\"dataframe\">\n",
       "  <thead>\n",
       "    <tr style=\"text-align: right;\">\n",
       "      <th></th>\n",
       "      <th>Airlines_name</th>\n",
       "      <th>Journey_class</th>\n",
       "      <th>Aeroplane_model</th>\n",
       "      <th>Date</th>\n",
       "      <th>Source</th>\n",
       "      <th>Destination</th>\n",
       "      <th>Departure_Time</th>\n",
       "      <th>Arrival_Time</th>\n",
       "      <th>Duration</th>\n",
       "      <th>Total_Stops</th>\n",
       "      <th>Price</th>\n",
       "    </tr>\n",
       "  </thead>\n",
       "  <tbody>\n",
       "    <tr>\n",
       "      <th>893</th>\n",
       "      <td>SpiceJet</td>\n",
       "      <td>Economy</td>\n",
       "      <td>SG-516</td>\n",
       "      <td>Sat, 4 Feb</td>\n",
       "      <td>Kolkata</td>\n",
       "      <td>Bangalore</td>\n",
       "      <td>08:05</td>\n",
       "      <td>11:35</td>\n",
       "      <td>3h 30m</td>\n",
       "      <td>Non Stop</td>\n",
       "      <td>7555</td>\n",
       "    </tr>\n",
       "    <tr>\n",
       "      <th>491</th>\n",
       "      <td>IndiGo</td>\n",
       "      <td>Economy</td>\n",
       "      <td>6E-6021/285</td>\n",
       "      <td>Wed, 1 Feb</td>\n",
       "      <td>Kolkata</td>\n",
       "      <td>Bangalore</td>\n",
       "      <td>13:55</td>\n",
       "      <td>22:10</td>\n",
       "      <td>8h 15m</td>\n",
       "      <td>1 Stop</td>\n",
       "      <td>6507</td>\n",
       "    </tr>\n",
       "    <tr>\n",
       "      <th>376</th>\n",
       "      <td>Air Asia</td>\n",
       "      <td>Economy</td>\n",
       "      <td>I5-588</td>\n",
       "      <td>Sat, 28 Jan</td>\n",
       "      <td>Kolkata</td>\n",
       "      <td>Bangalore</td>\n",
       "      <td>14:05</td>\n",
       "      <td>16:30</td>\n",
       "      <td>2h 25m</td>\n",
       "      <td>Non Stop</td>\n",
       "      <td>8710</td>\n",
       "    </tr>\n",
       "    <tr>\n",
       "      <th>225</th>\n",
       "      <td>Vistara</td>\n",
       "      <td>Economy</td>\n",
       "      <td>UK-706/809</td>\n",
       "      <td>Wed, 18 Jan</td>\n",
       "      <td>Kolkata</td>\n",
       "      <td>Bangalore</td>\n",
       "      <td>10:15</td>\n",
       "      <td>22:40</td>\n",
       "      <td>12h 25m</td>\n",
       "      <td>1 Stop</td>\n",
       "      <td>15772</td>\n",
       "    </tr>\n",
       "    <tr>\n",
       "      <th>527</th>\n",
       "      <td>SpiceJet</td>\n",
       "      <td>Economy</td>\n",
       "      <td>SG-516</td>\n",
       "      <td>Wed, 1 Feb</td>\n",
       "      <td>Kolkata</td>\n",
       "      <td>Bangalore</td>\n",
       "      <td>08:05</td>\n",
       "      <td>11:35</td>\n",
       "      <td>3h 30m</td>\n",
       "      <td>Non Stop</td>\n",
       "      <td>7820</td>\n",
       "    </tr>\n",
       "  </tbody>\n",
       "</table>\n",
       "</div>"
      ],
      "text/plain": [
       "    Airlines_name Journey_class Aeroplane_model         Date   Source  \\\n",
       "893      SpiceJet       Economy          SG-516   Sat, 4 Feb  Kolkata   \n",
       "491        IndiGo       Economy     6E-6021/285   Wed, 1 Feb  Kolkata   \n",
       "376      Air Asia       Economy          I5-588  Sat, 28 Jan  Kolkata   \n",
       "225       Vistara       Economy      UK-706/809  Wed, 18 Jan  Kolkata   \n",
       "527      SpiceJet       Economy          SG-516   Wed, 1 Feb  Kolkata   \n",
       "\n",
       "    Destination Departure_Time Arrival_Time Duration Total_Stops  Price  \n",
       "893   Bangalore          08:05        11:35   3h 30m    Non Stop   7555  \n",
       "491   Bangalore          13:55        22:10   8h 15m      1 Stop   6507  \n",
       "376   Bangalore          14:05        16:30   2h 25m    Non Stop   8710  \n",
       "225   Bangalore          10:15        22:40  12h 25m      1 Stop  15772  \n",
       "527   Bangalore          08:05        11:35   3h 30m    Non Stop   7820  "
      ]
     },
     "execution_count": 30,
     "metadata": {},
     "output_type": "execute_result"
    }
   ],
   "source": [
    "data = pd.read_excel('Final_Flight_Price_Details.xlsx')\n",
    "data.sample(n=5)"
   ]
  },
  {
   "cell_type": "code",
   "execution_count": 31,
   "id": "f91809e0",
   "metadata": {},
   "outputs": [
    {
     "data": {
      "text/plain": [
       "(2350, 11)"
      ]
     },
     "execution_count": 31,
     "metadata": {},
     "output_type": "execute_result"
    }
   ],
   "source": [
    "data.shape"
   ]
  }
 ],
 "metadata": {
  "kernelspec": {
   "display_name": "Python 3 (ipykernel)",
   "language": "python",
   "name": "python3"
  },
  "language_info": {
   "codemirror_mode": {
    "name": "ipython",
    "version": 3
   },
   "file_extension": ".py",
   "mimetype": "text/x-python",
   "name": "python",
   "nbconvert_exporter": "python",
   "pygments_lexer": "ipython3",
   "version": "3.9.12"
  }
 },
 "nbformat": 4,
 "nbformat_minor": 5
}
