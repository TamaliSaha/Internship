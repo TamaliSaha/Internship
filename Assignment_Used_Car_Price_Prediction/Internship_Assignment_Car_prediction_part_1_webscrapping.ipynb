{
 "cells": [
  {
   "cell_type": "markdown",
   "id": "534b1051",
   "metadata": {},
   "source": [
    "# Car_Price_Prediction_Project :-  Flip Robo Technologies   |   \n",
    "\n",
    "# Internship Batch No-31\n",
    "\n",
    "\n",
    "#### Submitted by: Tamali Saha (tamali428@gmail.com)\n",
    "\n",
    "## Problem Statement:"
   ]
  },
  {
   "cell_type": "markdown",
   "id": "66d5aa22",
   "metadata": {},
   "source": [
    "With the covid 19 impact in the market, we have seen lot of changes in the car market. Now some \n",
    "cars are in demand hence making them costly and some are not in demand hence cheaper. One \n",
    "of our clients works with small traders, who sell used cars. With the change in market due to covid \n",
    "19 impact, our client is facing problems with their previous car price valuation machine learning \n",
    "models. So, they are looking for new machine learning models from new data. We have to make \n",
    "car price valuation model. This project contains two phase\n",
    "### Data Collection Phase:\n",
    "You have to scrape at least 5000 used cars data. You can scrape more data as well, it’s up to you. \n",
    "more the data better the model\n",
    "In this section You need to scrape the data of used cars from websites (Olx, cardekho, Cars24 \n",
    "etc.) You need web scraping for this. You have to fetch data for different locations. The number of\n",
    "columns for data doesn’t have limit, it’s up to you and your creativity. Generally, these columns are \n",
    "Brand, model, variant, manufacturing year, driven kilometers, fuel, number of owners, location and \n",
    "at last target variable Price of the car. This data is to give you a hint about important variables in \n",
    "used car model. You can make changes to it, you can add or you can remove some columns, it \n",
    "completely depends on the website from which you are fetching the data.\n",
    "Try to include all types of cars in your data for example- SUV, Sedans, Coupe, minivan, \n",
    "Hatchback.\n",
    "\n",
    "**Note – The data which you are collecting is important to us. Kindly don’t share it on any public platforms.**\n",
    "### Model Building Phase\n",
    "After collecting the data, you need to build a machine learning model. Before model building do all \n",
    "data pre-processing steps. Try different models with different hyper parameters and select the best \n",
    "model.\n",
    "Follow the complete life cycle of data science. Include all the steps like.\n",
    "1. Data Cleaning\n",
    "2. Exploratory Data Analysis\n",
    "3. Data Pre-processing\n",
    "4. Model Building\n",
    "5. Model Evaluation\n",
    "6. Selecting the best model"
   ]
  },
  {
   "cell_type": "markdown",
   "id": "b912d820",
   "metadata": {},
   "source": [
    "### Import Necessary libraries:"
   ]
  },
  {
   "cell_type": "code",
   "execution_count": 2,
   "id": "73e36d02",
   "metadata": {},
   "outputs": [],
   "source": [
    "import selenium\n",
    "import pandas as pd\n",
    "from selenium import webdriver\n",
    "import warnings\n",
    "warnings.filterwarnings(\"ignore\")\n",
    "from selenium.common.exceptions import StaleElementReferenceException, NoSuchElementException\n",
    "from selenium.webdriver.common.by import By\n",
    "import time\n",
    "import requests\n",
    "from time import sleep"
   ]
  },
  {
   "cell_type": "markdown",
   "id": "4c53d6b4",
   "metadata": {},
   "source": [
    "### From Cardekho.com:\n",
    "#### Used car in Ahmedabad:"
   ]
  },
  {
   "cell_type": "code",
   "execution_count": 25,
   "id": "70c4ceaf",
   "metadata": {},
   "outputs": [],
   "source": [
    "#First connect to the driver\n",
    "\n",
    "driver= webdriver.Chrome(\"chromedriver.exe\")\n",
    "\n",
    "#open the page in automated chrome browser\n",
    "\n",
    "driver.get(\"https://www.cardekho.com/used-cars+in+ahmedabad\")\n",
    "time.sleep(2)"
   ]
  },
  {
   "cell_type": "code",
   "execution_count": 26,
   "id": "c77103a4",
   "metadata": {},
   "outputs": [
    {
     "name": "stderr",
     "output_type": "stream",
     "text": [
      "100%|██████████| 200/200 [10:00<00:00,  3.00s/it]\n"
     ]
    }
   ],
   "source": [
    "from tqdm import tqdm\n",
    "for _ in tqdm(range(0,200)):\n",
    "    time.sleep(1)\n",
    "    driver.execute_script(\"window.scrollBy(0,1000)\",\"\")\n",
    "    time.sleep(1)\n",
    "    driver.execute_script(\"window.scrollBy(0,-350)\")"
   ]
  },
  {
   "cell_type": "code",
   "execution_count": 27,
   "id": "1e55611a",
   "metadata": {},
   "outputs": [
    {
     "name": "stderr",
     "output_type": "stream",
     "text": [
      "100%|██████████| 940/940 [00:21<00:00, 43.95it/s]\n"
     ]
    }
   ],
   "source": [
    "url_ahmedabad = []\n",
    "url_ahm = driver.find_elements(By.XPATH,'//div[@class=\"titlebox hover\"]/h3/a')\n",
    "l= len(url_ahm)\n",
    "for i in tqdm(range(l)):\n",
    "    url_ahmedabad.append(url_ahm[i].get_attribute('href'))\n",
    "time.sleep(2)"
   ]
  },
  {
   "cell_type": "markdown",
   "id": "14dfdc04",
   "metadata": {},
   "source": [
    "#### Used car in Bangalore:"
   ]
  },
  {
   "cell_type": "code",
   "execution_count": 44,
   "id": "7bea0ff7",
   "metadata": {},
   "outputs": [],
   "source": [
    "#First connect to the driver\n",
    "\n",
    "driver= webdriver.Chrome(\"chromedriver.exe\")\n",
    "\n",
    "#open the page in automated chrome browser\n",
    "\n",
    "driver.get(\"https://www.cardekho.com/used-cars+in+bangalore\")\n",
    "time.sleep(2)"
   ]
  },
  {
   "cell_type": "code",
   "execution_count": 45,
   "id": "8239204a",
   "metadata": {},
   "outputs": [
    {
     "name": "stderr",
     "output_type": "stream",
     "text": [
      "100%|██████████| 120/120 [04:45<00:00,  2.38s/it]\n"
     ]
    }
   ],
   "source": [
    "from tqdm import tqdm\n",
    "for _ in tqdm(range(0,120)):\n",
    "    time.sleep(1)\n",
    "    driver.execute_script(\"window.scrollBy(0,1100)\",\"\")\n",
    "    time.sleep(1)\n",
    "    driver.execute_script(\"window.scrollBy(0,-350)\")"
   ]
  },
  {
   "cell_type": "code",
   "execution_count": 46,
   "id": "8a7a1fcf",
   "metadata": {},
   "outputs": [
    {
     "name": "stderr",
     "output_type": "stream",
     "text": [
      "100%|██████████| 620/620 [03:16<00:00,  3.15it/s]\n"
     ]
    }
   ],
   "source": [
    "url_bangalore = []\n",
    "url_ban = driver.find_elements(By.XPATH,'//div[@class=\"titlebox hover\"]/h3/a')\n",
    "l= len(url_ban)\n",
    "for i in tqdm(range(l)):\n",
    "    url_bangalore.append(url_ban[i].get_attribute('href'))\n",
    "time.sleep(2)"
   ]
  },
  {
   "cell_type": "markdown",
   "id": "daebcb42",
   "metadata": {},
   "source": [
    "#### Used car in Chennai:"
   ]
  },
  {
   "cell_type": "code",
   "execution_count": 34,
   "id": "26ffaed0",
   "metadata": {},
   "outputs": [],
   "source": [
    "#First connect to the driver\n",
    "\n",
    "driver= webdriver.Chrome(\"chromedriver.exe\")\n",
    "\n",
    "#open the page in automated chrome browser\n",
    "\n",
    "driver.get('https://www.cardekho.com/used-cars+in+chennai')\n",
    "time.sleep(2)"
   ]
  },
  {
   "cell_type": "code",
   "execution_count": 35,
   "id": "f5948df5",
   "metadata": {},
   "outputs": [
    {
     "name": "stderr",
     "output_type": "stream",
     "text": [
      "100%|██████████| 150/150 [03:53<00:00,  1.56s/it]\n"
     ]
    }
   ],
   "source": [
    "from tqdm import tqdm\n",
    "for _ in tqdm(range(0,150)):\n",
    "    time.sleep(0.5)\n",
    "    driver.execute_script(\"window.scrollBy(0,1000)\",\"\")\n",
    "    time.sleep(1)\n",
    "    driver.execute_script(\"window.scrollBy(0,-400)\")"
   ]
  },
  {
   "cell_type": "code",
   "execution_count": 36,
   "id": "3249bc49",
   "metadata": {},
   "outputs": [
    {
     "name": "stderr",
     "output_type": "stream",
     "text": [
      "100%|██████████| 200/200 [00:03<00:00, 60.53it/s]\n"
     ]
    }
   ],
   "source": [
    "url_chennai = []\n",
    "url_chen = driver.find_elements(By.XPATH,'//div[@class=\"titlebox hover\"]/h3/a')\n",
    "l= len(url_chen)\n",
    "for i in tqdm(range(l)):\n",
    "    url_chennai.append(url_chen[i].get_attribute('href'))\n",
    "time.sleep(2)"
   ]
  },
  {
   "cell_type": "markdown",
   "id": "80f17d8a",
   "metadata": {},
   "source": [
    "#### Used car in Delhi NCR:"
   ]
  },
  {
   "cell_type": "code",
   "execution_count": 38,
   "id": "1158543b",
   "metadata": {},
   "outputs": [],
   "source": [
    "#First connect to the driver\n",
    "\n",
    "driver= webdriver.Chrome(\"chromedriver.exe\")\n",
    "\n",
    "#open the page in automated chrome browser\n",
    "\n",
    "driver.get('https://www.cardekho.com/used-cars+in+delhi-ncr')\n",
    "time.sleep(2)"
   ]
  },
  {
   "cell_type": "code",
   "execution_count": 39,
   "id": "5fff6851",
   "metadata": {},
   "outputs": [
    {
     "name": "stderr",
     "output_type": "stream",
     "text": [
      "100%|██████████| 200/200 [11:05<00:00,  3.33s/it]\n"
     ]
    }
   ],
   "source": [
    "from tqdm import tqdm\n",
    "for _ in tqdm(range(0,200)):\n",
    "    time.sleep(1)\n",
    "    driver.execute_script(\"window.scrollBy(0,1200)\",\"\")\n",
    "    time.sleep(1)\n",
    "    driver.execute_script(\"window.scrollBy(0,-350)\")"
   ]
  },
  {
   "cell_type": "code",
   "execution_count": 40,
   "id": "59a12ed9",
   "metadata": {},
   "outputs": [
    {
     "name": "stderr",
     "output_type": "stream",
     "text": [
      "100%|██████████| 1220/1220 [22:23<00:00,  1.10s/it]\n"
     ]
    }
   ],
   "source": [
    "url_delhi = []\n",
    "url_del = driver.find_elements(By.XPATH,'//div[@class=\"titlebox hover\"]/h3/a')\n",
    "l= len(url_del)\n",
    "for i in tqdm(range(l)):\n",
    "    url_delhi.append(url_del[i].get_attribute('href'))\n",
    "time.sleep(2)"
   ]
  },
  {
   "cell_type": "code",
   "execution_count": 48,
   "id": "d521fb55",
   "metadata": {},
   "outputs": [],
   "source": [
    "car_url_ahm_ban_che_del= []\n",
    "\n",
    "car_url_ahm_ban_che_del = url_ahmedabad+ url_bangalore+ url_chennai+ url_delhi\n",
    "\n",
    "dict = {'URL': car_url_ahm_ban_che_del}  \n",
    "       \n",
    "df = pd.DataFrame(dict) \n",
    "\n",
    "# saving the dataframe \n",
    "df.to_csv('car_url_ahm_ban_che_del.csv') "
   ]
  },
  {
   "cell_type": "code",
   "execution_count": 49,
   "id": "74eb38a3",
   "metadata": {},
   "outputs": [
    {
     "data": {
      "text/plain": [
       "2980"
      ]
     },
     "execution_count": 49,
     "metadata": {},
     "output_type": "execute_result"
    }
   ],
   "source": [
    "len(car_url_ahm_ban_che_del)"
   ]
  },
  {
   "cell_type": "markdown",
   "id": "c307a86d",
   "metadata": {},
   "source": [
    "#### Used car in Agra:"
   ]
  },
  {
   "cell_type": "code",
   "execution_count": 11,
   "id": "aa71b44d",
   "metadata": {},
   "outputs": [],
   "source": [
    "#First connect to the driver\n",
    "\n",
    "driver= webdriver.Chrome(\"chromedriver.exe\")\n",
    "\n",
    "#open the page in automated chrome browser\n",
    "\n",
    "driver.get('https://www.cardekho.com/used-cars+in+agra')\n",
    "time.sleep(2)"
   ]
  },
  {
   "cell_type": "code",
   "execution_count": 12,
   "id": "ffff991e",
   "metadata": {},
   "outputs": [
    {
     "name": "stderr",
     "output_type": "stream",
     "text": [
      "100%|██████████| 150/150 [05:11<00:00,  2.07s/it]\n"
     ]
    }
   ],
   "source": [
    "from tqdm import tqdm\n",
    "for _ in tqdm(range(0,150)):\n",
    "    time.sleep(1)\n",
    "    driver.execute_script(\"window.scrollBy(0,1000)\",\"\")\n",
    "    time.sleep(1)\n",
    "    driver.execute_script(\"window.scrollBy(0,-350)\")"
   ]
  },
  {
   "cell_type": "code",
   "execution_count": 13,
   "id": "d51d4b4e",
   "metadata": {},
   "outputs": [
    {
     "name": "stderr",
     "output_type": "stream",
     "text": [
      "100%|██████████| 168/168 [00:03<00:00, 55.85it/s]\n"
     ]
    }
   ],
   "source": [
    "url_agra = []\n",
    "url_ag = driver.find_elements(By.XPATH,'//div[@class=\"titlebox hover\"]/h3/a')\n",
    "l= len(url_ag)\n",
    "for i in tqdm(range(l)):\n",
    "    url_agra.append(url_ag[i].get_attribute('href'))\n",
    "time.sleep(2)"
   ]
  },
  {
   "cell_type": "markdown",
   "id": "96a10053",
   "metadata": {},
   "source": [
    "#### Used car in Hyderabad:"
   ]
  },
  {
   "cell_type": "code",
   "execution_count": 20,
   "id": "b4b920aa",
   "metadata": {},
   "outputs": [],
   "source": [
    "#First connect to the driver\n",
    "\n",
    "driver= webdriver.Chrome(\"chromedriver.exe\")\n",
    "\n",
    "#open the page in automated chrome browser\n",
    "\n",
    "driver.get('https://www.cardekho.com/used-cars+in+hyderabad')\n",
    "time.sleep(5)"
   ]
  },
  {
   "cell_type": "code",
   "execution_count": 21,
   "id": "7f6c9f48",
   "metadata": {},
   "outputs": [
    {
     "name": "stderr",
     "output_type": "stream",
     "text": [
      "100%|██████████| 100/100 [03:44<00:00,  2.25s/it]\n"
     ]
    }
   ],
   "source": [
    "from tqdm import tqdm\n",
    "for _ in tqdm(range(0,100)):\n",
    "    time.sleep(1)\n",
    "    driver.execute_script(\"window.scrollBy(0,1100)\",\"\")\n",
    "    time.sleep(1)\n",
    "    driver.execute_script(\"window.scrollBy(0,-350)\")"
   ]
  },
  {
   "cell_type": "code",
   "execution_count": 22,
   "id": "eed47767",
   "metadata": {},
   "outputs": [
    {
     "name": "stderr",
     "output_type": "stream",
     "text": [
      "100%|██████████| 540/540 [01:52<00:00,  4.79it/s]\n"
     ]
    }
   ],
   "source": [
    "url_hydrabad = []\n",
    "url_hy = driver.find_elements(By.XPATH,'//div[@class=\"titlebox hover\"]/h3/a')\n",
    "l= len(url_hy)\n",
    "for i in tqdm(range(l)):\n",
    "    url_hydrabad.append(url_hy[i].get_attribute('href'))\n",
    "time.sleep(2)"
   ]
  },
  {
   "cell_type": "markdown",
   "id": "32c49e0d",
   "metadata": {},
   "source": [
    "#### Used car in Jaipur:"
   ]
  },
  {
   "cell_type": "code",
   "execution_count": 26,
   "id": "01966fbd",
   "metadata": {},
   "outputs": [],
   "source": [
    "#First connect to the driver\n",
    "\n",
    "driver= webdriver.Chrome(\"chromedriver.exe\")\n",
    "\n",
    "#open the page in automated chrome browser\n",
    "\n",
    "driver.get('https://www.cardekho.com/used-cars+in+jaipur')\n",
    "time.sleep(2)"
   ]
  },
  {
   "cell_type": "code",
   "execution_count": 27,
   "id": "ab8d7cc2",
   "metadata": {},
   "outputs": [
    {
     "name": "stderr",
     "output_type": "stream",
     "text": [
      "100%|██████████| 120/120 [05:15<00:00,  2.63s/it]\n"
     ]
    }
   ],
   "source": [
    "from tqdm import tqdm\n",
    "for _ in tqdm(range(0,120)):\n",
    "    time.sleep(1)\n",
    "    driver.execute_script(\"window.scrollBy(0,1000)\",\"\")\n",
    "    time.sleep(1.5)\n",
    "    driver.execute_script(\"window.scrollBy(0,-350)\")"
   ]
  },
  {
   "cell_type": "code",
   "execution_count": 28,
   "id": "acc63c59",
   "metadata": {},
   "outputs": [
    {
     "name": "stderr",
     "output_type": "stream",
     "text": [
      "100%|██████████| 280/280 [00:29<00:00,  9.51it/s]\n"
     ]
    }
   ],
   "source": [
    "url_jaipur = []\n",
    "url_jai = driver.find_elements(By.XPATH,'//div[@class=\"titlebox hover\"]/h3/a')\n",
    "l= len(url_jai)\n",
    "for i in tqdm(range(l)):\n",
    "    url_jaipur.append(url_jai[i].get_attribute('href'))\n",
    "time.sleep(2)"
   ]
  },
  {
   "cell_type": "markdown",
   "id": "b4b9b5b0",
   "metadata": {},
   "source": [
    "####  Used car in Kolkata:"
   ]
  },
  {
   "cell_type": "code",
   "execution_count": 31,
   "id": "5dacb1b6",
   "metadata": {},
   "outputs": [],
   "source": [
    "#First connect to the driver\n",
    "\n",
    "driver= webdriver.Chrome(\"chromedriver.exe\")\n",
    "\n",
    "#open the page in automated chrome browser\n",
    "\n",
    "driver.get('https://www.cardekho.com/used-cars+in+kolkata')\n",
    "time.sleep(2)"
   ]
  },
  {
   "cell_type": "code",
   "execution_count": 32,
   "id": "6d816064",
   "metadata": {},
   "outputs": [
    {
     "name": "stderr",
     "output_type": "stream",
     "text": [
      "100%|██████████| 150/150 [07:44<00:00,  3.10s/it]\n"
     ]
    }
   ],
   "source": [
    "from tqdm import tqdm\n",
    "for _ in tqdm(range(0,150)):\n",
    "    time.sleep(1)\n",
    "    driver.execute_script(\"window.scrollBy(0,1100)\",\"\")\n",
    "    time.sleep(2)\n",
    "    driver.execute_script(\"window.scrollBy(0,-350)\")"
   ]
  },
  {
   "cell_type": "code",
   "execution_count": 33,
   "id": "c77da820",
   "metadata": {},
   "outputs": [
    {
     "name": "stderr",
     "output_type": "stream",
     "text": [
      "100%|██████████| 460/460 [00:08<00:00, 54.31it/s]\n"
     ]
    }
   ],
   "source": [
    "url_kolkata = []\n",
    "url_kol = driver.find_elements(By.XPATH,'//div[@class=\"titlebox hover\"]/h3/a')\n",
    "l= len(url_kol)\n",
    "for i in tqdm(range(l)):\n",
    "    url_kolkata.append(url_kol[i].get_attribute('href'))\n",
    "time.sleep(2)"
   ]
  },
  {
   "cell_type": "markdown",
   "id": "abed604e",
   "metadata": {},
   "source": [
    "####  Used car in Mumbai:"
   ]
  },
  {
   "cell_type": "code",
   "execution_count": 40,
   "id": "4eebc4f4",
   "metadata": {},
   "outputs": [],
   "source": [
    "#First connect to the driver\n",
    "\n",
    "driver= webdriver.Chrome(\"chromedriver.exe\")\n",
    "\n",
    "#open the page in automated chrome browser\n",
    "\n",
    "driver.get('https://www.cardekho.com/used-cars+in+mumbai')\n",
    "time.sleep(3)"
   ]
  },
  {
   "cell_type": "code",
   "execution_count": 41,
   "id": "dd906123",
   "metadata": {},
   "outputs": [
    {
     "name": "stderr",
     "output_type": "stream",
     "text": [
      "100%|██████████| 200/200 [09:40<00:00,  2.90s/it]\n"
     ]
    }
   ],
   "source": [
    "from tqdm import tqdm\n",
    "for _ in tqdm(range(0,200)):\n",
    "    time.sleep(0.5)\n",
    "    driver.execute_script(\"window.scrollBy(0,1200)\",\"\")\n",
    "    time.sleep(1)\n",
    "    driver.execute_script(\"window.scrollBy(0,-350)\")"
   ]
  },
  {
   "cell_type": "code",
   "execution_count": 42,
   "id": "e49e2498",
   "metadata": {},
   "outputs": [
    {
     "name": "stderr",
     "output_type": "stream",
     "text": [
      "100%|██████████| 880/880 [00:19<00:00, 44.56it/s]\n"
     ]
    }
   ],
   "source": [
    "url_mumbai = []\n",
    "url_mum = driver.find_elements(By.XPATH,'//div[@class=\"titlebox hover\"]/h3/a')\n",
    "l= len(url_mum)\n",
    "for i in tqdm(range(l)):\n",
    "    url_mumbai.append(url_mum[i].get_attribute('href'))\n",
    "time.sleep(2)"
   ]
  },
  {
   "cell_type": "markdown",
   "id": "10f91424",
   "metadata": {},
   "source": [
    "####  Used car in Pune:"
   ]
  },
  {
   "cell_type": "code",
   "execution_count": 44,
   "id": "826357ee",
   "metadata": {},
   "outputs": [],
   "source": [
    "#First connect to the driver\n",
    "\n",
    "driver= webdriver.Chrome(\"chromedriver.exe\")\n",
    "\n",
    "#open the page in automated chrome browser\n",
    "\n",
    "driver.get('https://www.cardekho.com/used-cars+in+pune')\n",
    "time.sleep(3)"
   ]
  },
  {
   "cell_type": "code",
   "execution_count": 45,
   "id": "d7f1bdcb",
   "metadata": {},
   "outputs": [
    {
     "name": "stderr",
     "output_type": "stream",
     "text": [
      "100%|██████████| 150/150 [04:57<00:00,  1.98s/it]\n"
     ]
    }
   ],
   "source": [
    "from tqdm import tqdm\n",
    "for _ in tqdm(range(0,150)):\n",
    "    time.sleep(0.5)\n",
    "    driver.execute_script(\"window.scrollBy(0,1200)\",\"\")\n",
    "    time.sleep(1)\n",
    "    driver.execute_script(\"window.scrollBy(0,-350)\")"
   ]
  },
  {
   "cell_type": "code",
   "execution_count": 46,
   "id": "93d14305",
   "metadata": {},
   "outputs": [
    {
     "name": "stderr",
     "output_type": "stream",
     "text": [
      "100%|██████████| 700/700 [04:05<00:00,  2.85it/s]\n"
     ]
    }
   ],
   "source": [
    "url_pune = []\n",
    "url_p = driver.find_elements(By.XPATH,'//div[@class=\"titlebox hover\"]/h3/a')\n",
    "l= len(url_p)\n",
    "for i in tqdm(range(l)):\n",
    "    url_pune.append(url_p[i].get_attribute('href'))\n",
    "time.sleep(2)"
   ]
  },
  {
   "cell_type": "markdown",
   "id": "ef47b0bd",
   "metadata": {},
   "source": [
    "####  Used car in Lucknow:"
   ]
  },
  {
   "cell_type": "code",
   "execution_count": 48,
   "id": "28f56883",
   "metadata": {},
   "outputs": [],
   "source": [
    "#First connect to the driver\n",
    "\n",
    "driver= webdriver.Chrome(\"chromedriver.exe\")\n",
    "\n",
    "#open the page in automated chrome browser\n",
    "\n",
    "driver.get('https://www.cardekho.com/used-cars+in+lucknow')\n",
    "time.sleep(3)"
   ]
  },
  {
   "cell_type": "code",
   "execution_count": 49,
   "id": "bd0b2953",
   "metadata": {},
   "outputs": [
    {
     "name": "stderr",
     "output_type": "stream",
     "text": [
      "100%|██████████| 120/120 [03:57<00:00,  1.98s/it]\n"
     ]
    }
   ],
   "source": [
    "from tqdm import tqdm\n",
    "for _ in tqdm(range(0,120)):\n",
    "    time.sleep(0.5)\n",
    "    driver.execute_script(\"window.scrollBy(0,1200)\",\"\")\n",
    "    time.sleep(1)\n",
    "    driver.execute_script(\"window.scrollBy(0,-350)\")"
   ]
  },
  {
   "cell_type": "code",
   "execution_count": 50,
   "id": "e16dbc24",
   "metadata": {},
   "outputs": [
    {
     "name": "stderr",
     "output_type": "stream",
     "text": [
      "100%|██████████| 580/580 [00:13<00:00, 42.25it/s]\n"
     ]
    }
   ],
   "source": [
    "url_lucknow = []\n",
    "url_luc = driver.find_elements(By.XPATH,'//div[@class=\"titlebox hover\"]/h3/a')\n",
    "l= len(url_luc)\n",
    "for i in tqdm(range(l)):\n",
    "    url_lucknow.append(url_luc[i].get_attribute('href'))\n",
    "time.sleep(2)"
   ]
  },
  {
   "cell_type": "code",
   "execution_count": 52,
   "id": "0a145a05",
   "metadata": {},
   "outputs": [],
   "source": [
    "car_url_agra_hyd_jai_kol_mum_pune_luck= []\n",
    "\n",
    "car_url_agra_hyd_jai_kol_mum_pune_luck = url_agra+ url_hydrabad + url_jaipur+ url_kolkata+ url_mumbai+ url_pune + url_lucknow\n",
    "\n",
    "dict = {'URL': car_url_agra_hyd_jai_kol_mum_pune_luck}  \n",
    "       \n",
    "df = pd.DataFrame(dict) \n",
    "\n",
    "# saving the dataframe \n",
    "df.to_csv('car_url_agra_hyd_jai_kol_mum_pune_luck.csv') "
   ]
  },
  {
   "cell_type": "code",
   "execution_count": 53,
   "id": "73bf9133",
   "metadata": {},
   "outputs": [
    {
     "data": {
      "text/plain": [
       "3608"
      ]
     },
     "execution_count": 53,
     "metadata": {},
     "output_type": "execute_result"
    }
   ],
   "source": [
    "len(car_url_agra_hyd_jai_kol_mum_pune_luck)"
   ]
  },
  {
   "cell_type": "markdown",
   "id": "be96209d",
   "metadata": {},
   "source": [
    "####  Used car in Chandigarh:"
   ]
  },
  {
   "cell_type": "code",
   "execution_count": 2,
   "id": "da16ac93",
   "metadata": {},
   "outputs": [],
   "source": [
    "#First connect to the driver\n",
    "\n",
    "driver= webdriver.Chrome(\"chromedriver.exe\")\n",
    "\n",
    "#open the page in automated chrome browser\n",
    "\n",
    "driver.get('https://www.cardekho.com/used-cars+in+chandigarh')\n",
    "time.sleep(3)"
   ]
  },
  {
   "cell_type": "code",
   "execution_count": 3,
   "id": "bc0b2b93",
   "metadata": {},
   "outputs": [
    {
     "name": "stderr",
     "output_type": "stream",
     "text": [
      "100%|██████████| 80/80 [02:06<00:00,  1.58s/it]\n"
     ]
    }
   ],
   "source": [
    "from tqdm import tqdm\n",
    "for _ in tqdm(range(0,80)):\n",
    "    time.sleep(0.5)\n",
    "    driver.execute_script(\"window.scrollBy(0,1200)\",\"\")\n",
    "    time.sleep(1)\n",
    "    driver.execute_script(\"window.scrollBy(0,-400)\")"
   ]
  },
  {
   "cell_type": "code",
   "execution_count": 5,
   "id": "65590622",
   "metadata": {},
   "outputs": [
    {
     "name": "stderr",
     "output_type": "stream",
     "text": [
      "100%|██████████| 183/183 [00:02<00:00, 61.64it/s]\n"
     ]
    }
   ],
   "source": [
    "url_chandigarh = []\n",
    "url_ch = driver.find_elements(By.XPATH,'//div[@class=\"titlebox hover\"]/h3/a')\n",
    "l= len(url_ch)\n",
    "for i in tqdm(range(l)):\n",
    "    url_chandigarh.append(url_ch[i].get_attribute('href'))\n",
    "time.sleep(2)"
   ]
  },
  {
   "cell_type": "markdown",
   "id": "2b687ba7",
   "metadata": {},
   "source": [
    "####  Used car in Gurgaon:"
   ]
  },
  {
   "cell_type": "code",
   "execution_count": 6,
   "id": "1acbd417",
   "metadata": {},
   "outputs": [],
   "source": [
    "#First connect to the driver\n",
    "\n",
    "driver= webdriver.Chrome(\"chromedriver.exe\")\n",
    "\n",
    "#open the page in automated chrome browser\n",
    "\n",
    "driver.get('https://www.cardekho.com/used-cars+in+gurgaon')\n",
    "time.sleep(3)"
   ]
  },
  {
   "cell_type": "code",
   "execution_count": 7,
   "id": "84a75f6c",
   "metadata": {},
   "outputs": [
    {
     "name": "stderr",
     "output_type": "stream",
     "text": [
      "100%|██████████| 180/180 [06:11<00:00,  2.06s/it]\n"
     ]
    }
   ],
   "source": [
    "from tqdm import tqdm\n",
    "for _ in tqdm(range(0,180)):\n",
    "    time.sleep(1)\n",
    "    driver.execute_script(\"window.scrollBy(0,1200)\",\"\")\n",
    "    time.sleep(1)\n",
    "    driver.execute_script(\"window.scrollBy(0,-400)\")"
   ]
  },
  {
   "cell_type": "code",
   "execution_count": 10,
   "id": "470731e5",
   "metadata": {},
   "outputs": [
    {
     "name": "stderr",
     "output_type": "stream",
     "text": [
      "100%|██████████| 300/300 [00:05<00:00, 54.17it/s]\n"
     ]
    }
   ],
   "source": [
    "url_gurgaon = []\n",
    "url_gur = driver.find_elements(By.XPATH,'//div[@class=\"titlebox hover\"]/h3/a')\n",
    "l= len(url_gur)\n",
    "for i in tqdm(range(l)):\n",
    "    url_gurgaon.append(url_gur[i].get_attribute('href'))\n",
    "time.sleep(2)"
   ]
  },
  {
   "cell_type": "code",
   "execution_count": 13,
   "id": "3037eb5f",
   "metadata": {},
   "outputs": [],
   "source": [
    "car_url_chand_gur= []\n",
    "\n",
    "car_url_chand_gur = url_chandigarh+ url_gurgaon\n",
    "\n",
    "dict = {'URL': car_url_chand_gur}  \n",
    "       \n",
    "df = pd.DataFrame(dict) \n",
    "\n",
    "# saving the dataframe \n",
    "df.to_csv('car_url_chand_gur.csv') "
   ]
  },
  {
   "cell_type": "code",
   "execution_count": 14,
   "id": "4bebad3a",
   "metadata": {},
   "outputs": [
    {
     "data": {
      "text/plain": [
       "483"
      ]
     },
     "execution_count": 14,
     "metadata": {},
     "output_type": "execute_result"
    }
   ],
   "source": [
    "len(car_url_chand_gur)"
   ]
  },
  {
   "cell_type": "markdown",
   "id": "eab0859b",
   "metadata": {},
   "source": [
    "### Scraping for further details:"
   ]
  },
  {
   "cell_type": "code",
   "execution_count": 32,
   "id": "aaed3af7",
   "metadata": {},
   "outputs": [],
   "source": [
    "df1 = pd.read_csv(r'car_url_ahm_ban_che_del.csv')\n",
    "df2=  pd.read_csv(r'car_url_agra_hyd_jai_kol_mum_pune_luck.csv')\n",
    "df3=  pd.read_csv(r'car_url_chand_gur.csv')"
   ]
  },
  {
   "cell_type": "code",
   "execution_count": 33,
   "id": "06117dbc",
   "metadata": {},
   "outputs": [
    {
     "data": {
      "text/html": [
       "<div>\n",
       "<style scoped>\n",
       "    .dataframe tbody tr th:only-of-type {\n",
       "        vertical-align: middle;\n",
       "    }\n",
       "\n",
       "    .dataframe tbody tr th {\n",
       "        vertical-align: top;\n",
       "    }\n",
       "\n",
       "    .dataframe thead th {\n",
       "        text-align: right;\n",
       "    }\n",
       "</style>\n",
       "<table border=\"1\" class=\"dataframe\">\n",
       "  <thead>\n",
       "    <tr style=\"text-align: right;\">\n",
       "      <th></th>\n",
       "      <th>Unnamed: 0</th>\n",
       "      <th>URL</th>\n",
       "    </tr>\n",
       "  </thead>\n",
       "  <tbody>\n",
       "    <tr>\n",
       "      <th>0</th>\n",
       "      <td>0</td>\n",
       "      <td>https://www.cardekho.com/buy-used-car-details/...</td>\n",
       "    </tr>\n",
       "    <tr>\n",
       "      <th>1</th>\n",
       "      <td>1</td>\n",
       "      <td>https://www.cardekho.com/buy-used-car-details/...</td>\n",
       "    </tr>\n",
       "    <tr>\n",
       "      <th>2</th>\n",
       "      <td>2</td>\n",
       "      <td>https://www.cardekho.com/buy-used-car-details/...</td>\n",
       "    </tr>\n",
       "    <tr>\n",
       "      <th>3</th>\n",
       "      <td>3</td>\n",
       "      <td>https://www.cardekho.com/buy-used-car-details/...</td>\n",
       "    </tr>\n",
       "    <tr>\n",
       "      <th>4</th>\n",
       "      <td>4</td>\n",
       "      <td>https://www.cardekho.com/buy-used-car-details/...</td>\n",
       "    </tr>\n",
       "  </tbody>\n",
       "</table>\n",
       "</div>"
      ],
      "text/plain": [
       "   Unnamed: 0                                                URL\n",
       "0           0  https://www.cardekho.com/buy-used-car-details/...\n",
       "1           1  https://www.cardekho.com/buy-used-car-details/...\n",
       "2           2  https://www.cardekho.com/buy-used-car-details/...\n",
       "3           3  https://www.cardekho.com/buy-used-car-details/...\n",
       "4           4  https://www.cardekho.com/buy-used-car-details/..."
      ]
     },
     "execution_count": 33,
     "metadata": {},
     "output_type": "execute_result"
    }
   ],
   "source": [
    "final_car_url = pd.concat([df1, df2, df3])\n",
    "final_car_url. head()"
   ]
  },
  {
   "cell_type": "code",
   "execution_count": 34,
   "id": "f13286fd",
   "metadata": {},
   "outputs": [],
   "source": [
    "final_url = pd.DataFrame({})\n",
    "final_url['URLs'] = final_car_url['URL']\n",
    "final_url.to_excel('Final_Car_URL.xlsx', index = False)"
   ]
  },
  {
   "cell_type": "markdown",
   "id": "4489b11a",
   "metadata": {},
   "source": [
    "## Final scraping:"
   ]
  },
  {
   "cell_type": "code",
   "execution_count": 3,
   "id": "34483f1d",
   "metadata": {},
   "outputs": [],
   "source": [
    "df = pd.read_excel('Final_Car_URL.xlsx')"
   ]
  },
  {
   "cell_type": "code",
   "execution_count": 4,
   "id": "dcfd4a1f",
   "metadata": {},
   "outputs": [
    {
     "data": {
      "text/plain": [
       "(7071, 1)"
      ]
     },
     "execution_count": 4,
     "metadata": {},
     "output_type": "execute_result"
    }
   ],
   "source": [
    "df.shape"
   ]
  },
  {
   "cell_type": "code",
   "execution_count": 6,
   "id": "36468027",
   "metadata": {},
   "outputs": [],
   "source": [
    "# Making Empty lists\n",
    "\n",
    "Model = []\n",
    "Manufactring_year =[]\n",
    "KMs_driven = []\n",
    "Fuel_Type = []\n",
    "Ownership= []\n",
    "Price = []\n",
    "Transmission = []\n",
    "Insurance_Validity = []\n",
    "Seats = []\n",
    "RTO = []\n",
    "Engine_displacement = []\n",
    "Milage = []\n",
    "Max_power = []\n",
    "Torque = []\n",
    "\n",
    "Color = []\n",
    "Max_Torque = []\n",
    "Engine_Type = []\n",
    "Displacement=[]\n",
    "No_of_cylinder = []\n",
    "Turbo_charger = []\n",
    "Length = []\n",
    "Width =[]\n",
    "Height = []\n",
    "Wheel_Base = []\n",
    "Front_Tread = []\n",
    "Kerb_Weight = []\n",
    "Gear_Box =[]\n",
    "Front_Brake_Type = []\n",
    "Rear_Brake_Type = []\n",
    "Steering_Type =[]\n",
    "Tyre_Type = []"
   ]
  },
  {
   "cell_type": "code",
   "execution_count": 7,
   "id": "e0dac08c",
   "metadata": {},
   "outputs": [],
   "source": [
    "driver= webdriver.Chrome(\"chromedriver.exe\")"
   ]
  },
  {
   "cell_type": "code",
   "execution_count": 28,
   "id": "a0bda6ed",
   "metadata": {},
   "outputs": [
    {
     "name": "stderr",
     "output_type": "stream",
     "text": [
      "100%|██████████| 100/100 [23:21<00:00, 14.02s/it]\n"
     ]
    }
   ],
   "source": [
    "from tqdm import tqdm\n",
    "for i in tqdm(df['URLs'][0:100]):\n",
    "    driver.get(i)\n",
    "    time.sleep(1.5)\n",
    "    \n",
    "    # Extracting Car Model via xpath\n",
    "    try :\n",
    "        model = driver.find_elements(By.XPATH,'//div[@id=\"vdp-main\"]/div/div/div[1]/div[2]/div[1]/div/div[1]')\n",
    "        Model.append(model[0].text[5:])\n",
    "    except Exception:\n",
    "        pass\n",
    "        \n",
    "        \n",
    "    # Extracting Car Manufactring_year via xpath\n",
    "    try :\n",
    "        yr = driver.find_elements(By.XPATH,'//ul[@class=\"gsc_row detailsList\"]/li[10]/div/div/span')\n",
    "        Manufactring_year.append(yr[0].text)\n",
    "    except:\n",
    "        Manufactring_year.append('--')\n",
    "            \n",
    "    # Extracting Car KMs_driven via xpath\n",
    "    try :\n",
    "        km = driver.find_elements(By.XPATH,'//ul[@class=\"gsc_row detailsList\"]/li[5]/div/div/span')\n",
    "        KMs_driven.append(km[0].text. replace(' Kms', ''))\n",
    "    except:\n",
    "        KMs_driven.append('--')\n",
    "            \n",
    "    # Extracting Car Fuel_Type via xpath\n",
    "    try :\n",
    "        fuel = driver.find_elements(By.XPATH,'//ul[@class=\"gsc_row detailsList\"]/li[3]/div/div/span')\n",
    "        Fuel_Type.append(fuel[0].text)\n",
    "    except:\n",
    "        Fuel_Type.append('--')\n",
    "            \n",
    "    # Extracting Car Ownership via xpath\n",
    "    try :\n",
    "        own = driver.find_elements(By.XPATH,'//ul[@class=\"gsc_row detailsList\"]/li[7]/div/div/span')\n",
    "        Ownership.append(own[0].text)\n",
    "    except:\n",
    "        Ownership.append('--')\n",
    "        \n",
    "    # Extracting Car price via xpath\n",
    "    try :\n",
    "        p = driver.find_elements(By.XPATH,'//*[@id=\"vdp-main\"]/div/div/div[1]/div[2]/div[1]/div/div[3]/span')\n",
    "        Price.append(p[0].text. replace('₹ ', ''))\n",
    "    except:\n",
    "        Price.append('--')\n",
    "        \n",
    "    # Extracting Car Transmission via xpath\n",
    "    try :\n",
    "        trans = driver.find_elements(By.XPATH,'//ul[@class=\"gsc_row detailsList\"]/li[9]/div/div/span')\n",
    "        Transmission.append(trans[0].text)\n",
    "    except:\n",
    "        Transmission.append('--')\n",
    "        \n",
    "    # Extracting Car Insurance_Validity via xpath\n",
    "    try :\n",
    "        val = driver.find_elements(By.XPATH,'//*[@id=\"vdpCard-carOverview\"]/ul/li[2]/div/div/span')\n",
    "        Insurance_Validity.append(val[0].text)\n",
    "    except:\n",
    "        Insurance_Validity.append('--')\n",
    "        \n",
    "    # Extracting Car Seats via xpath\n",
    "    try :\n",
    "        seat = driver.find_elements(By.XPATH,'//*[@id=\"vdpCard-carOverview\"]/ul/li[4]/div/div/span')\n",
    "        Seats.append(seat[0].text.replace(\" Seats\", \"\"))\n",
    "    except:\n",
    "        Seats.append('--')\n",
    "        \n",
    "    # Extracting Car RTO via xpath\n",
    "    try :\n",
    "        rto = driver.find_elements(By.XPATH,'//*[@id=\"vdpCard-carOverview\"]/ul/li[6]/div/div/span')\n",
    "        RTO.append(rto[0].text)\n",
    "    except:\n",
    "        RTO.append('--')\n",
    "        \n",
    "    # Extracting Car Engine_displacement via xpath\n",
    "    try :\n",
    "        dist = driver.find_elements(By.XPATH,'//*[@id=\"vdpCard-carOverview\"]/ul/li[8]/div/div/span')\n",
    "        Engine_displacement.append(dist[0].text.replace(' cc', ''))\n",
    "    except:\n",
    "        Engine_displacement.append('--')\n",
    "        \n",
    "    # Extracting Car Milage via xpath\n",
    "    try :\n",
    "        mil = driver.find_elements(By.XPATH,'//*[@id=\"vdpCard-carFeatures\"]/ul/li[1]/div/div/span')\n",
    "        Milage.append(mil[1].text. replace(' kmpl', ''))\n",
    "    except:\n",
    "        Milage.append('--')\n",
    "        \n",
    "    # Extracting Car Max_power via xpath\n",
    "    try :\n",
    "        maxp = driver.find_elements(By.XPATH,'//*[@id=\"vdpCard-carFeatures\"]/ul/li[3]/div/div/span')\n",
    "        Max_power.append(maxp[1].text.replace('bhp', ''))\n",
    "    except:\n",
    "        Max_power.append('--')\n",
    "        \n",
    "    # Extracting Car Torque via xpath\n",
    "    try :\n",
    "        tor = driver.find_elements(By.XPATH,'//*[@id=\"vdpCard-carFeatures\"]/ul/li[4]/div/div/span')\n",
    "        Torque.append(tor[1].text.replace('Nm',''))\n",
    "    except:\n",
    "        Torque.append('--')        \n",
    "      \n",
    "        \n",
    "        \n",
    "    \n",
    "    ## Clicking on View all specifications (Engine and transmission) ##\n",
    "    try:\n",
    "        view_more = driver.find_elements(By.XPATH,'//*[@id=\"vdpCard-carFeatures\"]/div[2]/div[1]')\n",
    "        view_more[1].click()\n",
    "        time.sleep(1)\n",
    "        c= driver.find_elements(By.XPATH,'//*[@id=\"vdpCard-carFeatures\"]/div[2]/div[1]/div/h3')\n",
    "        c[0].click()\n",
    "        time.sleep(1)\n",
    "    except:\n",
    "        pass\n",
    "    \n",
    "    # Extracting Car Color via xpath\n",
    "    try :\n",
    "        col = driver.find_elements(By.XPATH,'//*[@id=\"vdpCard-carFeatures\"]/div[2]/div[1]/div/div/ul/li[1]/div/div/span')\n",
    "        Color.append(col[0].text)\n",
    "    except:\n",
    "        Color.append('--')\n",
    "        \n",
    "        # Extracting Car Max_Torque via xpath\n",
    "    try :\n",
    "        maxt = driver.find_elements(By.XPATH,'//*[@id=\"vdpCard-carFeatures\"]/div[2]/div[1]/div/div/ul/li[5]/div/div/span')\n",
    "        Max_Torque.append(maxt[0].text)\n",
    "    except:\n",
    "        Max_Torque.append('--')\n",
    "\n",
    "    # Extracting Car Engine_Type via xpath\n",
    "    try :\n",
    "        engtype = driver.find_elements(By.XPATH,'//*[@id=\"vdpCard-carFeatures\"]/div[2]/div[1]/div/div/ul/li[2]/div/div/span')\n",
    "        Engine_Type.append(engtype[0].text)\n",
    "    except:\n",
    "        Engine_Type.append('--')\n",
    "        \n",
    "    # Extracting Car No_of_cylinder via xpath\n",
    "    try :\n",
    "        cyn_no = driver.find_elements(By.XPATH,'//*[@id=\"vdpCard-carFeatures\"]/div[2]/div[1]/div/div/ul/li[6]/div/div/span')\n",
    "        No_of_cylinder.append(cyn_no[0].text)\n",
    "    except:\n",
    "        No_of_cylinder.append('--')\n",
    "        \n",
    "    # Extracting Car Turbo_charger via xpath\n",
    "    try :\n",
    "        turbo = driver.find_elements(By.XPATH,'//*[@id=\"vdpCard-carFeatures\"]/div[2]/div[1]/div/div/ul/li[10]/div/div/span')\n",
    "        Turbo_charger.append(turbo[0].text)\n",
    "    except:\n",
    "        Turbo_charger.append('--')\n",
    "        \n",
    "    # Extracting Car Displacement via xpath\n",
    "    try :\n",
    "        dis = driver.find_elements(By.XPATH,'//*[@id=\"vdpCard-carFeatures\"]/div[2]/div[1]/div/div/ul/li[3]/div/div/span')\n",
    "        Displacement.append(dis[0].text)\n",
    "    except:\n",
    "        Displacement.append('--')\n",
    "        \n",
    "        \n",
    "        \n",
    "        \n",
    "    ## Clicking on View all specifications (Dimention and capacity)##\n",
    "    try:\n",
    "        view_more = driver.find_elements(By.XPATH,'//*[@id=\"vdpCard-carFeatures\"]/div[2]/div[1]')\n",
    "        view_more[1].click()\n",
    "        time.sleep(1)\n",
    "        c= driver.find_elements(By.XPATH,'//*[@id=\"vdpCard-carFeatures\"]/div[2]/div[2]/div/h3')\n",
    "        c[0].click()\n",
    "        time.sleep(3)\n",
    "    except:\n",
    "        pass\n",
    "    \n",
    "    # Extracting Car Length via xpath\n",
    "    try :\n",
    "        leng = driver.find_elements(By.XPATH,'//*[@id=\"vdpCard-carFeatures\"]/div[2]/div[2]/div/div/ul/li[1]/div/div/span')\n",
    "        Length.append(leng[0].text)\n",
    "    except:\n",
    "        Length.append('--')\n",
    "        \n",
    "    # Extracting Car Width via xpath\n",
    "    try :\n",
    "        wid = driver.find_elements(By.XPATH,'//*[@id=\"vdpCard-carFeatures\"]/div[2]/div[2]/div/div/ul/li[2]/div/div/span')\n",
    "        Width.append(wid[0].text.replace('mm', ''))\n",
    "    except:\n",
    "        Width.append('--')\n",
    "        \n",
    "    # Extracting Car Height via xpath\n",
    "    try :\n",
    "        hei = driver.find_elements(By.XPATH,'//*[@id=\"vdpCard-carFeatures\"]/div[2]/div[2]/div/div/ul/li[3]/div/div/span')\n",
    "        Height.append(hei[0].text.replace('mm', ''))\n",
    "    except:\n",
    "        Height.append('--')\n",
    "        \n",
    "    # Extracting Car Wheel_Base via xpath\n",
    "    try :\n",
    "        wheel = driver.find_elements(By.XPATH,'//*[@id=\"vdpCard-carFeatures\"]/div[2]/div[2]/div/div/ul/li[4]/div/div/span')\n",
    "        Wheel_Base.append(wheel[0].text.replace('mm', ''))\n",
    "    except:\n",
    "        Wheel_Base.append('--')\n",
    "        \n",
    "    # Extracting Car Front_Tread via xpath\n",
    "    try :\n",
    "        front = driver.find_elements(By.XPATH,'//*[@id=\"vdpCard-carFeatures\"]/div[2]/div[2]/div/div/ul/li[5]/div/div/span')\n",
    "        Front_Tread.append(front[0].text.replace('mm', ''))\n",
    "    except:\n",
    "        Front_Tread.append('--')\n",
    "        \n",
    "    # Extracting Car Kerb_Weight via xpath\n",
    "    try :\n",
    "        kerb = driver.find_elements(By.XPATH,'//*[@id=\"vdpCard-carFeatures\"]/div[2]/div[2]/div/div/ul/li[7]/div/div/span')\n",
    "        Kerb_Weight.append(kerb[0].text.replace('kg', '').replace('Kg', ''))\n",
    "    except:\n",
    "        Kerb_Weight.append('--')\n",
    "        \n",
    "        \n",
    "        \n",
    "\n",
    "    ## Clicking on View all specifications (Miscellaneous)##\n",
    "    try:\n",
    "        view_more = driver.find_elements(By.XPATH,'//*[@id=\"vdpCard-carFeatures\"]/div[2]/div[1]')\n",
    "        view_more[1].click()\n",
    "        time.sleep(1)\n",
    "        c= driver.find_elements(By.XPATH,'//*[@id=\"vdpCard-carFeatures\"]/div[2]/div[3]/div/h3')\n",
    "        c[0].click()\n",
    "        time.sleep(3)\n",
    "    except:\n",
    "        pass\n",
    "    \n",
    "    # Extracting Car Gear_Box via xpath\n",
    "    try :\n",
    "        gear = driver.find_elements(By.XPATH,'//*[@id=\"vdpCard-carFeatures\"]/div[2]/div[3]/div/div/ul/li[1]/div/div/span')\n",
    "        Gear_Box.append(gear[0].text.replace('Speed', ''))\n",
    "    except:\n",
    "        Gear_Box.append('--')\n",
    "        \n",
    "    # Extracting Car Front_Brake_Type via xpath\n",
    "    try :\n",
    "        breakf = driver.find_elements(By.XPATH,'//*[@id=\"vdpCard-carFeatures\"]/div[2]/div[3]/div/div/ul/li[6]/div/div/span')\n",
    "        Front_Brake_Type.append(breakf[0].text)\n",
    "    except:\n",
    "        Front_Brake_Type.append('--')     \n",
    "    \n",
    "    # Extracting Car Rear_Brake_Type via xpath\n",
    "    try :\n",
    "        breakr = driver.find_elements(By.XPATH,'//*[@id=\"vdpCard-carFeatures\"]/div[2]/div[3]/div/div/ul/li[7]/div/div/span')\n",
    "        Rear_Brake_Type.append(breakr[0].text)\n",
    "    except:\n",
    "        Rear_Brake_Type.append('--')\n",
    "        \n",
    "    # Extracting Car Steering_Type via xpath\n",
    "    try :\n",
    "        ste = driver.find_elements(By.XPATH,'//*[@id=\"vdpCard-carFeatures\"]/div[2]/div[3]/div/div/ul/li[4]/div/div/span')\n",
    "        Steering_Type.append(ste[0].text)\n",
    "    except:\n",
    "        Steering_Type.append('--')\n",
    "        \n",
    "    # Extracting Car Tyre_Type via xpath\n",
    "    try :\n",
    "        tyre = driver.find_elements(By.XPATH,'//*[@id=\"vdpCard-carFeatures\"]/div[2]/div[3]/div/div/ul/li[10]/div/div/span')\n",
    "        Tyre_Type.append(tyre[0].text)\n",
    "    except:\n",
    "        Tyre_Type.append('--')"
   ]
  },
  {
   "cell_type": "code",
   "execution_count": 29,
   "id": "1606b772",
   "metadata": {},
   "outputs": [
    {
     "data": {
      "text/html": [
       "<div>\n",
       "<style scoped>\n",
       "    .dataframe tbody tr th:only-of-type {\n",
       "        vertical-align: middle;\n",
       "    }\n",
       "\n",
       "    .dataframe tbody tr th {\n",
       "        vertical-align: top;\n",
       "    }\n",
       "\n",
       "    .dataframe thead th {\n",
       "        text-align: right;\n",
       "    }\n",
       "</style>\n",
       "<table border=\"1\" class=\"dataframe\">\n",
       "  <thead>\n",
       "    <tr style=\"text-align: right;\">\n",
       "      <th></th>\n",
       "      <th>Model</th>\n",
       "      <th>Manufactring_year</th>\n",
       "      <th>KMs_driven</th>\n",
       "      <th>Fuel_Type</th>\n",
       "      <th>Ownership</th>\n",
       "      <th>Transmission</th>\n",
       "      <th>Insurance_Validity</th>\n",
       "      <th>Seats</th>\n",
       "      <th>RTO</th>\n",
       "      <th>Engine_displacement</th>\n",
       "      <th>Milage</th>\n",
       "      <th>Max_power</th>\n",
       "      <th>Torque</th>\n",
       "      <th>Color</th>\n",
       "      <th>Max_Torque</th>\n",
       "      <th>Engine_Type</th>\n",
       "      <th>Displacement</th>\n",
       "      <th>No_of_cylinder</th>\n",
       "      <th>Turbo_charger</th>\n",
       "      <th>Length</th>\n",
       "      <th>Width</th>\n",
       "      <th>Height</th>\n",
       "      <th>Wheel_Base</th>\n",
       "      <th>Front_Tread</th>\n",
       "      <th>Kerb_Weight</th>\n",
       "      <th>Gear_Box</th>\n",
       "      <th>Front_Brake_Type</th>\n",
       "      <th>Rear_Brake_Type</th>\n",
       "      <th>Steering_Type</th>\n",
       "      <th>Tyre_Type</th>\n",
       "      <th>Price</th>\n",
       "    </tr>\n",
       "  </thead>\n",
       "  <tbody>\n",
       "    <tr>\n",
       "      <th>79</th>\n",
       "      <td>Honda Amaze V Petrol BSIV</td>\n",
       "      <td>2019</td>\n",
       "      <td>19,000</td>\n",
       "      <td>Petrol</td>\n",
       "      <td>First Owner</td>\n",
       "      <td>Manual</td>\n",
       "      <td>Comprehensive</td>\n",
       "      <td>5</td>\n",
       "      <td>GJ01</td>\n",
       "      <td>796</td>\n",
       "      <td>22.05</td>\n",
       "      <td>47.33</td>\n",
       "      <td>69</td>\n",
       "      <td>White</td>\n",
       "      <td>69Nm@3500rpm</td>\n",
       "      <td>F8D Petrol Engine</td>\n",
       "      <td>796</td>\n",
       "      <td>3</td>\n",
       "      <td>--</td>\n",
       "      <td>3445</td>\n",
       "      <td>1515</td>\n",
       "      <td>1475</td>\n",
       "      <td>2360</td>\n",
       "      <td>1295</td>\n",
       "      <td>755</td>\n",
       "      <td>5</td>\n",
       "      <td>Tubeless Tyres</td>\n",
       "      <td>Tubeless Tyres</td>\n",
       "      <td>Disc</td>\n",
       "      <td>--</td>\n",
       "      <td>3.50 Lakh</td>\n",
       "    </tr>\n",
       "    <tr>\n",
       "      <th>46</th>\n",
       "      <td>Honda City i VTEC S</td>\n",
       "      <td>2016</td>\n",
       "      <td>47,618</td>\n",
       "      <td>Petrol</td>\n",
       "      <td>First Owner</td>\n",
       "      <td>Manual</td>\n",
       "      <td>Zero Dep</td>\n",
       "      <td>5</td>\n",
       "      <td>GJ01</td>\n",
       "      <td>998</td>\n",
       "      <td>20.51</td>\n",
       "      <td>67.04</td>\n",
       "      <td>90</td>\n",
       "      <td>White</td>\n",
       "      <td>90Nm@3500rpm</td>\n",
       "      <td>K10B Petrol Engine</td>\n",
       "      <td>998</td>\n",
       "      <td>3</td>\n",
       "      <td>No</td>\n",
       "      <td>3599mm</td>\n",
       "      <td>1495</td>\n",
       "      <td>1700</td>\n",
       "      <td>2400</td>\n",
       "      <td>1295</td>\n",
       "      <td>885</td>\n",
       "      <td>5</td>\n",
       "      <td>Ventilated Disc</td>\n",
       "      <td>Ventilated Disc</td>\n",
       "      <td>Power</td>\n",
       "      <td>Tubeless Tyres</td>\n",
       "      <td>3.24 Lakh</td>\n",
       "    </tr>\n",
       "    <tr>\n",
       "      <th>35</th>\n",
       "      <td>Honda BR-V i-DTEC V MT</td>\n",
       "      <td>2016</td>\n",
       "      <td>30,983</td>\n",
       "      <td>Petrol</td>\n",
       "      <td>First Owner</td>\n",
       "      <td>Manual</td>\n",
       "      <td>Third Party insurance</td>\n",
       "      <td>5</td>\n",
       "      <td>GJ01</td>\n",
       "      <td>796</td>\n",
       "      <td>22.74</td>\n",
       "      <td>47.3</td>\n",
       "      <td>69</td>\n",
       "      <td>Superior white</td>\n",
       "      <td>69Nm@3500rpm</td>\n",
       "      <td>F8D Petrol Engine</td>\n",
       "      <td>796</td>\n",
       "      <td>3</td>\n",
       "      <td>No</td>\n",
       "      <td>3395mm</td>\n",
       "      <td>1490</td>\n",
       "      <td>1475</td>\n",
       "      <td>2360</td>\n",
       "      <td>1295</td>\n",
       "      <td>720</td>\n",
       "      <td>5</td>\n",
       "      <td>Solid Disc</td>\n",
       "      <td>Solid Disc</td>\n",
       "      <td>Power</td>\n",
       "      <td>Tubeless Tyres</td>\n",
       "      <td>2.98 Lakh</td>\n",
       "    </tr>\n",
       "    <tr>\n",
       "      <th>65</th>\n",
       "      <td>Honda City i DTEC V</td>\n",
       "      <td>2018</td>\n",
       "      <td>67,000</td>\n",
       "      <td>Diesel</td>\n",
       "      <td>First Owner</td>\n",
       "      <td>Manual</td>\n",
       "      <td>Comprehensive</td>\n",
       "      <td>5</td>\n",
       "      <td>GJ01</td>\n",
       "      <td>1582</td>\n",
       "      <td>19.67</td>\n",
       "      <td>126.2</td>\n",
       "      <td>259.9</td>\n",
       "      <td>Blue</td>\n",
       "      <td>259.9Nm@1900-2750rpm</td>\n",
       "      <td>U2 CRDI VGT Engine</td>\n",
       "      <td>1582</td>\n",
       "      <td>4</td>\n",
       "      <td>Yes</td>\n",
       "      <td>4270mm</td>\n",
       "      <td>1780</td>\n",
       "      <td>1630</td>\n",
       "      <td>2590</td>\n",
       "      <td>--</td>\n",
       "      <td>--</td>\n",
       "      <td>6</td>\n",
       "      <td>Disc</td>\n",
       "      <td>Disc</td>\n",
       "      <td>Power</td>\n",
       "      <td>Tubeless</td>\n",
       "      <td>10.85 Lakh</td>\n",
       "    </tr>\n",
       "    <tr>\n",
       "      <th>55</th>\n",
       "      <td>Toyota Innova Crysta 2.4 GX MT</td>\n",
       "      <td>2019</td>\n",
       "      <td>24,000</td>\n",
       "      <td>Petrol</td>\n",
       "      <td>First Owner</td>\n",
       "      <td>Automatic</td>\n",
       "      <td>Comprehensive</td>\n",
       "      <td>5</td>\n",
       "      <td>GJ01</td>\n",
       "      <td>1199</td>\n",
       "      <td>18.2</td>\n",
       "      <td>88.7</td>\n",
       "      <td>110</td>\n",
       "      <td>White</td>\n",
       "      <td>110Nm@4800rpm</td>\n",
       "      <td>i-VTEC Petrol Engine</td>\n",
       "      <td>1199</td>\n",
       "      <td>4</td>\n",
       "      <td>No</td>\n",
       "      <td>3955 mm</td>\n",
       "      <td>1694</td>\n",
       "      <td>1544</td>\n",
       "      <td>2530</td>\n",
       "      <td>1064 Kg</td>\n",
       "      <td>--</td>\n",
       "      <td>5</td>\n",
       "      <td>Disc</td>\n",
       "      <td>Disc</td>\n",
       "      <td>Power</td>\n",
       "      <td>Tubeless,Radial</td>\n",
       "      <td>7.95 Lakh</td>\n",
       "    </tr>\n",
       "  </tbody>\n",
       "</table>\n",
       "</div>"
      ],
      "text/plain": [
       "                             Model Manufactring_year KMs_driven Fuel_Type  \\\n",
       "79       Honda Amaze V Petrol BSIV              2019     19,000    Petrol   \n",
       "46             Honda City i VTEC S              2016     47,618    Petrol   \n",
       "35          Honda BR-V i-DTEC V MT              2016     30,983    Petrol   \n",
       "65             Honda City i DTEC V              2018     67,000    Diesel   \n",
       "55  Toyota Innova Crysta 2.4 GX MT              2019     24,000    Petrol   \n",
       "\n",
       "      Ownership Transmission     Insurance_Validity Seats   RTO  \\\n",
       "79  First Owner       Manual          Comprehensive     5  GJ01   \n",
       "46  First Owner       Manual               Zero Dep     5  GJ01   \n",
       "35  First Owner       Manual  Third Party insurance     5  GJ01   \n",
       "65  First Owner       Manual          Comprehensive     5  GJ01   \n",
       "55  First Owner    Automatic          Comprehensive     5  GJ01   \n",
       "\n",
       "   Engine_displacement Milage Max_power Torque           Color  \\\n",
       "79                 796  22.05     47.33     69           White   \n",
       "46                 998  20.51     67.04     90           White   \n",
       "35                 796  22.74      47.3     69  Superior white   \n",
       "65                1582  19.67     126.2  259.9            Blue   \n",
       "55                1199   18.2      88.7    110           White   \n",
       "\n",
       "              Max_Torque           Engine_Type Displacement No_of_cylinder  \\\n",
       "79          69Nm@3500rpm     F8D Petrol Engine          796              3   \n",
       "46          90Nm@3500rpm    K10B Petrol Engine          998              3   \n",
       "35          69Nm@3500rpm     F8D Petrol Engine          796              3   \n",
       "65  259.9Nm@1900-2750rpm    U2 CRDI VGT Engine         1582              4   \n",
       "55         110Nm@4800rpm  i-VTEC Petrol Engine         1199              4   \n",
       "\n",
       "   Turbo_charger   Length  Width Height Wheel_Base Front_Tread Kerb_Weight  \\\n",
       "79            --     3445   1515   1475       2360        1295         755   \n",
       "46            No   3599mm   1495   1700       2400        1295         885   \n",
       "35            No   3395mm   1490   1475       2360        1295         720   \n",
       "65           Yes   4270mm   1780   1630       2590          --          --   \n",
       "55            No  3955 mm  1694   1544       2530      1064 Kg          --   \n",
       "\n",
       "   Gear_Box Front_Brake_Type  Rear_Brake_Type Steering_Type        Tyre_Type  \\\n",
       "79       5    Tubeless Tyres   Tubeless Tyres          Disc               --   \n",
       "46       5   Ventilated Disc  Ventilated Disc         Power   Tubeless Tyres   \n",
       "35       5        Solid Disc       Solid Disc         Power   Tubeless Tyres   \n",
       "65       6              Disc             Disc         Power         Tubeless   \n",
       "55       5              Disc             Disc         Power  Tubeless,Radial   \n",
       "\n",
       "         Price  \n",
       "79   3.50 Lakh  \n",
       "46   3.24 Lakh  \n",
       "35   2.98 Lakh  \n",
       "65  10.85 Lakh  \n",
       "55   7.95 Lakh  "
      ]
     },
     "execution_count": 29,
     "metadata": {},
     "output_type": "execute_result"
    }
   ],
   "source": [
    "data = list(zip(Model, Manufactring_year, KMs_driven, Fuel_Type,Ownership, Transmission, Insurance_Validity,\n",
    "               Seats, RTO,Engine_displacement, Milage, Max_power,  Torque,\n",
    "               Color, Max_Torque, Engine_Type, Displacement, No_of_cylinder, Turbo_charger, \n",
    "               Length, Width, Height, Wheel_Base, Front_Tread, Kerb_Weight, Gear_Box, Front_Brake_Type, \n",
    "               Rear_Brake_Type, Steering_Type, Tyre_Type, Price))\n",
    "\n",
    "Set1 = pd.DataFrame(data, columns=['Model', 'Manufactring_year', 'KMs_driven', 'Fuel_Type','Ownership', 'Transmission', \n",
    "               'Insurance_Validity','Seats', 'RTO','Engine_displacement', 'Milage', 'Max_power',  'Torque',\n",
    "               'Color', 'Max_Torque', 'Engine_Type', 'Displacement', 'No_of_cylinder', 'Turbo_charger', \n",
    "               'Length', 'Width', 'Height', 'Wheel_Base', 'Front_Tread', 'Kerb_Weight', 'Gear_Box', 'Front_Brake_Type', \n",
    "               'Rear_Brake_Type', 'Steering_Type', 'Tyre_Type', 'Price'])\n",
    "\n",
    "pd.set_option('display.max_columns', 35)\n",
    "Set1.sample(n=5)"
   ]
  },
  {
   "cell_type": "code",
   "execution_count": 30,
   "id": "3f5715f1",
   "metadata": {},
   "outputs": [
    {
     "data": {
      "text/plain": [
       "(93, 31)"
      ]
     },
     "execution_count": 30,
     "metadata": {},
     "output_type": "execute_result"
    }
   ],
   "source": [
    "# saving the dataframe \n",
    "Set1.to_csv('Set1.csv') \n",
    "Set1.shape"
   ]
  },
  {
   "cell_type": "markdown",
   "id": "73d5908a",
   "metadata": {},
   "source": [
    "### By this way , let's scrape all car's details from the corrosponding URL.\n",
    "### From Next sets of data same code of Set1 is Re-Run again and again.\n",
    "\n",
    "Let's check the shape of all the 15sets of scrapped data. Then concate them to get the final model."
   ]
  },
  {
   "cell_type": "code",
   "execution_count": 13,
   "id": "d7d75137",
   "metadata": {},
   "outputs": [],
   "source": [
    "df1 = pd.read_csv(r'Set1.csv')\n",
    "df2 = pd.read_csv(r'Set2.csv')\n",
    "df3 = pd.read_csv(r'Set3.csv')\n",
    "df4 = pd.read_csv(r'Set4.csv')\n",
    "df5 = pd.read_csv(r'Set5.csv')\n",
    "df6 = pd.read_csv(r'Set6.csv')\n",
    "df7 = pd.read_csv(r'Set7.csv')\n",
    "df8 = pd.read_csv(r'Set8.csv')\n",
    "df9 = pd.read_csv(r'Set9.csv')\n",
    "df10 = pd.read_csv(r'Set10.csv')\n",
    "df11 = pd.read_csv(r'Set11.csv')\n",
    "df12 = pd.read_csv(r'Set12.csv')\n",
    "df13 = pd.read_csv(r'Set13.csv')\n",
    "df14 = pd.read_csv(r'Set14.csv')\n",
    "df15 = pd.read_csv(r'Set15.csv')"
   ]
  },
  {
   "cell_type": "code",
   "execution_count": 15,
   "id": "891271e2",
   "metadata": {},
   "outputs": [
    {
     "name": "stdout",
     "output_type": "stream",
     "text": [
      "Shape of df1 is : (93, 32)\n",
      "Shape of df2 is : (348, 32)\n",
      "Shape of df3 is : (464, 32)\n",
      "Shape of df4 is : (439, 32)\n",
      "Shape of df5 is : (422, 32)\n",
      "Shape of df6 is : (421, 32)\n",
      "Shape of df7 is : (448, 32)\n",
      "Shape of df8 is : (449, 32)\n",
      "Shape of df9 is : (451, 32)\n",
      "Shape of df10 is : (456, 32)\n",
      "Shape of df11 is : (407, 32)\n",
      "Shape of df12 is : (446, 32)\n",
      "Shape of df13 is : (439, 32)\n",
      "Shape of df14 is : (455, 32)\n",
      "Shape of df15 is : (458, 32)\n"
     ]
    }
   ],
   "source": [
    "print ('Shape of df1 is :', df1.shape)\n",
    "print ('Shape of df2 is :' ,df2.shape)\n",
    "print ('Shape of df3 is :' ,df3.shape)\n",
    "print ('Shape of df4 is :' ,df4.shape)\n",
    "print ('Shape of df5 is :' ,df5.shape)\n",
    "print ('Shape of df6 is :' ,df6.shape)\n",
    "print ('Shape of df7 is :' ,df7.shape)\n",
    "print ('Shape of df8 is :' ,df8.shape)\n",
    "print ('Shape of df9 is :' ,df9.shape)\n",
    "print ('Shape of df10 is :' ,df10.shape)\n",
    "print ('Shape of df11 is :' ,df11.shape)\n",
    "print ('Shape of df12 is :' ,df12.shape)\n",
    "print ('Shape of df13 is :' ,df13.shape)\n",
    "print ('Shape of df14 is :' ,df14.shape)\n",
    "print ('Shape of df15 is :' ,df15.shape)"
   ]
  },
  {
   "cell_type": "code",
   "execution_count": 16,
   "id": "9b4633ca",
   "metadata": {},
   "outputs": [
    {
     "data": {
      "text/plain": [
       "(6196, 32)"
      ]
     },
     "execution_count": 16,
     "metadata": {},
     "output_type": "execute_result"
    }
   ],
   "source": [
    "Final_Scraped_Details= pd.concat([df1,df2,df3,df4,df5,df6,df7,df8,df9,df10,df11,df12,df13,df14,df15], axis=0)\n",
    "Final_Scraped_Details.shape"
   ]
  },
  {
   "cell_type": "code",
   "execution_count": 18,
   "id": "3332264d",
   "metadata": {},
   "outputs": [],
   "source": [
    "Final_Scraped_Details.to_excel('Final_Scraped_Details.xlsx', index = False)"
   ]
  },
  {
   "cell_type": "code",
   "execution_count": 21,
   "id": "019d34e7",
   "metadata": {},
   "outputs": [
    {
     "data": {
      "text/html": [
       "<div>\n",
       "<style scoped>\n",
       "    .dataframe tbody tr th:only-of-type {\n",
       "        vertical-align: middle;\n",
       "    }\n",
       "\n",
       "    .dataframe tbody tr th {\n",
       "        vertical-align: top;\n",
       "    }\n",
       "\n",
       "    .dataframe thead th {\n",
       "        text-align: right;\n",
       "    }\n",
       "</style>\n",
       "<table border=\"1\" class=\"dataframe\">\n",
       "  <thead>\n",
       "    <tr style=\"text-align: right;\">\n",
       "      <th></th>\n",
       "      <th>Unnamed: 0</th>\n",
       "      <th>Model</th>\n",
       "      <th>Manufactring_year</th>\n",
       "      <th>KMs_driven</th>\n",
       "      <th>Fuel_Type</th>\n",
       "      <th>Ownership</th>\n",
       "      <th>Transmission</th>\n",
       "      <th>Insurance_Validity</th>\n",
       "      <th>Seats</th>\n",
       "      <th>RTO</th>\n",
       "      <th>Engine_displacement</th>\n",
       "      <th>Milage</th>\n",
       "      <th>Max_power</th>\n",
       "      <th>Torque</th>\n",
       "      <th>Color</th>\n",
       "      <th>Max_Torque</th>\n",
       "      <th>Engine_Type</th>\n",
       "      <th>Displacement</th>\n",
       "      <th>No_of_cylinder</th>\n",
       "      <th>Turbo_charger</th>\n",
       "      <th>Length</th>\n",
       "      <th>Width</th>\n",
       "      <th>Height</th>\n",
       "      <th>Wheel_Base</th>\n",
       "      <th>Front_Tread</th>\n",
       "      <th>Kerb_Weight</th>\n",
       "      <th>Gear_Box</th>\n",
       "      <th>Front_Brake_Type</th>\n",
       "      <th>Rear_Brake_Type</th>\n",
       "      <th>Steering_Type</th>\n",
       "      <th>Tyre_Type</th>\n",
       "      <th>Price</th>\n",
       "    </tr>\n",
       "  </thead>\n",
       "  <tbody>\n",
       "    <tr>\n",
       "      <th>4636</th>\n",
       "      <td>238</td>\n",
       "      <td>Honda City i VTEC V</td>\n",
       "      <td>2011</td>\n",
       "      <td>1,09,543</td>\n",
       "      <td>Diesel</td>\n",
       "      <td>First Owner</td>\n",
       "      <td>Automatic</td>\n",
       "      <td>Third Party</td>\n",
       "      <td>5</td>\n",
       "      <td>MH01</td>\n",
       "      <td>1968</td>\n",
       "      <td>18.33</td>\n",
       "      <td>167.7</td>\n",
       "      <td>350</td>\n",
       "      <td>Grey</td>\n",
       "      <td>350Nm@1750-2500rpm</td>\n",
       "      <td>TDI Engine</td>\n",
       "      <td>1968</td>\n",
       "      <td>4</td>\n",
       "      <td>Yes</td>\n",
       "      <td>4769mm</td>\n",
       "      <td>1820</td>\n",
       "      <td>1470</td>\n",
       "      <td>2711</td>\n",
       "      <td>1546</td>\n",
       "      <td>1605</td>\n",
       "      <td>6</td>\n",
       "      <td>Disc</td>\n",
       "      <td>Disc</td>\n",
       "      <td>Power</td>\n",
       "      <td>4</td>\n",
       "      <td>4.75 Lakh</td>\n",
       "    </tr>\n",
       "    <tr>\n",
       "      <th>4230</th>\n",
       "      <td>239</td>\n",
       "      <td>Mercedes-Benz C-Class Cabriolet C 300</td>\n",
       "      <td>--</td>\n",
       "      <td>--</td>\n",
       "      <td>--</td>\n",
       "      <td>--</td>\n",
       "      <td>--</td>\n",
       "      <td>--</td>\n",
       "      <td>--</td>\n",
       "      <td>--</td>\n",
       "      <td>--</td>\n",
       "      <td>--</td>\n",
       "      <td>--</td>\n",
       "      <td>--</td>\n",
       "      <td>--</td>\n",
       "      <td>--</td>\n",
       "      <td>--</td>\n",
       "      <td>--</td>\n",
       "      <td>--</td>\n",
       "      <td>--</td>\n",
       "      <td>--</td>\n",
       "      <td>--</td>\n",
       "      <td>--</td>\n",
       "      <td>--</td>\n",
       "      <td>--</td>\n",
       "      <td>--</td>\n",
       "      <td>--</td>\n",
       "      <td>--</td>\n",
       "      <td>--</td>\n",
       "      <td>--</td>\n",
       "      <td>--</td>\n",
       "      <td>--</td>\n",
       "    </tr>\n",
       "    <tr>\n",
       "      <th>2156</th>\n",
       "      <td>390</td>\n",
       "      <td>Maruti Wagon R LXI CNG Optional</td>\n",
       "      <td>2017</td>\n",
       "      <td>46,000</td>\n",
       "      <td>Petrol</td>\n",
       "      <td>First Owner</td>\n",
       "      <td>Manual</td>\n",
       "      <td>Third Party</td>\n",
       "      <td>5</td>\n",
       "      <td>DL1C</td>\n",
       "      <td>1198</td>\n",
       "      <td>18.06</td>\n",
       "      <td>74.93</td>\n",
       "      <td>104</td>\n",
       "      <td>White</td>\n",
       "      <td>104Nm@4000rpm</td>\n",
       "      <td>XH5 In-Line Petrol Engine</td>\n",
       "      <td>1198</td>\n",
       "      <td>3</td>\n",
       "      <td>78 X 83.6mm</td>\n",
       "      <td>3805mm</td>\n",
       "      <td>1665</td>\n",
       "      <td>1530</td>\n",
       "      <td>2450</td>\n",
       "      <td>--</td>\n",
       "      <td>--</td>\n",
       "      <td>5</td>\n",
       "      <td>Ventilated Disc</td>\n",
       "      <td>Ventilated Disc</td>\n",
       "      <td>Power</td>\n",
       "      <td>Tubeless,Radial</td>\n",
       "      <td>3.30 Lakh</td>\n",
       "    </tr>\n",
       "    <tr>\n",
       "      <th>3679</th>\n",
       "      <td>144</td>\n",
       "      <td>Honda Amaze S i-DTEC</td>\n",
       "      <td>2021</td>\n",
       "      <td>7,797</td>\n",
       "      <td>Petrol</td>\n",
       "      <td>First Owner</td>\n",
       "      <td>Manual</td>\n",
       "      <td>Comprehensive</td>\n",
       "      <td>6</td>\n",
       "      <td>WB12</td>\n",
       "      <td>1999</td>\n",
       "      <td>14.5</td>\n",
       "      <td>156.9</td>\n",
       "      <td>191nm</td>\n",
       "      <td>Black</td>\n",
       "      <td>191nm@4500rpm</td>\n",
       "      <td>2.0L Petrol Engine</td>\n",
       "      <td>1999</td>\n",
       "      <td>4</td>\n",
       "      <td>No</td>\n",
       "      <td>4500</td>\n",
       "      <td>1790</td>\n",
       "      <td>1675</td>\n",
       "      <td>2760</td>\n",
       "      <td>--</td>\n",
       "      <td>--</td>\n",
       "      <td>6</td>\n",
       "      <td>Radial, Tubeless</td>\n",
       "      <td>Radial, Tubeless</td>\n",
       "      <td>Disc</td>\n",
       "      <td>--</td>\n",
       "      <td>15.25 Lakh</td>\n",
       "    </tr>\n",
       "    <tr>\n",
       "      <th>1544</th>\n",
       "      <td>200</td>\n",
       "      <td>Maruti SX4 S Cross Delta DDiS 200 SH</td>\n",
       "      <td>2009</td>\n",
       "      <td>65,000</td>\n",
       "      <td>Diesel</td>\n",
       "      <td>First Owner</td>\n",
       "      <td>Manual</td>\n",
       "      <td>Third Party insurance</td>\n",
       "      <td>8</td>\n",
       "      <td>TN21</td>\n",
       "      <td>2179</td>\n",
       "      <td>14.5</td>\n",
       "      <td>120</td>\n",
       "      <td>25.5</td>\n",
       "      <td>Silver</td>\n",
       "      <td>25.5 @ 1,500-3,000 (kgm@rpm)</td>\n",
       "      <td>In-Line Engine</td>\n",
       "      <td>2179</td>\n",
       "      <td>4</td>\n",
       "      <td>Yes</td>\n",
       "      <td>4,421 mm</td>\n",
       "      <td>1,780</td>\n",
       "      <td>1,940</td>\n",
       "      <td>2,550</td>\n",
       "      <td>1,496</td>\n",
       "      <td>1,940</td>\n",
       "      <td>5</td>\n",
       "      <td>Drum</td>\n",
       "      <td>Drum</td>\n",
       "      <td>5.25 m</td>\n",
       "      <td>--</td>\n",
       "      <td>2.25 Lakh</td>\n",
       "    </tr>\n",
       "  </tbody>\n",
       "</table>\n",
       "</div>"
      ],
      "text/plain": [
       "      Unnamed: 0                                  Model Manufactring_year  \\\n",
       "4636         238                    Honda City i VTEC V              2011   \n",
       "4230         239  Mercedes-Benz C-Class Cabriolet C 300                --   \n",
       "2156         390        Maruti Wagon R LXI CNG Optional              2017   \n",
       "3679         144                   Honda Amaze S i-DTEC              2021   \n",
       "1544         200   Maruti SX4 S Cross Delta DDiS 200 SH              2009   \n",
       "\n",
       "     KMs_driven Fuel_Type    Ownership Transmission     Insurance_Validity  \\\n",
       "4636   1,09,543    Diesel  First Owner    Automatic            Third Party   \n",
       "4230         --        --           --           --                     --   \n",
       "2156     46,000    Petrol  First Owner       Manual            Third Party   \n",
       "3679      7,797    Petrol  First Owner       Manual          Comprehensive   \n",
       "1544     65,000    Diesel  First Owner       Manual  Third Party insurance   \n",
       "\n",
       "     Seats   RTO Engine_displacement Milage Max_power Torque   Color  \\\n",
       "4636     5  MH01                1968  18.33     167.7    350    Grey   \n",
       "4230    --    --                  --     --        --     --      --   \n",
       "2156     5  DL1C                1198  18.06     74.93    104   White   \n",
       "3679     6  WB12                1999   14.5     156.9  191nm   Black   \n",
       "1544     8  TN21                2179   14.5       120   25.5  Silver   \n",
       "\n",
       "                        Max_Torque                Engine_Type Displacement  \\\n",
       "4636            350Nm@1750-2500rpm                 TDI Engine         1968   \n",
       "4230                            --                         --           --   \n",
       "2156                 104Nm@4000rpm  XH5 In-Line Petrol Engine         1198   \n",
       "3679                 191nm@4500rpm         2.0L Petrol Engine         1999   \n",
       "1544  25.5 @ 1,500-3,000 (kgm@rpm)             In-Line Engine         2179   \n",
       "\n",
       "     No_of_cylinder Turbo_charger    Length   Width  Height Wheel_Base  \\\n",
       "4636              4           Yes    4769mm    1820    1470       2711   \n",
       "4230             --            --        --      --      --         --   \n",
       "2156              3   78 X 83.6mm    3805mm    1665    1530       2450   \n",
       "3679              4            No      4500    1790    1675       2760   \n",
       "1544              4           Yes  4,421 mm  1,780   1,940      2,550    \n",
       "\n",
       "     Front_Tread Kerb_Weight Gear_Box  Front_Brake_Type   Rear_Brake_Type  \\\n",
       "4636        1546        1605       6               Disc              Disc   \n",
       "4230          --          --       --                --                --   \n",
       "2156          --          --       5    Ventilated Disc   Ventilated Disc   \n",
       "3679          --          --       6   Radial, Tubeless  Radial, Tubeless   \n",
       "1544      1,496       1,940        5               Drum              Drum   \n",
       "\n",
       "     Steering_Type        Tyre_Type       Price  \n",
       "4636         Power                4   4.75 Lakh  \n",
       "4230            --               --          --  \n",
       "2156         Power  Tubeless,Radial   3.30 Lakh  \n",
       "3679          Disc               --  15.25 Lakh  \n",
       "1544        5.25 m               --   2.25 Lakh  "
      ]
     },
     "execution_count": 21,
     "metadata": {},
     "output_type": "execute_result"
    }
   ],
   "source": [
    "data = pd.read_excel('Final_Scraped_Details.xlsx')\n",
    "data.sample(n=5)"
   ]
  },
  {
   "cell_type": "code",
   "execution_count": null,
   "id": "5a7499df",
   "metadata": {},
   "outputs": [],
   "source": []
  }
 ],
 "metadata": {
  "kernelspec": {
   "display_name": "Python 3 (ipykernel)",
   "language": "python",
   "name": "python3"
  },
  "language_info": {
   "codemirror_mode": {
    "name": "ipython",
    "version": 3
   },
   "file_extension": ".py",
   "mimetype": "text/x-python",
   "name": "python",
   "nbconvert_exporter": "python",
   "pygments_lexer": "ipython3",
   "version": "3.9.12"
  }
 },
 "nbformat": 4,
 "nbformat_minor": 5
}
